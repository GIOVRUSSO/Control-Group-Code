{
 "cells": [
  {
   "cell_type": "code",
   "execution_count": 50,
   "metadata": {},
   "outputs": [],
   "source": [
    "import dropbox\n",
    "import datetime\n",
    "import schedule\n",
    "import numpy as np\n",
    "import string\n",
    "import requests\n",
    "\n",
    "from threading import Timer\n",
    "import time\n",
    "import sys\n",
    "\n",
    "import csv\n",
    "\n",
    "\n",
    "import math\n",
    "import random\n",
    "import matplotlib as mpl\n",
    "import matplotlib.pyplot as plt\n",
    "import os\n",
    "\n",
    "import matplotlib.dates as mdate\n",
    "\n",
    "from matplotlib.ticker import MultipleLocator\n",
    "from matplotlib.ticker import FormatStrFormatter\n"
   ]
  },
  {
   "cell_type": "code",
   "execution_count": 2,
   "metadata": {},
   "outputs": [
    {
     "name": "stdout",
     "output_type": "stream",
     "text": [
      "Successful Downloading /Apps/E4Link/IBI/IBIData2019-07-26-22-16.txt from Dropbox, overwriting C:\\FINAL_PROJECT\\IBI_Files\\IBIData2019-07-26-22-16.txt...\n",
      "The average IBI value(s): 0.920131414 \n",
      "The heart beat rate(bpm): 65 \n",
      "\n",
      "Successful Downloading /Apps/E4Link/IBI/IBIData2019-07-26-22-17.txt from Dropbox, overwriting C:\\FINAL_PROJECT\\IBI_Files\\IBIData2019-07-26-22-17.txt...\n",
      "The average IBI value(s): 0.7766899735294119 \n",
      "The heart beat rate(bpm): 77 \n",
      "\n",
      "Successful Downloading /Apps/E4Link/IBI/IBIData2019-07-26-22-18.txt from Dropbox, overwriting C:\\FINAL_PROJECT\\IBI_Files\\IBIData2019-07-26-22-18.txt...\n",
      "The average IBI value(s): 0.8229543366666666 \n",
      "The heart beat rate(bpm): 72 \n",
      "\n",
      "Successful Downloading /Apps/E4Link/IBI/IBIData2019-07-26-22-20.txt from Dropbox, overwriting C:\\FINAL_PROJECT\\IBI_Files\\IBIData2019-07-26-22-20.txt...\n",
      "The average IBI value(s): 0.9375429158620691 \n",
      "The heart beat rate(bpm): 63 \n",
      "\n",
      "Successful Downloading /Apps/E4Link/IBI/IBIData2019-07-26-22-21.txt from Dropbox, overwriting C:\\FINAL_PROJECT\\IBI_Files\\IBIData2019-07-26-22-21.txt...\n",
      "The average IBI value(s): 0.9483941155555554 \n",
      "The heart beat rate(bpm): 63 \n",
      "\n",
      "Successful Downloading /Apps/E4Link/IBI/IBIData2019-07-26-22-22.txt from Dropbox, overwriting C:\\FINAL_PROJECT\\IBI_Files\\IBIData2019-07-26-22-22.txt...\n",
      "The average IBI value(s): 0.9569797892682932 \n",
      "The heart beat rate(bpm): 62 \n",
      "\n",
      "Successful Downloading /Apps/E4Link/IBI/IBIData2019-07-26-22-23.txt from Dropbox, overwriting C:\\FINAL_PROJECT\\IBI_Files\\IBIData2019-07-26-22-23.txt...\n",
      "The average IBI value(s): 1.0066748675757575 \n",
      "The heart beat rate(bpm): 59 \n",
      "\n",
      "IBIData2019-07-26-22-24.txt current is not exsit\n",
      "Successful Downloading /Apps/E4Link/IBI/IBIData2019-07-26-22-25.txt from Dropbox, overwriting C:\\FINAL_PROJECT\\IBI_Files\\IBIData2019-07-26-22-25.txt...\n",
      "The average IBI value(s): 0.9464718971428573 \n",
      "The heart beat rate(bpm): 63 \n",
      "\n"
     ]
    },
    {
     "ename": "KeyboardInterrupt",
     "evalue": "",
     "output_type": "error",
     "traceback": [
      "\u001b[1;31m---------------------------------------------------------------------------\u001b[0m",
      "\u001b[1;31mKeyboardInterrupt\u001b[0m                         Traceback (most recent call last)",
      "\u001b[1;32m<ipython-input-2-4c9e77a3cb94>\u001b[0m in \u001b[0;36m<module>\u001b[1;34m\u001b[0m\n\u001b[0;32m     72\u001b[0m \u001b[1;33m\u001b[0m\u001b[0m\n\u001b[0;32m     73\u001b[0m \u001b[1;32mif\u001b[0m \u001b[0m__name__\u001b[0m \u001b[1;33m==\u001b[0m \u001b[1;34m\"__main__\"\u001b[0m\u001b[1;33m:\u001b[0m\u001b[1;33m\u001b[0m\u001b[1;33m\u001b[0m\u001b[0m\n\u001b[1;32m---> 74\u001b[1;33m     \u001b[0mHR_E4file\u001b[0m \u001b[1;33m=\u001b[0m \u001b[0mHR_Getting\u001b[0m\u001b[1;33m.\u001b[0m\u001b[0mbodyE4\u001b[0m\u001b[1;33m(\u001b[0m\u001b[1;33m)\u001b[0m\u001b[1;33m\u001b[0m\u001b[1;33m\u001b[0m\u001b[0m\n\u001b[0m\u001b[0;32m     75\u001b[0m     \u001b[0mprint\u001b[0m \u001b[1;33m(\u001b[0m\u001b[1;34m'here'\u001b[0m\u001b[1;33m)\u001b[0m\u001b[1;33m\u001b[0m\u001b[1;33m\u001b[0m\u001b[0m\n",
      "\u001b[1;32m<ipython-input-2-4c9e77a3cb94>\u001b[0m in \u001b[0;36mbodyE4\u001b[1;34m()\u001b[0m\n\u001b[0;32m     69\u001b[0m         \u001b[0mschedule\u001b[0m\u001b[1;33m.\u001b[0m\u001b[0mevery\u001b[0m\u001b[1;33m(\u001b[0m\u001b[1;36m1\u001b[0m\u001b[1;33m)\u001b[0m\u001b[1;33m.\u001b[0m\u001b[0mminutes\u001b[0m\u001b[1;33m.\u001b[0m\u001b[0mdo\u001b[0m\u001b[1;33m(\u001b[0m\u001b[0mHR_Getting\u001b[0m\u001b[1;33m.\u001b[0m\u001b[0mE4\u001b[0m\u001b[1;33m)\u001b[0m\u001b[1;33m\u001b[0m\u001b[1;33m\u001b[0m\u001b[0m\n\u001b[0;32m     70\u001b[0m         \u001b[1;32mwhile\u001b[0m \u001b[1;32mTrue\u001b[0m\u001b[1;33m:\u001b[0m\u001b[1;33m\u001b[0m\u001b[1;33m\u001b[0m\u001b[0m\n\u001b[1;32m---> 71\u001b[1;33m             \u001b[0mschedule\u001b[0m\u001b[1;33m.\u001b[0m\u001b[0mrun_pending\u001b[0m\u001b[1;33m(\u001b[0m\u001b[1;33m)\u001b[0m\u001b[1;33m\u001b[0m\u001b[1;33m\u001b[0m\u001b[0m\n\u001b[0m\u001b[0;32m     72\u001b[0m \u001b[1;33m\u001b[0m\u001b[0m\n\u001b[0;32m     73\u001b[0m \u001b[1;32mif\u001b[0m \u001b[0m__name__\u001b[0m \u001b[1;33m==\u001b[0m \u001b[1;34m\"__main__\"\u001b[0m\u001b[1;33m:\u001b[0m\u001b[1;33m\u001b[0m\u001b[1;33m\u001b[0m\u001b[0m\n",
      "\u001b[1;32m~\\Anaconda3\\lib\\site-packages\\schedule\\__init__.py\u001b[0m in \u001b[0;36mrun_pending\u001b[1;34m()\u001b[0m\n\u001b[0;32m    561\u001b[0m     \u001b[1;33m:\u001b[0m\u001b[0mdata\u001b[0m\u001b[1;33m:\u001b[0m\u001b[0;31m`\u001b[0m\u001b[0mdefault\u001b[0m \u001b[0mscheduler\u001b[0m \u001b[0minstance\u001b[0m \u001b[1;33m<\u001b[0m\u001b[0mdefault_scheduler\u001b[0m\u001b[1;33m>\u001b[0m\u001b[0;31m`\u001b[0m\u001b[1;33m.\u001b[0m\u001b[1;33m\u001b[0m\u001b[1;33m\u001b[0m\u001b[0m\n\u001b[0;32m    562\u001b[0m     \"\"\"\n\u001b[1;32m--> 563\u001b[1;33m     \u001b[0mdefault_scheduler\u001b[0m\u001b[1;33m.\u001b[0m\u001b[0mrun_pending\u001b[0m\u001b[1;33m(\u001b[0m\u001b[1;33m)\u001b[0m\u001b[1;33m\u001b[0m\u001b[1;33m\u001b[0m\u001b[0m\n\u001b[0m\u001b[0;32m    564\u001b[0m \u001b[1;33m\u001b[0m\u001b[0m\n\u001b[0;32m    565\u001b[0m \u001b[1;33m\u001b[0m\u001b[0m\n",
      "\u001b[1;32m~\\Anaconda3\\lib\\site-packages\\schedule\\__init__.py\u001b[0m in \u001b[0;36mrun_pending\u001b[1;34m(self)\u001b[0m\n\u001b[0;32m     90\u001b[0m         \u001b[0mbetween\u001b[0m \u001b[0mbut\u001b[0m \u001b[0monly\u001b[0m \u001b[0monce\u001b[0m\u001b[1;33m.\u001b[0m\u001b[1;33m\u001b[0m\u001b[1;33m\u001b[0m\u001b[0m\n\u001b[0;32m     91\u001b[0m         \"\"\"\n\u001b[1;32m---> 92\u001b[1;33m         \u001b[0mrunnable_jobs\u001b[0m \u001b[1;33m=\u001b[0m \u001b[1;33m(\u001b[0m\u001b[0mjob\u001b[0m \u001b[1;32mfor\u001b[0m \u001b[0mjob\u001b[0m \u001b[1;32min\u001b[0m \u001b[0mself\u001b[0m\u001b[1;33m.\u001b[0m\u001b[0mjobs\u001b[0m \u001b[1;32mif\u001b[0m \u001b[0mjob\u001b[0m\u001b[1;33m.\u001b[0m\u001b[0mshould_run\u001b[0m\u001b[1;33m)\u001b[0m\u001b[1;33m\u001b[0m\u001b[1;33m\u001b[0m\u001b[0m\n\u001b[0m\u001b[0;32m     93\u001b[0m         \u001b[1;32mfor\u001b[0m \u001b[0mjob\u001b[0m \u001b[1;32min\u001b[0m \u001b[0msorted\u001b[0m\u001b[1;33m(\u001b[0m\u001b[0mrunnable_jobs\u001b[0m\u001b[1;33m)\u001b[0m\u001b[1;33m:\u001b[0m\u001b[1;33m\u001b[0m\u001b[1;33m\u001b[0m\u001b[0m\n\u001b[0;32m     94\u001b[0m             \u001b[0mself\u001b[0m\u001b[1;33m.\u001b[0m\u001b[0m_run_job\u001b[0m\u001b[1;33m(\u001b[0m\u001b[0mjob\u001b[0m\u001b[1;33m)\u001b[0m\u001b[1;33m\u001b[0m\u001b[1;33m\u001b[0m\u001b[0m\n",
      "\u001b[1;31mKeyboardInterrupt\u001b[0m: "
     ]
    }
   ],
   "source": [
    "class HR_Getting:\n",
    "    def __init__():\n",
    "        self.dbx = dropbox.Dropbox('lY_d3DAmzgAAAAAAAAAAdn7IAKZUPyYJXhaYmllRlCFZwhYgt_m6fNafXq8DcgWK')\n",
    "        self.delta = datetime.timedelta(minutes = 1)\n",
    "        \n",
    "    def E4():\n",
    "        # Dropbox access token    \n",
    "        dbx = dropbox.Dropbox('lY_d3DAmzgAAAAAAAAAAdn7IAKZUPyYJXhaYmllRlCFZwhYgt_m6fNafXq8DcgWK')\n",
    "\n",
    "        # current time\n",
    "        timestamp = datetime.datetime.now()\n",
    "        # time gap\n",
    "        delta = datetime.timedelta(minutes = 1)\n",
    "        # time where the IBI file has been bulit\n",
    "        filetime = timestamp - delta\n",
    "\n",
    "        # Re-formatting: datetime->String\n",
    "        Str_filetime = filetime.strftime('%Y-%m-%d-%H-%M')\n",
    "\n",
    "        # For testing only \n",
    "        # Str_filetime = '2019-06-22-22-25'\n",
    "\n",
    "        # Set parameters for downloading the file \n",
    "        # Saving path\n",
    "        download_path = 'C:\\\\FINAL_PROJECT\\\\IBI_Files\\\\IBIData'+Str_filetime +'.txt'\n",
    "        # File location in dropbox    \n",
    "        path = '/IBI/IBIData'+Str_filetime+'.txt'\n",
    "\n",
    "        # try download\n",
    "        try:\n",
    "            dbx.files_download_to_file(download_path,path,None)   \n",
    "        except:\n",
    "                print('IBIData'+Str_filetime+'.txt current is not exsit')\n",
    "                pass\n",
    "        else:\n",
    "            print(\"Successful Downloading /Apps/E4Link\" + path + \" from Dropbox, overwriting \" + download_path + \"...\")\n",
    "\n",
    "            # A file downloaded, reformat the file\n",
    "            resval = numpy.loadtxt(download_path)\n",
    "\n",
    "            with open(download_path, 'r', encoding='utf-8') as f:\n",
    "                lines = f.readlines()# read the content\n",
    "                for i in range(0,lines.__len__(),1): #(start/left bond, end/right bond, step length) \n",
    "                    list = []  # empty list for storing the data\n",
    "                    for value in lines[i].split():\n",
    "                        value=value.strip(string.whitespace)\n",
    "                        list.append(float(value))\n",
    "\n",
    "            # calculate the heart beat rate\n",
    "            sum = 0\n",
    "\n",
    "            for i in range(len(list)):\n",
    "                sum += list[i]       # sum of the list\n",
    "\n",
    "            aveIBI = sum / len(list)\n",
    "\n",
    "            # Calculate the heart beat rate     \n",
    "            bpm = int(60/aveIBI)\n",
    "            \n",
    "            with open('bpm_data.csv','a',newline='') as f:\n",
    "                csv_write = csv.writer(f)\n",
    "                csv_write.writerow([Str_filetime,bpm])\n",
    "                f.close()\n",
    "                \n",
    "\n",
    "            print('The average IBI value(s):',aveIBI,'\\n'+'The heart beat rate(bpm):',bpm,'\\n' )\n",
    "\n",
    "    def bodyE4():\n",
    "        schedule.every(1).minutes.do(HR_Getting.E4)\n",
    "        while True:\n",
    "            schedule.run_pending()\n",
    "            \n",
    "if __name__ == \"__main__\":\n",
    "\n",
    "    HR_E4file = HR_Getting.bodyE4()\n",
    "    print ('here')\n"
   ]
  },
  {
   "cell_type": "code",
   "execution_count": 65,
   "metadata": {},
   "outputs": [
    {
     "name": "stdout",
     "output_type": "stream",
     "text": [
      "('2019-07-26-21-02', '2019-07-26-21-03', '2019-07-26-21-04', '2019-07-26-21-05', '2019-07-26-21-06', '2019-07-26-21-07', '2019-07-26-21-08', '2019-07-26-21-09', '2019-07-26-21-10', '2019-07-26-21-11', '2019-07-26-21-12', '2019-07-26-21-13', '2019-07-26-21-14', '2019-07-26-21-15', '2019-07-26-21-16', '2019-07-26-21-17', '2019-07-26-21-18', '2019-07-26-21-19', '2019-07-26-22-10', '2019-07-26-22-10', '2019-07-26-22-11', '2019-07-26-22-11', '2019-07-26-22-11', '2019-07-26-22-12', '2019-07-26-22-12', '2019-07-26-22-12', '2019-07-26-22-13', '2019-07-26-22-13', '2019-07-26-22-13', '2019-07-26-22-13', '2019-07-26-22-15', '2019-07-26-22-15', '2019-07-26-22-15', '2019-07-26-22-15', '2019-07-26-22-16', '2019-07-26-22-17', '2019-07-26-22-18', '2019-07-26-22-20', '2019-07-26-22-21', '2019-07-26-22-22', '2019-07-26-22-23', '2019-07-26-22-25')\n"
     ]
    },
    {
     "data": {
      "image/png": "[encoded data removed]",
      "text/plain": [
       "<Figure size 432x288 with 1 Axes>"
      ]
     },
     "metadata": {
      "needs_background": "light"
     },
     "output_type": "display_data"
    }
   ],
   "source": [
    "x = []\n",
    "y = []\n",
    "plt.ion()\n",
    "plt.figure(1)\n",
    "plt.clf()\n",
    "\n",
    "date2num = mdate.strpdate2num('%Y-%m-%d-%H-%M')\n",
    "\n",
    "with open('bpm_data.csv','r') as bpmcsv:\n",
    "    reader = csv.reader(bpmcsv)\n",
    "    for row in reader:\n",
    "\n",
    "        x.append(row[0])\n",
    "        y.append(int(row[1]))\n",
    "    \n",
    "    print(tuple(x_ticks))\n",
    "    \n",
    "\n",
    "plt.plot(tuple(x),y,'-r')\n",
    "plt.tick_params(axis ='x', rotation =90) \n",
    "plt.title('bpm verus time')\n",
    "plt.xlabel('time')\n",
    "plt.ylabel('bpm')\n",
    "\n",
    "plt.draw()\n",
    "plt.show()\n"
   ]
  }
 ],
 "metadata": {
  "kernelspec": {
   "display_name": "Python 3",
   "language": "python",
   "name": "python3"
  },
  "language_info": {
   "codemirror_mode": {
    "name": "ipython",
    "version": 3
   },
   "file_extension": ".py",
   "mimetype": "text/x-python",
   "name": "python",
   "nbconvert_exporter": "python",
   "pygments_lexer": "ipython3",
   "version": "3.7.3"
  }
 },
 "nbformat": 4,
 "nbformat_minor": 2
}
