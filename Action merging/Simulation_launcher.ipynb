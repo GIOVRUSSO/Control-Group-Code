{
  "cells": [
    {
      "cell_type": "code",
      "execution_count": null,
      "metadata": {
        "id": "oYYXMYZW4NXd"
      },
      "outputs": [],
      "source": [
        "import numpy as np\n",
        "import matplotlib.pyplot as plt\n",
        "import random"
      ]
    },
    {
      "cell_type": "code",
      "execution_count": null,
      "metadata": {
        "id": "-Ctj6SZW4NXg"
      },
      "outputs": [],
      "source": [
        "def simFiles(nC):\n",
        "    #nC is the number of controlled cars among a fleet of total size 100\n",
        "    departs = [5*i for i in range(100)]\n",
        "    \n",
        "    #Shuffle indexes\n",
        "    inds = list(range(100))\n",
        "    random.shuffle(inds)\n",
        "    inds2 = list(range(100))\n",
        "    random.shuffle(inds2)\n",
        "\n",
        "    #Starts, foe finishes and agent goals\n",
        "    starts = ['62166872']*100 #Road link on which the cars start\n",
        "    finishes = ['-587489968#0']*100 #Ending road link of uncontrolled car routes\n",
        "    goals = [1]*100 #Id of target behaviors for controlled cars\n",
        "\n",
        "    sStarts = [starts[i] for i in inds] #Applying the shuffle\n",
        "    sFinishes = [finishes[i] for i in inds]\n",
        "    sGoals = [goals[i] for i in inds]\n",
        "\n",
        "    sDeparts = [departs[i] for i in inds2]\n",
        "\n",
        "    nControlled = nC\n",
        "    indC = random.sample(range(100),nControlled) #Sample which agents are controlled\n",
        "\n",
        "    agSt = []\n",
        "    agDep = []\n",
        "    agGoals = []\n",
        "    foeSt = []\n",
        "    foeDep = []\n",
        "    foeFin = []\n",
        "\n",
        "    for i in range(100): #Build arrays with information\n",
        "        if i in indC:\n",
        "            agSt.append(sStarts[i])\n",
        "            agDep.append(sDeparts[i])\n",
        "            agGoals.append(sGoals[i])\n",
        "        else:\n",
        "            foeSt.append(sStarts[i])\n",
        "            foeDep.append(sDeparts[i])\n",
        "            foeFin.append(sFinishes[i])\n",
        "        \n",
        "    np.save('agent.npy',np.array([agSt,agDep,agGoals]))\n",
        "    np.save('foe.npy',np.array([foeSt,foeDep,foeFin]))"
      ]
    },
    {
      "cell_type": "code",
      "execution_count": null,
      "metadata": {
        "id": "fXijNVin4NXh"
      },
      "outputs": [],
      "source": [
        "simFiles(100) #Build simulation files for 100 controlled cars"
      ]
    },
    {
      "cell_type": "code",
      "source": [
        "#Run one of the next two cells to run a batch of simulations"
      ],
      "metadata": {
        "id": "3MUxWziQ4z_J"
      },
      "execution_count": null,
      "outputs": []
    },
    {
      "cell_type": "code",
      "execution_count": null,
      "metadata": {
        "id": "CJheR0mq4NXi"
      },
      "outputs": [],
      "source": [
        "import os\n",
        "#10 simulations with merging controller, results will be automatically logged\n",
        "for i in range(10):\n",
        "    os.system('python main_merge.py '+str(i))"
      ]
    },
    {
      "cell_type": "code",
      "execution_count": null,
      "metadata": {
        "id": "7qf3twg44NXj"
      },
      "outputs": [],
      "source": [
        "import os\n",
        "#10 simulations with crowdsourcing controller, results will be automatically logged\n",
        "for i in range(10):\n",
        "    os.system('python main.py '+str(i))"
      ]
    },
    {
      "cell_type": "code",
      "execution_count": null,
      "metadata": {
        "id": "Gw8XqKAv4NXj"
      },
      "outputs": [],
      "source": []
    }
  ],
  "metadata": {
    "kernelspec": {
      "display_name": "Python 3",
      "language": "python",
      "name": "python3"
    },
    "language_info": {
      "codemirror_mode": {
        "name": "ipython",
        "version": 3
      },
      "file_extension": ".py",
      "mimetype": "text/x-python",
      "name": "python",
      "nbconvert_exporter": "python",
      "pygments_lexer": "ipython3",
      "version": "3.6.9"
    },
    "colab": {
      "provenance": []
    }
  },
  "nbformat": 4,
  "nbformat_minor": 0
}