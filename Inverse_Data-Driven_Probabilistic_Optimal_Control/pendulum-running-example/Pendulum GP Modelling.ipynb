{
 "cells": [
  {
   "cell_type": "code",
   "execution_count": 20,
   "metadata": {},
   "outputs": [],
   "source": [
    "import numpy as np"
   ]
  },
  {
   "cell_type": "code",
   "execution_count": 39,
   "metadata": {},
   "outputs": [],
   "source": [
    "class Pendulum():\n",
    "    def __init__(self):\n",
    "        ###\n",
    "        #Default parameter initialization\n",
    "        self.l = 0.6\n",
    "        self.m = 1\n",
    "        self.max_torque = 10\n",
    "        self.max_speed = 5\n",
    "        self.state = np.array([0,0])\n",
    "        self.last_input = None\n",
    "        self.g = 9.81\n",
    "        self.dt = 0.1\n",
    "        self.angle_std = 3*2*np.pi/360 #5*2*np.pi/360\n",
    "        self.speed_std = 0.1\n",
    "        \n",
    "    def random_init(self):\n",
    "        ###\n",
    "        #Randomize the state, useful for binning\n",
    "        self.state = np.array([np.random.uniform(-np.pi, np.pi),np.random.uniform(-self.max_speed, self.max_speed)])\n",
    "        \n",
    "    def step(self, u):\n",
    "        ###\n",
    "        #Simulation step given an output\n",
    "        u = np.clip(u, -self.max_torque, self.max_torque) #Clip the input\n",
    "        self.last_input = u\n",
    "        accel = u/(self.m*self.l*self.l) + self.g*np.sin(self.state[0])/self.l #Dynamics\n",
    "        \n",
    "        speed = self.state[1]\n",
    "        angle = self.state[0]\n",
    "        \n",
    "        new_speed = speed + accel*self.dt + np.random.normal(0,self.speed_std) #Update speed\n",
    "        new_speed = np.clip(new_speed, -self.max_speed, self.max_speed)\n",
    "        \n",
    "        new_angle = angle + speed*self.dt + np.random.normal(0,self.angle_std) #Update angle\n",
    "        if new_angle < -np.pi: #The angle is modulo 2\\pi\n",
    "            new_angle = new_angle + 2*np.pi\n",
    "        if new_angle > np.pi:\n",
    "            new_angle = new_angle - 2*np.pi\n",
    "        \n",
    "        self.state = np.array([new_angle, new_speed])\n",
    "        \n",
    "    def set_state(self, angle, speed):\n",
    "        ###\n",
    "        #Set the state, useful for some cases\n",
    "        speed = np.clip(speed, -self.max_speed, self.max_speed)\n",
    "        if angle < -np.pi:\n",
    "            angle = angle + 2*np.pi\n",
    "        if angle > np.pi:\n",
    "            angle = angle - 2*np.pi\n",
    "        self.state = np.array([angle, speed])\n"
   ]
  },
  {
   "cell_type": "code",
   "execution_count": 3,
   "metadata": {},
   "outputs": [],
   "source": [
    "def discretize(Z, Zdim, Zmin, Zstep):\n",
    "    ###\n",
    "    #Discretize a variable Z using its dimension Zdim, its minimal values along each axis and the discretization steps\n",
    "    res = [0]*Zdim #n-dimensional index\n",
    "    for i in range(Zdim): #For each dimension\n",
    "        elt = Z[i] #Extract the i-th element\n",
    "        ind = int((elt - Zmin[i])//Zstep[i]) #Discretize\n",
    "        res[i] = ind\n",
    "    return(tuple(res)) #Return as tuple for array indexing"
   ]
  },
  {
   "cell_type": "code",
   "execution_count": 4,
   "metadata": {},
   "outputs": [],
   "source": [
    "def getJointPMFs(data, Zdim, Zmin, Zstep, Zdiscr, Ydim, Ymin, Ystep, Ydiscr):\n",
    "    ###\n",
    "    #Get the joint PMFs for Y and Z,Y using all the info on the variables (dim, mins, steps)\n",
    "    fullDiscr = Ydiscr + Zdiscr #List of the discretization steps (along each dimension) for both Z and Y\n",
    "    fullJoint = np.zeros(fullDiscr) #f(Z,Y)\n",
    "    Yjoint = np.zeros(Ydiscr) #f(Y)\n",
    "    for history in data: #For each trajectory in the dataset\n",
    "        Zhist = history[0] #Extract the histories for Z and Y\n",
    "        Yhist = history[1]\n",
    "        for i in range(len(Zhist)): #For each data point in the trajectory\n",
    "            Z = Zhist[i] #Extract the realization of Z and Y\n",
    "            Y = Yhist[i]\n",
    "            Zind = discretize(Z, Zdim, Zmin, Zstep) #Find the indexes\n",
    "            Yind = discretize(Y, Ydim, Ymin, Ystep)\n",
    "            fullInd = Yind + Zind #Get the index of the joint variable Z,Y\n",
    "            fullJoint[fullInd] = fullJoint[fullInd] + 1 #Update the values\n",
    "            Yjoint[Yind] = Yjoint[Yind] + 1\n",
    "    fullJoint = fullJoint/np.sum(fullJoint) #Normalizing\n",
    "    Yjoint = Yjoint/np.sum(Yjoint)\n",
    "    return(fullJoint, Yjoint)"
   ]
  },
  {
   "cell_type": "code",
   "execution_count": 5,
   "metadata": {},
   "outputs": [],
   "source": [
    "def getConditionnal(fullJoint, Yjoint, Zdiscr, Ydiscr, Zdim):\n",
    "    ###\n",
    "    #Get f(Z|Y) using the joint pmfs\n",
    "    fullDiscr = Ydiscr + Zdiscr\n",
    "    conditionnal = np.zeros(fullDiscr) #Initialize the pmf\n",
    "    for (index, x) in np.ndenumerate(fullJoint): #For each index and each value in f(Z,Y) (we use this as it's robust w.r.t. the dimension)\n",
    "        Yind = index[:Ydim] #Extract the index for Y\n",
    "        if Yjoint[Yind] == 0: #Protect from dividing by zero\n",
    "            conditionnal[index] = 0\n",
    "        else:\n",
    "            conditionnal[index] = fullJoint[index]/Yjoint[Yind] #Division\n",
    "    return(conditionnal)"
   ]
  },
  {
   "cell_type": "code",
   "execution_count": 6,
   "metadata": {},
   "outputs": [],
   "source": [
    "def formatHistory(sysData):\n",
    "    ###\n",
    "    #Translate a history in (x,u) form to (Z,Y) form (this means formatting Y_{k-1}:=(x_{k-1},u_k))\n",
    "    data = [] #Initialize resulting data\n",
    "    for hist in sysData: #For each (x,u) trajectory\n",
    "        x = hist[0] #States\n",
    "        u = hist[1] #Inputs\n",
    "        L = len(x)-1 #Amount of data points (one less than the full length of the history)\n",
    "        newZ = [0]*L #Z\n",
    "        newY = [0]*L #Y\n",
    "        for i in range(L): #For each point\n",
    "            #The following lines are a safety: if we have 1D states or inputs, adding them will not concatenate the list but create a false value\n",
    "            if isinstance(x[i+1], int) or isinstance(x[i+1],float):\n",
    "                newZ[i] = [x[i+1]] #If x_k is a number, we turn it into a list to fit the binning algorithm's requirements\n",
    "            else:\n",
    "                newZ[i] = x[i+1] #Else we use it as is (which simply means leaving it as a list)\n",
    "            if isinstance(x[i], int) or isinstance(x[i],float): #Same for x_{k-1}\n",
    "                newY[i] = [x[i]]\n",
    "            else:\n",
    "                newY[i] = x[i]\n",
    "            if isinstance(u[i+1], int) or isinstance(u[i+1],float): #Same for u_k\n",
    "                newY[i] = newY[i] + [u[i+1]]\n",
    "            else:\n",
    "                newY[i] = newY[i] + u[i+1]\n",
    "        data = data + [[newZ, newY]] #We add the trajectory to the data\n",
    "    return(np.array(data)) #Returning a numpy array"
   ]
  },
  {
   "cell_type": "code",
   "execution_count": null,
   "metadata": {},
   "outputs": [],
   "source": []
  },
  {
   "cell_type": "code",
   "execution_count": 7,
   "metadata": {},
   "outputs": [],
   "source": [
    "#Dimensions of the variables\n",
    "Zdim = 2\n",
    "Ydim = 3\n",
    "\n",
    "#Minimum values (as lists)\n",
    "Zmin = [-np.pi, -5]\n",
    "Ymin = [-np.pi, -5, -2.5]\n",
    "\n",
    "#Discretization steps (as lists)\n",
    "Zstep = [2*np.pi/50, 0.2]\n",
    "Ystep = [2*np.pi/50, 0.2, 0.25]\n",
    "\n",
    "#Amount of discrete bins (as lists)\n",
    "Zdiscr = [50, 50]\n",
    "Ydiscr = [50, 50, 20]"
   ]
  },
  {
   "cell_type": "code",
   "execution_count": 40,
   "metadata": {},
   "outputs": [
    {
     "name": "stderr",
     "output_type": "stream",
     "text": [
      "C:\\Users\\jamal\\AppData\\Local\\Temp\\ipykernel_29044\\3522445154.py:26: VisibleDeprecationWarning: Creating an ndarray from ragged nested sequences (which is a list-or-tuple of lists-or-tuples-or ndarrays with different lengths or shapes) is deprecated. If you meant to do this, you must specify 'dtype=object' when creating the ndarray.\n",
      "  return(np.array(data)) #Returning a numpy array\n"
     ]
    }
   ],
   "source": [
    "P = Pendulum()\n",
    "#P.m = 0.5\n",
    "\n",
    "sysData = [0]*10000 #We will take 10000 trajectories\n",
    "for j in range(10000):\n",
    "    x = [0]*100 #Each trajectory is 100 steps long, with a random initial state\n",
    "    u = [0]*100\n",
    "    P.random_init() #Initialize pendulum\n",
    "    x[0] = list(P.state) #Random state\n",
    "    for i in range(99): #There is a 'useless' data point as the nature of a dynamic system implies we have one less input than state.\n",
    "        uk = np.random.uniform(-2.5,2.5) #Pick a random action\n",
    "        P.step(uk) #simulatin step\n",
    "        x[i+1] = list(P.state)\n",
    "        u[i+1] = uk\n",
    "    h = [x,u] #A history, or trajectory, is made out of a history for X and Y.\n",
    "    sysData[j] = h #The dataset is a list of all trajectories\n",
    "dt = formatHistory(sysData) #Give the data a form that the binning code can use"
   ]
  },
  {
   "cell_type": "code",
   "execution_count": 41,
   "metadata": {},
   "outputs": [],
   "source": [
    "np.save('sysData_m1_l06.npy',dt)\n",
    "#np.save('sysData_m0.5_l06.npy',dt) "
   ]
  },
  {
   "cell_type": "code",
   "execution_count": 2,
   "metadata": {},
   "outputs": [],
   "source": [
    "dt  = np.load('sysData_m1_l06.npy',allow_pickle=True)"
   ]
  },
  {
   "cell_type": "code",
   "execution_count": 3,
   "metadata": {},
   "outputs": [],
   "source": [
    "import numpy as np\n",
    "from sklearn.gaussian_process import GaussianProcessRegressor \n",
    "\n",
    "from sklearn.gaussian_process.kernels import RBF, WhiteKernel, ConstantKernel\n",
    "from sklearn.model_selection import train_test_split"
   ]
  },
  {
   "cell_type": "code",
   "execution_count": 4,
   "metadata": {},
   "outputs": [],
   "source": [
    "#Preprocessing the data\n",
    "\n",
    "Y = dt[:,0,:]\n",
    "X = dt[:,1,:]\n",
    "\n",
    "Y = np.reshape(Y,(-1,))\n",
    "\n",
    "X = np.reshape(X,(-1,))\n",
    "\n",
    "X1 = np.zeros((len(X),))\n",
    "X2 = np.zeros((len(X),))\n",
    "X3 = np.zeros((len(X),))\n",
    "\n",
    "Y1 = np.zeros((len(X),))\n",
    "Y2 = np.zeros((len(X),))\n",
    "\n",
    "for i in range(len(X)):\n",
    "    X1[i] = X[i][0]\n",
    "    X2[i] = X[i][1]\n",
    "    X3[i] = X[i][2]\n",
    "    \n",
    "    Y1[i] = Y[i][0]\n",
    "    Y2[i] = Y[i][1]\n",
    "    \n",
    "\n",
    "X = np.column_stack((X1,X2,X3))\n",
    "#y = np.column_stack((Y1,Y2))\n",
    "y = Y1\n",
    "l_scale = np.array([1,1,1]) #initialize l_scale hyperparameter\n"
   ]
  },
  {
   "cell_type": "code",
   "execution_count": 21,
   "metadata": {},
   "outputs": [],
   "source": [
    "# Split the data into training and testing sets\n",
    "X_train, X_test, y_train, y_test = train_test_split(X[:3001,:], y[:3001], test_size=0.3, random_state=42)"
   ]
  },
  {
   "cell_type": "code",
   "execution_count": 9,
   "metadata": {},
   "outputs": [
    {
     "data": {
      "text/html": [
       "<style>#sk-container-id-1 {color: black;background-color: white;}#sk-container-id-1 pre{padding: 0;}#sk-container-id-1 div.sk-toggleable {background-color: white;}#sk-container-id-1 label.sk-toggleable__label {cursor: pointer;display: block;width: 100%;margin-bottom: 0;padding: 0.3em;box-sizing: border-box;text-align: center;}#sk-container-id-1 label.sk-toggleable__label-arrow:before {content: \"▸\";float: left;margin-right: 0.25em;color: #696969;}#sk-container-id-1 label.sk-toggleable__label-arrow:hover:before {color: black;}#sk-container-id-1 div.sk-estimator:hover label.sk-toggleable__label-arrow:before {color: black;}#sk-container-id-1 div.sk-toggleable__content {max-height: 0;max-width: 0;overflow: hidden;text-align: left;background-color: #f0f8ff;}#sk-container-id-1 div.sk-toggleable__content pre {margin: 0.2em;color: black;border-radius: 0.25em;background-color: #f0f8ff;}#sk-container-id-1 input.sk-toggleable__control:checked~div.sk-toggleable__content {max-height: 200px;max-width: 100%;overflow: auto;}#sk-container-id-1 input.sk-toggleable__control:checked~label.sk-toggleable__label-arrow:before {content: \"▾\";}#sk-container-id-1 div.sk-estimator input.sk-toggleable__control:checked~label.sk-toggleable__label {background-color: #d4ebff;}#sk-container-id-1 div.sk-label input.sk-toggleable__control:checked~label.sk-toggleable__label {background-color: #d4ebff;}#sk-container-id-1 input.sk-hidden--visually {border: 0;clip: rect(1px 1px 1px 1px);clip: rect(1px, 1px, 1px, 1px);height: 1px;margin: -1px;overflow: hidden;padding: 0;position: absolute;width: 1px;}#sk-container-id-1 div.sk-estimator {font-family: monospace;background-color: #f0f8ff;border: 1px dotted black;border-radius: 0.25em;box-sizing: border-box;margin-bottom: 0.5em;}#sk-container-id-1 div.sk-estimator:hover {background-color: #d4ebff;}#sk-container-id-1 div.sk-parallel-item::after {content: \"\";width: 100%;border-bottom: 1px solid gray;flex-grow: 1;}#sk-container-id-1 div.sk-label:hover label.sk-toggleable__label {background-color: #d4ebff;}#sk-container-id-1 div.sk-serial::before {content: \"\";position: absolute;border-left: 1px solid gray;box-sizing: border-box;top: 0;bottom: 0;left: 50%;z-index: 0;}#sk-container-id-1 div.sk-serial {display: flex;flex-direction: column;align-items: center;background-color: white;padding-right: 0.2em;padding-left: 0.2em;position: relative;}#sk-container-id-1 div.sk-item {position: relative;z-index: 1;}#sk-container-id-1 div.sk-parallel {display: flex;align-items: stretch;justify-content: center;background-color: white;position: relative;}#sk-container-id-1 div.sk-item::before, #sk-container-id-1 div.sk-parallel-item::before {content: \"\";position: absolute;border-left: 1px solid gray;box-sizing: border-box;top: 0;bottom: 0;left: 50%;z-index: -1;}#sk-container-id-1 div.sk-parallel-item {display: flex;flex-direction: column;z-index: 1;position: relative;background-color: white;}#sk-container-id-1 div.sk-parallel-item:first-child::after {align-self: flex-end;width: 50%;}#sk-container-id-1 div.sk-parallel-item:last-child::after {align-self: flex-start;width: 50%;}#sk-container-id-1 div.sk-parallel-item:only-child::after {width: 0;}#sk-container-id-1 div.sk-dashed-wrapped {border: 1px dashed gray;margin: 0 0.4em 0.5em 0.4em;box-sizing: border-box;padding-bottom: 0.4em;background-color: white;}#sk-container-id-1 div.sk-label label {font-family: monospace;font-weight: bold;display: inline-block;line-height: 1.2em;}#sk-container-id-1 div.sk-label-container {text-align: center;}#sk-container-id-1 div.sk-container {/* jupyter's `normalize.less` sets `[hidden] { display: none; }` but bootstrap.min.css set `[hidden] { display: none !important; }` so we also need the `!important` here to be able to override the default hidden behavior on the sphinx rendered scikit-learn.org. See: https://github.com/scikit-learn/scikit-learn/issues/21755 */display: inline-block !important;position: relative;}#sk-container-id-1 div.sk-text-repr-fallback {display: none;}</style><div id=\"sk-container-id-1\" class=\"sk-top-container\"><div class=\"sk-text-repr-fallback\"><pre>GaussianProcessRegressor(kernel=1**2 * RBF(length_scale=[1, 1, 1]) + WhiteKernel(noise_level=1),\n",
       "                         n_restarts_optimizer=10)</pre><b>In a Jupyter environment, please rerun this cell to show the HTML representation or trust the notebook. <br />On GitHub, the HTML representation is unable to render, please try loading this page with nbviewer.org.</b></div><div class=\"sk-container\" hidden><div class=\"sk-item\"><div class=\"sk-estimator sk-toggleable\"><input class=\"sk-toggleable__control sk-hidden--visually\" id=\"sk-estimator-id-1\" type=\"checkbox\" checked><label for=\"sk-estimator-id-1\" class=\"sk-toggleable__label sk-toggleable__label-arrow\">GaussianProcessRegressor</label><div class=\"sk-toggleable__content\"><pre>GaussianProcessRegressor(kernel=1**2 * RBF(length_scale=[1, 1, 1]) + WhiteKernel(noise_level=1),\n",
       "                         n_restarts_optimizer=10)</pre></div></div></div></div></div>"
      ],
      "text/plain": [
       "GaussianProcessRegressor(kernel=1**2 * RBF(length_scale=[1, 1, 1]) + WhiteKernel(noise_level=1),\n",
       "                         n_restarts_optimizer=10)"
      ]
     },
     "execution_count": 9,
     "metadata": {},
     "output_type": "execute_result"
    }
   ],
   "source": [
    "# Define the kernel for the Gaussian Process\n",
    "kernel = ConstantKernel() * RBF(length_scale=l_scale) + WhiteKernel()\n",
    "\n",
    "\n",
    "# Define the Gaussian Process Regressor\n",
    "gp_1 = GaussianProcessRegressor(kernel=kernel, n_restarts_optimizer=10)\n",
    "\n",
    "# Fit the Gaussian Process to the training data\n",
    "gp_1.fit(X_train, y_train)"
   ]
  },
  {
   "cell_type": "code",
   "execution_count": 56,
   "metadata": {},
   "outputs": [],
   "source": [
    "import sklearn\n",
    "import pickle\n",
    "\n",
    "with open(\"GP_m1.dump\",\"wb\") as f:\n",
    "    pickle.dump(gp_1, f)"
   ]
  },
  {
   "cell_type": "code",
   "execution_count": 18,
   "metadata": {},
   "outputs": [
    {
     "name": "stdout",
     "output_type": "stream",
     "text": [
      "MSE: 0.314, R^2: 0.930\n"
     ]
    }
   ],
   "source": [
    "# Predict the outputs for the test data\n",
    "y_pred, sigma = gp_1.predict(np.reshape(X_test[:,:],(-1,3)), return_std=True)\n",
    "\n",
    "# Print the mean squared error and R^2 score for the predictions\n",
    "mse = np.mean((y_test - y_pred)**2)\n",
    "r2 = gp_1.score(X_test, y_test)\n",
    "print(\"MSE: {:.3f}, R^2: {:.3f}\".format(mse, r2))"
   ]
  },
  {
   "cell_type": "code",
   "execution_count": 19,
   "metadata": {},
   "outputs": [
    {
     "data": {
      "image/png": "[encoded data removed]",
      "text/plain": [
       "<Figure size 432x288 with 1 Axes>"
      ]
     },
     "metadata": {
      "needs_background": "light"
     },
     "output_type": "display_data"
    }
   ],
   "source": [
    "from matplotlib import pyplot as plt\n",
    "\n",
    "\n",
    "fig, ax = plt.subplots()\n",
    "ax.plot(y_test[:50])\n",
    "ax.plot(y_pred[:50],'--')\n",
    "\n",
    "\n",
    "ax.set_xlabel('Time')\n",
    "ax.set_ylabel('Angular position')\n",
    "#plt.savefig('pendulum_angle_ci_1m_0.6l.jpeg',bbox_inches ='tight')\n",
    "\n",
    "plt.show()"
   ]
  }
 ],
 "metadata": {
  "kernelspec": {
   "display_name": "Python 3",
   "language": "python",
   "name": "python3"
  },
  "language_info": {
   "codemirror_mode": {
    "name": "ipython",
    "version": 3
   },
   "file_extension": ".py",
   "mimetype": "text/x-python",
   "name": "python",
   "nbconvert_exporter": "python",
   "pygments_lexer": "ipython3",
   "version": "3.8.13"
  }
 },
 "nbformat": 4,
 "nbformat_minor": 4
}
