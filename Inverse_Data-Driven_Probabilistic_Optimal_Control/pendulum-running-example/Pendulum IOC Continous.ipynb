{
 "cells": [
  {
   "cell_type": "code",
   "execution_count": 1,
   "metadata": {},
   "outputs": [],
   "source": [
    "import numpy as np\n",
    "from scipy import stats as st\n",
    "import pickle\n",
    "\n",
    "from sklearn.gaussian_process import GaussianProcessRegressor \n",
    "from sklearn.gaussian_process.kernels import RBF, WhiteKernel, ConstantKernel"
   ]
  },
  {
   "cell_type": "code",
   "execution_count": 38,
   "metadata": {},
   "outputs": [],
   "source": [
    "def discretize(Z, Zdim, Zmin, Zstep):\n",
    "    ###\n",
    "    #Discretize a variable Z using its dimension Zdim, its minimal values along each axis and the discretization steps\n",
    "    res = [0]*Zdim #n-dimensional index\n",
    "    for i in range(Zdim): #For each dimension\n",
    "        elt = Z[i] #Extract the i-th element\n",
    "        ind = int((elt - Zmin[i])//Zstep[i]) #Discretize\n",
    "        res[i] = ind\n",
    "    return(tuple(res)) #Return as tuple for array indexing\n",
    "\n",
    "def discretize_Control(Z,Zmin,Zstep):\n",
    "    elt = Z\n",
    "    ind = int((elt - Zmin)//Zstep)\n",
    "    return[ind]\n",
    "\n",
    "def DKL(f,g):\n",
    "    ###\n",
    "    #Calculate the DKL of two 2D pfs\n",
    "    div = 0 #Initialize\n",
    "    for i in range(50):\n",
    "        for j in range(50):\n",
    "            if g[i][j] != 0 and f[i][j] != 0: #For numerical safety we will only integrate over the support of both functions (in practice this is compliant with the definition of the DKL)\n",
    "                div = div + f[i][j]*(np.log(f[i][j]) - np.log(g[i][j]))\n",
    "    return(div)\n",
    "\n",
    "def KL_divergence(p, q):\n",
    "    # Checking if both data sets have the same shape\n",
    "    if p.shape != q.shape:\n",
    "        raise ValueError('Both data sets must have the same shape')\n",
    "    # Normalizing the binned data sets to obtain probability distributions\n",
    "    p = p / np.sum(p)\n",
    "    q = q / np.sum(q)\n",
    "    \n",
    "    # Calculating the KL divergence\n",
    "    KL = np.sum(np.where((p != 0) & (q != 0) , p * (np.log(p) - np.log(q)), 0))\n",
    "    \n",
    "    return KL\n",
    "\n",
    "def state_cost(ind):\n",
    "    #cost = np.sqrt((ind[0]-25)**2)+0.1*np.sqrt((ind[1]-25)**2) #actual cost\n",
    "    \n",
    "    cost = 4.16*np.sqrt((ind[0]-25)**2)+2.44*np.sqrt((ind[1]-25)**2) #estimated cost\n",
    "    return(cost)\n",
    "\n",
    "def state_cost_cont(state):\n",
    "    cost = ((state[0]-0)**2)+0.1*((state[1]-0)**2) #actual cost\n",
    "    \n",
    "    #cost = 4000.16*((state[0]-0)**2)+20.44*((state[1]-0)**2) #estimated cost\n",
    "    #cost = 13.8*(np.cos(state[0])-np.cos(0))**2-8.5*(np.cos(state[0]-np.cos(np.pi)))\n",
    "    return(cost)\n",
    "\n",
    "\n",
    "def C_Bar(state,U_dis):\n",
    "    \n",
    "    ind = discretize(state, 2, [-np.pi, -5], [2*np.pi/50, 0.2])\n",
    "    Expected_Cost = np.zeros((20,1)) #initialize cost\n",
    "    Cost = 0\n",
    "    for i in range(20):\n",
    "        f = plant_actual[ind[0],ind[1],i] #Get the actual and demonstrator plants from the binned data\n",
    "        for (index, x) in np.ndenumerate(f):\n",
    "            Cost += x*state_cost(index)\n",
    "        Expected_Cost[i,:]=Cost#Cost.append(cost)\n",
    "    #Cost_sum = np.sum(np.array(Cost))\n",
    "    Expected_Cost = np.sum(np.multiply(U_dis,Expected_Cost.T))\n",
    "    #Expected_Cost_Sum = np.sum(Expected_Cost)\n",
    "    return(Expected_Cost)\n",
    "            \n",
    "def feature(ind):\n",
    "    #ind = discretize(state, 2, [-np.pi, -5], [2*np.pi/50, 0.2])\n",
    "    feature1 = ((ind[0]-0.0)**2)\n",
    "    feature2 = ((ind[1]-0.0)**2)\n",
    "    feature3 = (ind[0]-50)\n",
    "    feature4 = (state[0]-0)\n",
    "    f = np.reshape(np.array([feature1,feature2]),(2,))\n",
    "    return(f)\n",
    "\n",
    "def state_expectation(pdf,S_axis):\n",
    "    S1 = S_axis.dot(np.sum(pdf,1))\n",
    "    S2 = S_axis.dot(np.sum(pdf,0))\n",
    "    \n",
    "    return np.array([S1,S2]) \n",
    "\n",
    "def system_model(state, u,m):\n",
    "    l = 0.6\n",
    "    max_torque = 2.5\n",
    "    max_speed = 5\n",
    "    state = np.array([0,0])\n",
    "    #last_input = None\n",
    "    g = 9.81\n",
    "    dt = 0.1\n",
    "    angle_std = 3*2*np.pi/360\n",
    "    speed_std = 0.1\n",
    "    #Simulation step\n",
    "    u = np.clip(u, -max_torque, max_torque) #Clip the input as safety\n",
    "    \n",
    "    accel = u/(m*l*l) + g*np.sin(state[0])/l #Dynamics for the acceleration\n",
    "    \n",
    "    speed = state[1]\n",
    "    angle = state[0]\n",
    "    \n",
    "    new_speed = speed + accel*dt + np.random.normal(0,speed_std) #Calculate the new speed\n",
    "    new_speed = np.clip(new_speed, -max_speed, max_speed) #Clip the speed as safety (in practice the bounds were chosen to ensure this very rarely happens)\n",
    "    \n",
    "    new_angle = angle + speed*dt + np.random.normal(0,angle_std) #New angle\n",
    "    if new_angle < -np.pi: #Angle is modulo 2\\pi\n",
    "        new_angle = new_angle + 2*np.pi\n",
    "    if new_angle > np.pi:\n",
    "        new_angle = new_angle - 2*np.pi\n",
    "    \n",
    "    next_state = np.array([new_angle, new_speed])   \n",
    "    return next_state\n",
    "\n",
    "def calculate_relative_entropy(f, g, sample_size):\n",
    "    \"\"\"\n",
    "    Calculate the relative entropy between two multivariate normal distributions.\n",
    "\n",
    "    Args:\n",
    "        f: scipy.stats.multivariate_normal object representing the first distribution\n",
    "        g: scipy.stats.multivariate_normal object representing the second distribution\n",
    "        sample_size: int, the number of samples to draw for estimating the entropy\n",
    "\n",
    "    Returns:\n",
    "        relative_entropy: float, the relative entropy between f and g\n",
    "    \"\"\"\n",
    "    # Generate samples from f and g\n",
    "    samples_f = f.rvs(sample_size)\n",
    "    samples_g = g.rvs(sample_size)\n",
    "\n",
    "    # Estimate the probability density function (PDF) values\n",
    "    pdf_f = f.pdf(samples_f)\n",
    "    pdf_g = g.pdf(samples_g)\n",
    "\n",
    "    # Calculate the relative entropy\n",
    "    #relative_entropy = np.sum(pdf_f * np.log(pdf_f / pdf_g))\n",
    "    \n",
    "    KL = np.sum(np.where((pdf_f != 0) & (pdf_g != 0) , pdf_f * (np.log(pdf_f) - np.log(pdf_g)), 0))\n",
    "\n",
    "    return KL\n",
    "\n",
    "\n",
    "#import numpy as np\n",
    "#from scipy.stats import multivariate_normal\n",
    "\n",
    "def calculate_kl_divergence(mu1, cov1, mu2, cov2):\n",
    "    \"\"\"\n",
    "    Calculate the Kullback-Leibler (KL) divergence between two multivariate Gaussian distributions.\n",
    "\n",
    "    Args:\n",
    "        mu1: numpy array of shape (d,), the mean vector of the first Gaussian distribution\n",
    "        cov1: numpy array of shape (d, d), the covariance matrix of the first Gaussian distribution\n",
    "        mu2: numpy array of shape (d,), the mean vector of the second Gaussian distribution\n",
    "        cov2: numpy array of shape (d, d), the covariance matrix of the second Gaussian distribution\n",
    "\n",
    "    Returns:\n",
    "        kl_divergence: float, the KL divergence between the two Gaussian distributions\n",
    "    \"\"\"\n",
    "    d = len(mu1)\n",
    "\n",
    "    # Invert the covariance matrix of the second Gaussian distribution\n",
    "    cov2_inv = np.linalg.inv(cov2)\n",
    "\n",
    "    # Calculate the trace term\n",
    "    trace_term = np.trace(np.matmul(cov2_inv, cov1))\n",
    "\n",
    "    # Calculate the squared difference in means\n",
    "    mean_diff = mu2 - mu1\n",
    "    mean_diff_term = np.dot(np.dot(mean_diff, cov2_inv), mean_diff)\n",
    "\n",
    "    # Calculate the log-determinant term\n",
    "    log_det_term = np.log(np.linalg.det(cov2) / np.linalg.det(cov1))\n",
    "\n",
    "    # Calculate the KL divergence\n",
    "    kl_divergence = 0.5 * (trace_term + mean_diff_term - d + log_det_term)\n",
    "\n",
    "    return kl_divergence\n",
    "\n",
    "def wrap_angle(angle):\n",
    "    wrapped_angle = angle % (2 * math.pi)\n",
    "    if wrapped_angle > math.pi:\n",
    "        wrapped_angle -= 2 * math.pi\n",
    "    return wrapped_angle\n",
    "\n",
    "def transfer_points(points):\n",
    "    transferred_points = []\n",
    "    for point in points:\n",
    "        transferred_point = point + (2 * math.pi)\n",
    "        if transferred_point > 0:\n",
    "            transferred_point -= 2 * math.pi\n",
    "        transferred_points.append(transferred_point)\n",
    "    return transferred_points\n",
    "\n",
    "   "
   ]
  },
  {
   "attachments": {},
   "cell_type": "markdown",
   "metadata": {},
   "source": []
  },
  {
   "cell_type": "code",
   "execution_count": 3,
   "metadata": {},
   "outputs": [
    {
     "data": {
      "text/plain": [
       "-1.0000163297347886"
      ]
     },
     "execution_count": 3,
     "metadata": {},
     "output_type": "execute_result"
    }
   ],
   "source": [
    "u_axis_1 = np.array(np.linspace((-0.005),(0.005),20))"
   ]
  },
  {
   "cell_type": "code",
   "execution_count": 4,
   "metadata": {},
   "outputs": [
    {
     "name": "stdout",
     "output_type": "stream",
     "text": [
      "(50, 50, 20, 50, 50)\n"
     ]
    }
   ],
   "source": [
    "#Get the input axis\n",
    "u_axis_2 = np.array(np.linspace((-2.5),(2.5),20))\n",
    "\n",
    "#Load the plants obtained from the binning (warning, big files)\n",
    "plant_target = np.load('plant_l06_m05.npy')\n",
    "plant_actual = np.load('plant_l06_m1.npy')\n",
    "\n",
    "print(plant_target.shape)"
   ]
  },
  {
   "cell_type": "code",
   "execution_count": 5,
   "metadata": {},
   "outputs": [],
   "source": [
    "GP_f = pickle.load(open('GP_m1.dump','rb'))\n",
    "GP_g = pickle.load(open('GP_m05.dump','rb'))"
   ]
  },
  {
   "cell_type": "code",
   "execution_count": 6,
   "metadata": {},
   "outputs": [
    {
     "name": "stdout",
     "output_type": "stream",
     "text": [
      "GPML kernel: 10**2 * RBF(length_scale=2.8) + WhiteKernel(noise_level=0.308)\n",
      "Log-marginal-likelihood: (-3968.55513442545, array([-9.06762089e-06,  6.68663255e-05,  8.33511206e-04]))\n",
      "GPML kernel: 8.63**2 * RBF(length_scale=2.62) + WhiteKernel(noise_level=0.291)\n",
      "Log-marginal-likelihood: (-3880.999947858876, array([ 6.63423194e-07, -2.79053052e-06, -7.11052292e-06]))\n"
     ]
    }
   ],
   "source": [
    "print(\"GPML kernel: %s\" % GP_f.kernel_)\n",
    "print(\"Log-marginal-likelihood:\", GP_f.log_marginal_likelihood(GP_f.kernel_.theta, eval_gradient = True))\n",
    "\n",
    "print(\"GPML kernel: %s\" % GP_g.kernel_)\n",
    "print(\"Log-marginal-likelihood:\", GP_g.log_marginal_likelihood(GP_g.kernel_.theta, eval_gradient = True))"
   ]
  },
  {
   "cell_type": "code",
   "execution_count": 31,
   "metadata": {},
   "outputs": [],
   "source": [
    "class Pendulum():\n",
    "    def __init__(self):\n",
    "        self.l = 0.6\n",
    "        self.m = 1\n",
    "        self.max_torque = 2.5\n",
    "        self.max_speed = 5\n",
    "        self.state = np.array([0,0])\n",
    "        self.last_input = None\n",
    "        self.g = 9.81\n",
    "        self.dt = 0.1\n",
    "        self.angle_std = 3*2*np.pi/360\n",
    "        self.speed_std = 0.1\n",
    "        \n",
    "    def random_init(self):\n",
    "        ###\n",
    "        #Random initialization\n",
    "        self.state = np.array([np.random.uniform(-np.pi, np.pi),np.random.uniform(-sefl.max_speed, self.max_speed)])\n",
    "        \n",
    "    def step(self, u):\n",
    "        #Simulation step\n",
    "        u = np.clip(u, -self.max_torque, self.max_torque) #Clip the input as safety\n",
    "        self.last_input = u\n",
    "        accel = u/(self.m*self.l*self.l) + self.g*np.sin(self.state[0])/self.l #Dynamics for the acceleration\n",
    "        \n",
    "        speed = self.state[1]\n",
    "        angle = self.state[0]\n",
    "        \n",
    "        new_speed = speed + accel*self.dt + np.random.normal(0,self.speed_std) #Calculate the new speed\n",
    "        new_speed = np.clip(new_speed, -self.max_speed, self.max_speed) #Clip the speed as safety (in practice the bounds were chosen to ensure this very rarely happens)\n",
    "        \n",
    "        new_angle = angle + speed*self.dt + np.random.normal(0,self.angle_std) #New angle\n",
    "        if new_angle < -np.pi: #Angle is modulo 2\\pi\n",
    "            new_angle = new_angle + 2*np.pi\n",
    "        if new_angle > np.pi:\n",
    "            new_angle = new_angle - 2*np.pi\n",
    "        \n",
    "        self.state = np.array([new_angle, new_speed])\n",
    "        \n",
    "    def set_state(self, angle, speed):\n",
    "        ###\n",
    "        #Explicitely set the state\n",
    "        speed = np.clip(speed, -self.max_speed, self.max_speed)\n",
    "        if angle < -np.pi:\n",
    "            angle = angle + 2*np.pi\n",
    "        if angle > np.pi:\n",
    "            angle = angle - 2*np.pi\n",
    "        self.state = np.array([angle, speed])\n",
    "\n",
    "    def Control_step(self, u,uH):\n",
    "        ###\n",
    "        #Perform an FPD step given an expert input, by first getting the corresponding pf and then applying the FPD solution\n",
    "        tpf = st.norm.pdf(u_axis, 0, 0.2) #Input pf\n",
    "        S = np.sum(tpf) #Normalizing input pf\n",
    "        target_pf = [x/S for x in tpf]\n",
    "        \n",
    "        ind = discretize(self.state, 2, [-np.pi, -5], [2*np.pi/50, 0.2]) #Discretize the state index for DKL calculation\n",
    "        \n",
    "        pf = np.zeros(20) #Initialize pf\n",
    "        for i in range(20):\n",
    "            f = plant_actual[ind[0],ind[1],i] #Get the actual and demonstrator plants from the binned data\n",
    "            g = plant_target[ind[0],ind[1],i]\n",
    "            log_DKL = np.exp(-KL_divergence(f,g)-C_Bar(self.state,target_pf))\n",
    "            if log_DKL == 0.:\n",
    "                log_DKL = 0.0000001\n",
    "            pf[i] = target_pf[i]*log_DKL #Calculate the DKL for each possible input, get corresponding probability\n",
    "        S2 = np.sum(pf) #Normalize resulting policy\n",
    "        #print(pf)\n",
    "        pf = [x/S2 for x in pf]\n",
    "        action = np.random.choice(u_axis, p=pf) #Select a random action from the new policy\n",
    "        previous_action = action\n",
    "        self.step(action) #Simulation step\n",
    "        \n",
    "        \n",
    "    def Control_step_continous(self, u,uH):\n",
    "        ###\n",
    "        #Perform an FPD step given an expert input, by first getting the corresponding pf and then applying the FPD solution\n",
    "        tpf = st.norm.pdf(u_axis_2, u, 0.2) #Input pf\n",
    "        S = np.sum(tpf) #Normalizing input pf\n",
    "        target_pf = [x/S for x in tpf]\n",
    "        \n",
    "        #ind = discretize(self.state, 2, [-np.pi, -5], [2*np.pi/50, 0.2]) #Discretize the state index for DKL calculation\n",
    "        \n",
    "        self.pf = np.zeros(20) #Initialize pf\n",
    "        for i in range(20):\n",
    "            GP_input_f = np.reshape(np.array([self.state[0],self.state[1],u_axis_2[i]]),(1,3))\n",
    "            GP_input_g = np.reshape(np.array([self.state[0],self.state[1],u_axis_1[i]]),(1,3))\n",
    "            next_state_f,sigma_f= GP_f.predict(GP_input_f,return_std=True)\n",
    "            next_state_g,sigma_g= GP_g.predict(GP_input_g,return_std=True)\n",
    "            \n",
    "            cov_f = np.diag(sigma_f.reshape((2,))**2)\n",
    "            cov_g = np.diag(sigma_g.reshape((2,))**2)\n",
    "            \n",
    "            f = st.multivariate_normal(next_state_f.reshape((2,)),cov_f) #Get the actual and demonstrator plants from the binned data\n",
    "            f_samples = f.rvs(100)\n",
    "            \n",
    "            \n",
    "            for j in range(100):\n",
    "                cost = 0\n",
    "                cost += state_cost_cont(f_samples[j,:])\n",
    "            \n",
    "            log_DKL = np.exp(-calculate_kl_divergence(next_state_f.reshape((2,)),cov_f,next_state_g.reshape((2,)),cov_g)-cost/100)            #if log_DKL == 0.:\n",
    "            #    log_DKL = 1e-10\n",
    "            self.pf[i] = target_pf[i]*log_DKL #Calculate the DKL for each possible input, get corresponding probability\n",
    "        S2 = np.sum(self.pf) #Normalize resulting policy\n",
    "        #print(pf)\n",
    "        self.pf = [x/S2 for x in self.pf]\n",
    "        self.action = np.random.choice(u_axis_2, p=self.pf) #Select a random action from the new policy\n",
    "        #previous_action = action\n",
    "        self.step(self.action) #Simulation step\n",
    "        \n"
   ]
  },
  {
   "cell_type": "code",
   "execution_count": 8,
   "metadata": {},
   "outputs": [
    {
     "data": {
      "text/plain": [
       "1"
      ]
     },
     "execution_count": 8,
     "metadata": {},
     "output_type": "execute_result"
    }
   ],
   "source": [
    "P = Pendulum()\n",
    "P.m"
   ]
  },
  {
   "cell_type": "code",
   "execution_count": 10,
   "metadata": {},
   "outputs": [],
   "source": [
    "###\n",
    "#The following cells are dedicated to building the MPC controller used for the expert policy. Refer to the MPC file for details"
   ]
  },
  {
   "cell_type": "code",
   "execution_count": 13,
   "metadata": {},
   "outputs": [],
   "source": [
    "import numpy as np\n",
    "import sys\n",
    "from casadi import *\n",
    "import do_mpc\n",
    "\n",
    "\n",
    "model_type = 'continuous' # either 'discrete' or 'continuous'\n",
    "model = do_mpc.model.Model(model_type)"
   ]
  },
  {
   "cell_type": "code",
   "execution_count": 14,
   "metadata": {},
   "outputs": [],
   "source": [
    "theta = model.set_variable(var_type='_x', var_name='theta', shape=(1,1))\n",
    "dtheta = model.set_variable(var_type='_x', var_name='dtheta', shape=(1,1))\n",
    "\n",
    "u = model.set_variable(var_type='_u', var_name='u', shape=(1,1))"
   ]
  },
  {
   "cell_type": "code",
   "execution_count": 15,
   "metadata": {},
   "outputs": [],
   "source": [
    "m = 0.5\n",
    "l = 0.6\n",
    "\n",
    "g = 9.81"
   ]
  },
  {
   "cell_type": "code",
   "execution_count": 16,
   "metadata": {},
   "outputs": [],
   "source": [
    "model.set_rhs('theta',dtheta)\n",
    "model.set_rhs('dtheta', g*sin(theta)/l + u/(m*l*l))"
   ]
  },
  {
   "cell_type": "code",
   "execution_count": 17,
   "metadata": {},
   "outputs": [],
   "source": [
    "model.setup()"
   ]
  },
  {
   "cell_type": "code",
   "execution_count": 18,
   "metadata": {},
   "outputs": [],
   "source": [
    "mpc = do_mpc.controller.MPC(model)"
   ]
  },
  {
   "cell_type": "code",
   "execution_count": 19,
   "metadata": {},
   "outputs": [],
   "source": [
    "setup_mpc = {\n",
    "    'n_horizon': 20,\n",
    "    't_step': 0.1,\n",
    "    'n_robust': 0,\n",
    "    'store_full_solution': True,\n",
    "}\n",
    "mpc.set_param(**setup_mpc)"
   ]
  },
  {
   "cell_type": "code",
   "execution_count": 20,
   "metadata": {},
   "outputs": [],
   "source": [
    "l_term = theta*theta + 0.1*dtheta*dtheta\n",
    "m_term = theta*theta + 0.5*dtheta*dtheta\n",
    "mpc.set_objective(mterm=m_term, lterm=l_term)"
   ]
  },
  {
   "cell_type": "code",
   "execution_count": 21,
   "metadata": {},
   "outputs": [],
   "source": [
    "\n",
    "mpc.bounds['lower','_u', 'u'] = -2.5\n",
    "mpc.bounds['upper','_u', 'u'] = 2.5"
   ]
  },
  {
   "cell_type": "code",
   "execution_count": 22,
   "metadata": {},
   "outputs": [
    {
     "name": "stderr",
     "output_type": "stream",
     "text": [
      "c:\\Users\\jamal\\anaconda3\\envs\\mbrl\\lib\\site-packages\\do_mpc\\controller.py:904: UserWarning: rterm was not set and defaults to zero. Changes in the control inputs are not penalized. Can lead to oscillatory behavior.\n",
      "  warnings.warn('rterm was not set and defaults to zero. Changes in the control inputs are not penalized. Can lead to oscillatory behavior.')\n"
     ]
    }
   ],
   "source": [
    "mpc.setup()"
   ]
  },
  {
   "cell_type": "code",
   "execution_count": 23,
   "metadata": {},
   "outputs": [],
   "source": [
    "x0 = np.array([np.pi, 0]).reshape(-1,1)\n",
    "mpc.x0 = x0"
   ]
  },
  {
   "cell_type": "code",
   "execution_count": 24,
   "metadata": {},
   "outputs": [],
   "source": [
    "mpc.set_initial_guess()"
   ]
  },
  {
   "cell_type": "code",
   "execution_count": 25,
   "metadata": {},
   "outputs": [],
   "source": [
    "mpc.reset_history()"
   ]
  },
  {
   "cell_type": "code",
   "execution_count": 39,
   "metadata": {},
   "outputs": [],
   "source": [
    "%%capture\n",
    "nSims = 20\n",
    "nSteps = 300\n",
    "fullH1 = np.zeros((nSims,nSteps-1))\n",
    "fullH2 = np.zeros((nSims,nSteps-1))\n",
    "uH = np.zeros((nSims,nSteps-1))\n",
    "pf = np.zeros((nSims,nSteps-1,20))\n",
    "#uHL = \n",
    "for j in range(nSims): #Perform 10 simulations\n",
    "    hist = [[0,0]]*nSteps\n",
    "    uhist = [0]*nSteps\n",
    "\n",
    "    P1 = Pendulum() #Initialize a new pendulum\n",
    "    P1.m = 1\n",
    "    P1.set_state(np.pi,0) #Set the new pendulum to the initial state\n",
    "    mpc.reset_history()\n",
    "    for i in range(nSteps-1): #For each step in the simulation\n",
    "        state = P1.state #Get the state\n",
    "        hist[i+1] = state #Log the state\n",
    "        x0 = state.reshape(-1,1)\n",
    "        u0 = mpc.make_step(x0) #Get the demonstrator action\n",
    "        u = u0[0][0]\n",
    "        P1.Control_step_continous(u,u) #Perform a step: get expert policy from action, derive actual policy, sample, simulate\n",
    "        uhist[i] = P1.action #Log action\n",
    "        pf[j,i,:] = P1.pf\n",
    "        print('Step Number:'+str(i))\n",
    "    fullH1[j] = [x[0] for x in hist[1:]]\n",
    "    fullH2[j] = [x[1] for x in hist[1:]]\n",
    "    uH[j] = uhist[:nSteps-1]"
   ]
  },
  {
   "cell_type": "code",
   "execution_count": null,
   "metadata": {},
   "outputs": [],
   "source": [
    "#Saving trajectory data\n",
    "\n",
    "np.save(\"State_H13.npy\",fullH1[:,:])\n",
    "np.save(\"State_H23.npy\",fullH2[:,:])\n",
    "np.save(\"Control_H3.npy\",uH[:,:])"
   ]
  },
  {
   "cell_type": "code",
   "execution_count": 27,
   "metadata": {},
   "outputs": [
    {
     "name": "stdout",
     "output_type": "stream",
     "text": [
      "(299,)\n"
     ]
    }
   ],
   "source": [
    "#Loading Trajectory Data\n",
    "\n",
    "SH1 = np.load(\"State_H13.npy\")\n",
    "SH2 = np.load(\"State_H23.npy\")\n",
    "UH = np.load(\"Control_H3.npy\")\n",
    "\n",
    "print(np.shape(SH1[19,:]))"
   ]
  },
  {
   "cell_type": "code",
   "execution_count": 186,
   "metadata": {},
   "outputs": [],
   "source": [
    "SH1 = np.reshape(SH1,(SH1.shape[0]*SH1.shape[1]))\n",
    "SH2 = np.reshape(SH2,(SH2.shape[0]*SH2.shape[1]))\n",
    "\n",
    "UH = np.reshape(UH,(UH.shape[0]*UH.shape[1]))"
   ]
  },
  {
   "cell_type": "code",
   "execution_count": 185,
   "metadata": {},
   "outputs": [],
   "source": [
    "#Removing outliers from the trajectory data\n",
    "\n",
    "SH1 = np.delete(SH1,[19,20,21,22,23,24,25,26],axis=1)\n",
    "SH2 = np.delete(SH2,[19,20,21,22,23,24,25,26],axis=1)\n",
    "UH = np.delete(UH,[20,21,22,23,24,25,26,27],axis=1)"
   ]
  },
  {
   "cell_type": "code",
   "execution_count": 297,
   "metadata": {},
   "outputs": [],
   "source": [
    "def feature(ind):\n",
    "    f1 = (np.cos(ind[0])-1.0)**2\n",
    "    f2 = (np.cos(ind[0])-np.cos(np.pi))**2\n",
    "    f = np.reshape(np.array([f1,f2]),(2,))\n",
    "    return(f)"
   ]
  },
  {
   "cell_type": "code",
   "execution_count": 298,
   "metadata": {},
   "outputs": [],
   "source": [
    "%%capture\n",
    "import cvxpy as cp\n",
    "import numpy as np\n",
    "import time\n",
    "M = 298\n",
    "N_features = 2\n",
    "w = cp.Variable((1,N_features))\n",
    "constraints = [w >= 0]\n",
    "R = np.zeros((99,1))\n",
    "L = []\n",
    "#S_axis = np.array([i for i in range(50)])\n",
    "\n",
    "#f_expect = np.zeros((N_features,20)) \n",
    "features = np.zeros((N_features,20,M))\n",
    "#f_sampled = np.zeros((N_features,M)) \n",
    "feature_sampled = np.zeros((N_features,M))\n",
    "PF = np.zeros((20,M))\n",
    "pf = np.zeros(20)\n",
    "Log_DKL_1 = np.zeros((20,M))\n",
    "Log_DKL_2 = np.zeros((20,M))\n",
    "KL = np.zeros((20,M))\n",
    "\n",
    "for i in range(M):\n",
    "\n",
    "    #############################################################################################################################\n",
    "    state = np.array([S1[i],S2[i]]) #Get the state\n",
    "\n",
    "    x0 = state.reshape(-1,1)\n",
    "    u0 = mpc.make_step(x0) #Get the demonstrator action\n",
    "    u = u0[0][0]\n",
    "    \n",
    "    tpf = st.norm.pdf(u_axis_2, u, 0.2) #Input pf\n",
    "    S = np.sum(tpf) #Normalizing input pf\n",
    "    target_pf = [x/S for x in tpf]\n",
    "    \n",
    "    for j in range(20):\n",
    "        \n",
    "        GP_input = np.reshape(np.array([state[0],state[1],u_axis_2[j]]),(1,3))\n",
    "        next_state_f,sigma_f= GP_f.predict(GP_input,return_std=True)\n",
    "        next_state_g,sigma_g= GP_g.predict(GP_input,return_std=True)\n",
    "            \n",
    "        cov_f = np.diag(sigma_f.reshape((2,))**2)\n",
    "        cov_g = np.diag(sigma_g.reshape((2,))**2)\n",
    "        \n",
    "        f = st.multivariate_normal(next_state_f.reshape((2,)),cov_f) #Get the actual and demonstrator plants from the binned data\n",
    "        \n",
    "        N_samples = 500\n",
    "        f_samples = f.rvs(N_samples)\n",
    "            \n",
    "        feature_expect = np.zeros((N_features,N_samples))\n",
    "            \n",
    "        for k in range(N_samples):\n",
    "            feature_expect[:,k] = feature(f_samples[k,:])\n",
    "        \n",
    "        features[:,j,i] = np.mean(feature_expect,axis=1) # calculating feature vector\n",
    "        KL[j,i] = calculate_kl_divergence(next_state_f.reshape((2,)),cov_f,next_state_g.reshape((2,)),cov_g)\n",
    "        log_DKL = np.exp(-KL[j,i])\n",
    "        Log_DKL_1[j,i] = log_DKL\n",
    "        if log_DKL == 0.0:\n",
    "            log_DKL = 1e-10\n",
    "        Log_DKL_2[j,i] = log_DKL    \n",
    "        pf[j] = target_pf[j]*log_DKL \n",
    "    PF[:,i] = pf\n",
    "    \n",
    "    \n",
    "    GP_input_single = np.reshape(np.array([state[0],state[1],U[i]]),(1,3))\n",
    "    next_state_f_single,sigma_f_single= GP_f.predict(GP_input_single,return_std=True)\n",
    "    \n",
    "    cov_f_single = np.diag(sigma_f_single.reshape((2,))**2)\n",
    "    f_single = st.multivariate_normal(next_state_f_single.reshape((2,)),cov_f_single) \n",
    "    f_sample_single = f_single.rvs(N_samples)\n",
    "    feature_expect_single = np.zeros((N_features,N_samples))\n",
    "            \n",
    "    for k in range(N_samples):\n",
    "        feature_expect_single[:,k] = feature(f_sample_single[k,:])\n",
    "    feature_sampled[:,i] = np.mean(feature_expect_single,axis=1)\n",
    "    \n",
    "    \n",
    "    L.append(-(w @ feature_sampled[:,i]) + cp.log_sum_exp(cp.reshape(w @ features[:,:,i],(20,)) + cp.log(PF[:,i]))) #Log likelihood for each instance\n",
    "   \n",
    "     \n",
    "objective = cp.Minimize(cp.sum(L))    \n",
    "    \n",
    "prob = cp.Problem(objective)\n",
    "\n",
    "result = prob.solve(verbose = True)\n",
    "\n",
    "print(\"status:\", prob.status)\n",
    "print(\"optimal value\", prob.value)"
   ]
  },
  {
   "cell_type": "code",
   "execution_count": 324,
   "metadata": {},
   "outputs": [
    {
     "name": "stdout",
     "output_type": "stream",
     "text": [
      "Weights = [[-13.66639622   8.56125564]]\n"
     ]
    }
   ],
   "source": [
    "weights = w.value\n",
    "np.save('weights.npy',weights)\n",
    "print('Weights =',weights)"
   ]
  },
  {
   "cell_type": "code",
   "execution_count": 28,
   "metadata": {},
   "outputs": [],
   "source": [
    "nSteps = 300"
   ]
  },
  {
   "cell_type": "code",
   "execution_count": 28,
   "metadata": {},
   "outputs": [],
   "source": [
    "import math\n",
    "S_t = transfer_points(SH1[0,:])\n",
    "S_t = np.array(S_t)"
   ]
  },
  {
   "cell_type": "code",
   "execution_count": 40,
   "metadata": {},
   "outputs": [],
   "source": [
    "means = [0]*(nSteps-1) #Average and std over the simulations\n",
    "stds = [0]*(nSteps-1)\n",
    "for i in range(nSteps-1):\n",
    "    means[i] = np.mean(fullH1[:,i])\n",
    "    stds[i] = np.std(fullH1[:,i])\n",
    "    \n",
    "#S1 = np.array(means)    "
   ]
  },
  {
   "cell_type": "code",
   "execution_count": 41,
   "metadata": {},
   "outputs": [],
   "source": [
    "means2 = [0]*(nSteps-1) #Average and std over the simulations\n",
    "stds2 = [0]*(nSteps-1)\n",
    "for i in range(nSteps-1):\n",
    "    means2[i] = np.mean(fullH2[:,i])\n",
    "    stds2[i] = np.std(fullH2[:,i])\n",
    "\n",
    "#S2 = np.array(means2)        "
   ]
  },
  {
   "cell_type": "code",
   "execution_count": 42,
   "metadata": {},
   "outputs": [],
   "source": [
    "umeans = [0]*(nSteps-1)\n",
    "ustds = [0]*(nSteps-1)\n",
    "for i in range(nSteps-1):\n",
    "    umeans[i] = np.mean(uH[:,i])\n",
    "    ustds[i] = np.std(uH[:,i])\n",
    "    \n",
    "#U = np.array(umeans) \n",
    "    "
   ]
  },
  {
   "cell_type": "code",
   "execution_count": 43,
   "metadata": {
    "scrolled": true
   },
   "outputs": [
    {
     "data": {
      "image/png": "[encoded data removed]",
      "text/plain": [
       "<Figure size 432x360 with 2 Axes>"
      ]
     },
     "metadata": {
      "needs_background": "light"
     },
     "output_type": "display_data"
    }
   ],
   "source": [
    "from matplotlib import pyplot as plt\n",
    "from pylab import rcParams\n",
    "plt.rcParams.update({'font.size': 16})\n",
    "\n",
    "x = np.array([x/10 for x in range(nSteps-1)])\n",
    "y = np.array(means)\n",
    "ci = np.array(stds)\n",
    "\n",
    "x_u = np.array([x/10 for x in range(nSteps-1)])\n",
    "y_u = np.array(umeans)\n",
    "ci_u = np.array(ustds)\n",
    "\n",
    "fig, ax = plt.subplots(2,1)\n",
    "fig.figure.set_figheight(5)\n",
    "ax[0].plot(x,y)\n",
    "ax[0].fill_between(x, (y-ci), (y+ci), color='b', alpha=.1)\n",
    "ax[0].set_ylabel('$\\Theta_{k}$')\n",
    "\n",
    "ax[1].plot(x_u,y_u)\n",
    "\n",
    "ax[1].fill_between(x_u, (y_u-ci_u), (y_u+ci_u), color='b', alpha=.1)\n",
    "\n",
    "ax[1].set_xlabel('Time[sec]')\n",
    "ax[1].set_ylabel('$u_{k}$')\n",
    "\n",
    "plt.savefig('GP_pendulum_joint_ci_1m_0.6l.jpeg',bbox_inches ='tight')"
   ]
  }
 ],
 "metadata": {
  "kernelspec": {
   "display_name": "Python 3.8.13 ('mbrl')",
   "language": "python",
   "name": "python3"
  },
  "language_info": {
   "codemirror_mode": {
    "name": "ipython",
    "version": 3
   },
   "file_extension": ".py",
   "mimetype": "text/x-python",
   "name": "python",
   "nbconvert_exporter": "python",
   "pygments_lexer": "ipython3",
   "version": "3.8.13"
  },
  "vscode": {
   "interpreter": {
    "hash": "e9a1ee8b2f2310f5a3657d2b553b2843d6654369724d8ae601e3557d41810e89"
   }
  }
 },
 "nbformat": 4,
 "nbformat_minor": 4
}
