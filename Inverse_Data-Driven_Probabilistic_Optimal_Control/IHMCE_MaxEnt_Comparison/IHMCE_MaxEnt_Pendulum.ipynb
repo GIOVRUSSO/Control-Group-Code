{
 "cells": [
  {
   "cell_type": "code",
   "execution_count": 1,
   "metadata": {},
   "outputs": [],
   "source": [
    "# a few packages we need to import\n",
    "\n",
    "%matplotlib notebook\n",
    "import numpy as np\n",
    "import matplotlib.pyplot as plt\n",
    "import matplotlib\n",
    "import matplotlib.animation as animation\n",
    "import IPython \n",
    "import pickle\n",
    "import random\n",
    "\n",
    "from itertools import chain,product\n",
    "from scipy import stats as st\n",
    "from scipy import special as sp"
   ]
  },
  {
   "cell_type": "code",
   "execution_count": 2,
   "metadata": {},
   "outputs": [],
   "source": [
    "import optimizer as O"
   ]
  },
  {
   "cell_type": "code",
   "execution_count": 4,
   "metadata": {},
   "outputs": [],
   "source": [
    "class Trajectory:\n",
    "    \"\"\"\n",
    "    A trajectory consisting of states, corresponding actions, and outcomes.\n",
    "\n",
    "    Args:\n",
    "        transitions: The transitions of this trajectory as an array of\n",
    "            tuples `(state_from, action, state_to)`. Note that `state_to` of\n",
    "            an entry should always be equal to `state_from` of the next\n",
    "            entry.\n",
    "    \"\"\"\n",
    "    def __init__(self, transitions):\n",
    "        self._t = transitions\n",
    "\n",
    "    def transitions(self):\n",
    "        \"\"\"\n",
    "        The transitions of this trajectory.\n",
    "\n",
    "        Returns:\n",
    "            All transitions in this trajectory as array of tuples\n",
    "            `(state_from, action, state_to)`.\n",
    "        \"\"\"\n",
    "        return self._t\n",
    "\n",
    "    def states(self):\n",
    "        \"\"\"\n",
    "        The states visited in this trajectory.\n",
    "\n",
    "        Returns:\n",
    "            All states visited in this trajectory as iterator in the order\n",
    "            they are visited. If a state is being visited multiple times,\n",
    "            the iterator will return the state multiple times according to\n",
    "            when it is visited.\n",
    "        \"\"\"\n",
    "        return map(lambda x: x[0], chain(self._t, [(self._t[-1][2], 0, 0)]))\n",
    "\n",
    "    def __repr__(self):\n",
    "        return \"Trajectory({})\".format(repr(self._t))\n",
    "\n",
    "    def __str__(self):\n",
    "        return \"{}\".format(self._t)"
   ]
  },
  {
   "cell_type": "code",
   "execution_count": 5,
   "metadata": {},
   "outputs": [],
   "source": [
    "class DiscretePendulum:\n",
    "    \n",
    "    \n",
    "    def __init__(self, nq=50, nv=50, nu=3, u_max=5, v_max=5.):\n",
    "        \"\"\"\n",
    "        constructor of the class, takes as input desired discretization number\n",
    "        nq (for angle), nv (for angular velocity) and nu (for control) and the maximum control\n",
    "        and angular velocity\n",
    "        \"\"\"\n",
    "        #store discretization information\n",
    "        self.nq=nq\n",
    "        self.nv=nv\n",
    "        self.nu = nu\n",
    "        self.v_max = v_max\n",
    "        self.m = 1\n",
    "        self.l = 0.6\n",
    "        \n",
    "        self.angle_std = 3*2*np.pi/360\n",
    "        self.speed_std = 0.1\n",
    "        \n",
    "        # create lookup tables for discretized states\n",
    "        self.u = np.linspace(-u_max, u_max, self.nu)\n",
    "        self.q = np.linspace(-np.pi, np.pi, self.nq, endpoint=False)\n",
    "        self.v = np.linspace(-v_max, v_max, self.nv)\n",
    "        \n",
    "        #the total number of discretized states\n",
    "        self.num_states = self.nq * self.nv\n",
    "        \n",
    "        #gravity constant\n",
    "        self.g=9.81\n",
    "\n",
    "        #discretization step\n",
    "        self.delta_t = 0.1\n",
    "        #integration step / smaller than discretization step to ensure stability of integration\n",
    "        self.dt = 0.1\n",
    "        self.integration_ratio = int(self.delta_t/self.dt)\n",
    "        \n",
    "        # we pre-compute every possible transition and store the index of the transition\n",
    "        # in a 2D table (for element address the state and second the control)\n",
    "        self.next_state_index = np.empty([self.num_states, self.nu], dtype=np.int32)\n",
    "        for i in range(self.num_states):\n",
    "            for k in range(self.nu):\n",
    "                x_next = self.step(self.get_states(i), self.u[k])\n",
    "                self.next_state_index[i,k] = self.get_index(x_next)\n",
    "        \n",
    "        \n",
    "        self.transition_prob = np.zeros([self.num_states, self.nu, self.num_states])\n",
    "        for _ in range(100):\n",
    "            for i in range(self.num_states):\n",
    "                for k in range(self.nu):\n",
    "                    x_next = self.step(self.get_states(i), self.u[k])\n",
    "                    next_state_index = self.get_index(x_next)\n",
    "                    self.transition_prob[i,k,next_state_index] += 1.0\n",
    "        \n",
    "        for i in range(self.num_states):\n",
    "            for k in range(self.nu):\n",
    "                self.transition_prob[i,k] = self.transition_prob[i,k]/np.sum(self.transition_prob[i,k])\n",
    "            \n",
    "            \n",
    "    def step(self,x,u):\n",
    "        \n",
    "        for i in range(self.integration_ratio):\n",
    "            x_next = (x[0] + self.dt * x[1] + 1.*np.random.normal(0,self.angle_std))\n",
    "            v_next = np.clip(x[1] + self.dt * (u/(self.m*self.l*self.l) + self.g*np.sin(x[0])/self.l) + 1.*np.random.normal(0,self.speed_std), -self.v_max, self.v_max)\n",
    "            \n",
    "            if  x_next < -np.pi: #Angle is modulo 2\\pi\n",
    "                x_next = x_next + 2*np.pi\n",
    "            if x_next > np.pi:\n",
    "                x_next = x_next - 2*np.pi\n",
    "                \n",
    "            x = np.array([x_next,v_next])\n",
    "        return x\n",
    "    \n",
    "    def simulate(self, x0, policy, T):\n",
    "       \n",
    "        horizon_length = int(T/self.delta_t)\n",
    "        x=np.empty([2, horizon_length+1])\n",
    "        trajectory = []\n",
    "        x[:,0] = x0\n",
    "        u=np.empty([horizon_length])\n",
    "        for i in range(horizon_length):\n",
    "            u[i] = np.random.choice(self.u,p=policy[self.get_index(x[:,i])])\n",
    "            x[:,i+1] = self.step(x[:,i], u[i])\n",
    "            trajectory+=[(self.get_index(x[:,i]),self.get_u_index(u[i]),self.get_index(x[:,i+1]))]\n",
    "        return x, u\n",
    "    \n",
    "    def generate_trajectories(self, x0, policy, T):\n",
    "       \n",
    "        horizon_length = int(T/self.delta_t)\n",
    "        x=np.empty([2, horizon_length+1])\n",
    "        trajectory = []\n",
    "        \n",
    "        x[:,0] = x0\n",
    "        u=np.empty([horizon_length])\n",
    "        for i in range(horizon_length):\n",
    "            x_sample = np.zeros((2,100))\n",
    "            u[i] = np.random.choice(self.u,p=policy[self.get_index(x[:,i])])\n",
    "            for j in range(100):\n",
    "                x_sample[:,j] = self.step(x[:,i], u[i])\n",
    "            \n",
    "            x[:,i+1] = np.mean(np.array(x_sample),axis=1)\n",
    "            trajectory+=[(self.get_index(x[:,i]),self.get_u_index(u[i]),self.get_index(x[:,i+1]))]\n",
    "        return Trajectory(trajectory)\n",
    "\n",
    "    \n",
    "    def get_index(self, x):\n",
    "        \n",
    "        ind_q = np.argmin((x[0]-self.q)**2)\n",
    "        ind_v = np.argmin((x[1]-self.v)**2)\n",
    "        return ind_q + ind_v*self.nq\n",
    "    \n",
    "    def get_qv_indices(self, x):\n",
    "        \n",
    "        ind_q = np.argmin((x[0]-self.q)**2)\n",
    "        ind_v = np.argmin((x[1]-self.v)**2)\n",
    "        return ind_q, ind_v\n",
    "    \n",
    "    def get_u_index(self, u):\n",
    "\n",
    "        ind_u = np.argmin((u-self.u)**2)\n",
    "        return ind_u \n",
    "    \n",
    "    def get_states(self, index):\n",
    "        \n",
    "        iv,ix = np.divmod(index, self.nq)\n",
    "        return np.array([self.q[ix], self.v[iv]])\n",
    "    \n",
    "    def get_input(self, index):\n",
    "        \n",
    "        iv,ix = np.divmod(index, self.nu)\n",
    "        return self.u[ix]                   "
   ]
  },
  {
   "cell_type": "code",
   "execution_count": 6,
   "metadata": {},
   "outputs": [],
   "source": [
    "def cost_descrete(ind,pendulum,theta):\n",
    "    x = pendulum.get_states(ind)\n",
    "    return theta[0]*(1-np.exp(-(1-np.cos(x[0]))**2)) + theta[1]*(1-np.exp(-(x[1]**2)))"
   ]
  },
  {
   "cell_type": "code",
   "execution_count": 8,
   "metadata": {},
   "outputs": [],
   "source": [
    "transition_prob = np.reshape(np.load('plant_l06_m1_new.npy'),(2500,-1,2500))"
   ]
  },
  {
   "cell_type": "code",
   "execution_count": 37,
   "metadata": {},
   "outputs": [],
   "source": [
    "transition_prob_new = np.reshape(transition_prob,(2500,-1,2500))"
   ]
  },
  {
   "cell_type": "code",
   "execution_count": 38,
   "metadata": {},
   "outputs": [],
   "source": [
    "class ValueIteration:\n",
    "    \n",
    "    def __init__(self, model, cost, discount_factor=0.99):\n",
    "        \n",
    "        \n",
    "        # value function stored as a 1D array (indexed as we indexed states in pendulum)\n",
    "        self.value_function = np.zeros([model.num_states])\n",
    "        # we also store the policy similarly\n",
    "        self.policy = np.zeros([model.num_states])\n",
    "        # references to the pendulum and cost function\n",
    "        self.model = model\n",
    "        self.cost = cost\n",
    "        \n",
    "        #discount factor for cost\n",
    "        self.gamma = discount_factor\n",
    "                \n",
    "    def iterate(self, num_iter=1):\n",
    "        \n",
    "        for i in range(num_iter):\n",
    "            J_new = self.value_function.copy()\n",
    "            for j in range(self.model.num_states):\n",
    "                #for each possible control input we compute the cost\n",
    "                r = np.zeros([self.model.nu])\n",
    "                for l in range(self.model.nu):\n",
    "                    # the current states and control\n",
    "                    x = self.model.get_states(j)\n",
    "                    u = self.model.u[l]\n",
    "                    # the index for the next state\n",
    "                    next_index = self.model.next_state_index[j,l]\n",
    "                    #compute the cost\n",
    "                    r[l] = self.cost(x, u) + self.gamma*self.value_function[next_index]\n",
    "                    \n",
    "                # we take the smallest cost value to update the value function\n",
    "                J_new[j] = np.max(r)\n",
    "                #here we also store the policy (so we have it for later)\n",
    "                self.policy[j] = self.model.u[np.argmax(r)]\n",
    "                \n",
    "            #we update the current value function if there is any change otherwise we are done\n",
    "            if ((self.value_function-J_new)**2 < 10e-3).all():\n",
    "                print(\"CONVERGED after iteration \" + str(i))\n",
    "                break\n",
    "            else:\n",
    "                self.value_function = J_new.copy()\n",
    "    "
   ]
  },
  {
   "cell_type": "code",
   "execution_count": 39,
   "metadata": {},
   "outputs": [],
   "source": [
    "class ValueIteration_S:\n",
    "    \n",
    "    def __init__(self, model,cost, p_transition,discount_factor=0.99):\n",
    "        \n",
    "        \n",
    "        # value function stored as a 1D array (indexed as we indexed states in pendulum)\n",
    "        self.value_function = np.zeros([model.num_states])\n",
    "        # we also store the policy similarly\n",
    "        self.policy = np.zeros([model.num_states,model.nu])\n",
    "        # references to the pendulum and cost function\n",
    "        self.model = model\n",
    "        self.cost = cost\n",
    "        self.p_transition = p_transition\n",
    "        \n",
    "        #discount factor for cost\n",
    "        self.gamma = discount_factor\n",
    "                \n",
    "    def iterate(self, num_iter=1):\n",
    "        \n",
    "        for i in range(num_iter):\n",
    "            J_new = self.value_function.copy()\n",
    "            for j in range(self.model.num_states):\n",
    "                #for each possible control input we compute the cost\n",
    "                r = np.zeros([self.model.nu])\n",
    "                for l in range(self.model.nu):\n",
    "                    # the current states and control\n",
    "                    x = self.model.get_states(j)\n",
    "                    u = self.model.u[l]\n",
    "                    # the index for the next state\n",
    "                    #next_index = self.model.next_state_index[j,l]\n",
    "                    \n",
    "                    Q = self.model.transition_prob[j,l]*(self.cost + (self.gamma*self.value_function))\n",
    "                    # C = self.model.transition_prob[j,l]*self.cost\n",
    "                    #compute the cost\n",
    "                    r[l] = self.cost[j] + np.sum(Q,axis=0) #+ np.sum(C,axis=0)\n",
    "                    \n",
    "                # we take the smallest cost value to update the value function\n",
    "                J_new[j] = np.argmax(r)\n",
    "                #here we also store the policy (so we have it for later)\n",
    "                self.policy[j] = np.exp(r-J_new[j])\n",
    "                # self.policy[j] = self.model.u[np.argmax(r)]\n",
    "                \n",
    "            #we update the current value function if there is any change otherwise we are done\n",
    "            if ((self.value_function-J_new)**2 < 10e-5).all():\n",
    "                print(\"CONVERGED after iteration \" + str(i))\n",
    "                break\n",
    "            else:\n",
    "                self.value_function = J_new.copy()\n",
    "    "
   ]
  },
  {
   "cell_type": "code",
   "execution_count": 9,
   "metadata": {},
   "outputs": [],
   "source": [
    "class ValueIteration_Soft:\n",
    "    \n",
    "    def __init__(self, model,cost, p_transition,discount_factor=0.99):\n",
    "        \n",
    "        \n",
    "        # value function stored as a 1D array (indexed as we indexed states in pendulum)\n",
    "        self.value_function = np.zeros([model.num_states])\n",
    "        # we also store the policy similarly\n",
    "        self.policy = np.zeros([model.num_states,model.nu])\n",
    "        # references to the pendulum and cost function\n",
    "        self.model = model\n",
    "        self.cost = cost\n",
    "        self.p_transition = p_transition\n",
    "        \n",
    "        #discount factor for cost\n",
    "        self.gamma = discount_factor\n",
    "                \n",
    "    def iterate(self, num_iter=1):\n",
    "        \n",
    "        for i in range(num_iter):\n",
    "            J_new = self.value_function.copy()\n",
    "            for j in range(self.model.num_states):\n",
    "                #for each possible control input we compute the cost\n",
    "                r = np.zeros([self.model.nu])\n",
    "                for l in range(self.model.nu):\n",
    "                    # the current states and control\n",
    "                    x = self.model.get_states(j)\n",
    "                    u = self.model.u[l]\n",
    "                    \n",
    "                    #q,v =self.model.get_qv_indices(x)\n",
    "                    # the index for the next state\n",
    "                    #next_index = self.model.next_state_index[j,l]\n",
    "                    \n",
    "                    Q = self.model.transition_prob[j,l]*(self.cost + (self.gamma*self.value_function))\n",
    "                    # C = self.model.transition_prob[j,l]*self.cost\n",
    "                    #compute the cost\n",
    "                    r[l] = self.cost[j] + np.sum(Q,axis=0) #+ np.sum(C,axis=0)\n",
    "                    \n",
    "                # we take the smallest cost value to update the value function\n",
    "                J_new[j] = sp.logsumexp(r)\n",
    "                #here we also store the policy (so we have it for later)\n",
    "                self.policy[j] = np.exp(r-J_new[j])\n",
    "                \n",
    "            #we update the current value function if there is any change otherwise we are done\n",
    "            if ((self.value_function-J_new)**2 < 10e-5).all():\n",
    "                print(\"CONVERGED after iteration \" + str(i))\n",
    "                break\n",
    "            else:\n",
    "                self.value_function = J_new.copy()\n",
    "    "
   ]
  },
  {
   "cell_type": "code",
   "execution_count": 10,
   "metadata": {},
   "outputs": [],
   "source": [
    "# we instantiate a pendulum with discretization 50x50 for angle q and velocity v and 20 actions\n",
    "# pendulum = DiscretePendulum(nq=50, nv=50, nu=20)"
   ]
  },
  {
   "cell_type": "code",
   "execution_count": 11,
   "metadata": {},
   "outputs": [],
   "source": [
    "pendulum = DiscretePendulum(nq=50, nv=50, nu=20, u_max=2.5)"
   ]
  },
  {
   "cell_type": "code",
   "execution_count": 12,
   "metadata": {},
   "outputs": [],
   "source": [
    "def cost_mat(cost,theta):\n",
    "\n",
    "    cost_m = np.zeros((2500))\n",
    "\n",
    "    for i in range(2500):\n",
    "        cost_m[i] = cost(i,pendulum,theta)\n",
    "    return cost_m"
   ]
  },
  {
   "cell_type": "code",
   "execution_count": 13,
   "metadata": {},
   "outputs": [],
   "source": [
    "cost_matrix = cost_mat(cost_descrete,[-100,-1.0])"
   ]
  },
  {
   "cell_type": "code",
   "execution_count": 165,
   "metadata": {},
   "outputs": [],
   "source": [
    "cost_matrix_OG = cost_mat(cost_descrete,[100,1.0])\n",
    "\n",
    "cost_matrix_MaxEnt = cost_mat(cost_descrete,[137.68,76.68])\n",
    "\n",
    "cost_matrix_IHMCE = cost_mat(cost_descrete,[150.45,30.43])\n",
    "\n",
    "cost_matrix_IOC = cost_mat(cost_descrete,[1903.7,3.33])\n"
   ]
  },
  {
   "cell_type": "code",
   "execution_count": 166,
   "metadata": {},
   "outputs": [],
   "source": [
    "cost_matrix_OG_norm = cost_matrix_OG/np.sum(cost_matrix_OG)\n",
    "\n",
    "cost_matrix_ME_norm = cost_matrix_MaxEnt/np.sum(cost_matrix_MaxEnt)\n",
    "\n",
    "cost_matrix_IHMCE_norm = cost_matrix_IHMCE/np.sum(cost_matrix_IHMCE)\n",
    "\n",
    "cost_matrix_IOC_norm = cost_matrix_IOC/np.sum(cost_matrix_IOC)"
   ]
  },
  {
   "cell_type": "code",
   "execution_count": 167,
   "metadata": {},
   "outputs": [
    {
     "name": "stdout",
     "output_type": "stream",
     "text": [
      "KLD MaxEnt 0.12459359717234546\n",
      "KLD IHMCE 0.0467979210312061\n",
      "KLD Alg 2 0.0016208070317053319\n"
     ]
    }
   ],
   "source": [
    "cost_KLD_1 = st.entropy(cost_matrix_OG_norm,cost_matrix_ME_norm)\n",
    "\n",
    "cost_KLD_2 = st.entropy(cost_matrix_OG_norm,cost_matrix_IHMCE_norm)\n",
    "\n",
    "cost_KLD_3 = st.entropy(cost_matrix_OG_norm,cost_matrix_IOC_norm)\n",
    "\n",
    "print('KLD MaxEnt',cost_KLD_1)\n",
    "print('KLD IHMCE',cost_KLD_2)\n",
    "print('KLD Alg 2',cost_KLD_3)\n"
   ]
  },
  {
   "cell_type": "code",
   "execution_count": null,
   "metadata": {
    "scrolled": false
   },
   "outputs": [],
   "source": [
    "# we instanciate a value iteration object for a pendulum model and a cost function\n",
    "value_iteration = ValueIteration(pendulum, cost)\n",
    "\n",
    "# we run the iterations\n",
    "value_iteration.iterate(2000)"
   ]
  },
  {
   "cell_type": "code",
   "execution_count": 14,
   "metadata": {},
   "outputs": [
    {
     "name": "stdout",
     "output_type": "stream",
     "text": [
      "CONVERGED after iteration 518\n"
     ]
    }
   ],
   "source": [
    "# we instanciate a value iteration object for a pendulum model and a cost function\n",
    "value_iteration = ValueIteration_Soft(pendulum, cost_matrix, transition_prob)\n",
    "\n",
    "# we run the iterations\n",
    "value_iteration.iterate(2000)"
   ]
  },
  {
   "cell_type": "code",
   "execution_count": 15,
   "metadata": {},
   "outputs": [],
   "source": [
    "u1 = st.uniform(loc=-np.pi,scale=0.5)\n",
    "u2 = st.uniform(loc=-5.,scale=10.)\n",
    "\n",
    "traj_len = 301\n",
    "num_traj = 1\n",
    "X = np.zeros((2,traj_len,num_traj))\n",
    "U = np.zeros((traj_len-1,num_traj))\n",
    "for i in range(num_traj):\n",
    "    x0 = np.array([u1.rvs(),u2.rvs()])\n",
    "    x,u = pendulum.simulate(x0, value_iteration.policy, 30)\n",
    "    X[:,:,i] = x\n",
    "    U[:,i] = u\n",
    "    "
   ]
  },
  {
   "cell_type": "code",
   "execution_count": 16,
   "metadata": {},
   "outputs": [],
   "source": [
    "X_mean = np.mean(X,axis=2)\n",
    "X_std = np.std(X,axis=2)\n",
    "\n",
    "U_mean = np.mean(U,axis=1)\n",
    "U_std = np.std(U,axis=1)"
   ]
  },
  {
   "cell_type": "code",
   "execution_count": 17,
   "metadata": {},
   "outputs": [],
   "source": [
    "u1 = st.uniform(loc=-np.pi,scale=2*np.pi)\n",
    "u2 = st.uniform(loc=-5.,scale=10.)\n",
    "\n",
    "trajectory = [pendulum.generate_trajectories(np.array([u1.rvs(),u2.rvs()]), value_iteration.policy, 30) for i in range(100)]"
   ]
  },
  {
   "cell_type": "code",
   "execution_count": 18,
   "metadata": {},
   "outputs": [
    {
     "data": {
      "image/png": "[encoded data removed]",
      "text/plain": [
       "<Figure size 432x360 with 2 Axes>"
      ]
     },
     "metadata": {
      "needs_background": "light"
     },
     "output_type": "display_data"
    }
   ],
   "source": [
    "%matplotlib inline\n",
    "from pylab import rcParams\n",
    "plt.rcParams.update({'font.size': 16})\n",
    "time = np.linspace(0.,30., len(x[0,:]))\n",
    "fig, ax = plt.subplots(2,1)\n",
    "\n",
    "fig.figure.set_figheight(5)\n",
    "ax[0].plot(time,X_mean[0,:].T)\n",
    "#ax.plot(x,y_FPD)\n",
    "ax[0].fill_between(time, (X_mean[0,:].T-X_std[0,:].T), (X_mean[0,:].T+X_std[0,:].T), color='b', alpha=.1)\n",
    "#ax.fill_between(x, (y_FPD-ci_FPD), (y_FPD+ci_FPD), color='b', alpha=.1)\n",
    "#ax.set_title('FPD input')\n",
    "#ax[0].set_xlabel('Time (Sec)')\n",
    "ax[0].set_ylabel('$\\Theta_{k}$')\n",
    "\n",
    "ax[1].plot(time[:-1],U_mean)\n",
    "#ax.plot(x,y_FPD)\n",
    "ax[1].fill_between(time[:-1], (U_mean.T-U_std.T), (U_mean.T+U_std.T), color='b', alpha=.1)\n",
    "#ax.fill_between(x, (y_FPD-ci_FPD), (y_FPD+ci_FPD), color='b', alpha=.1)\n",
    "#ax.set_title('FPD input')\n",
    "ax[1].set_xlabel('Time [sec]')\n",
    "ax[1].set_ylabel('$u_{k}$')\n",
    "\n",
    "plt.show()\n",
    "\n",
    "# plt.savefig('value_iteration_pendulum_traj.jpg',dpi=1000,bbox_inches ='tight')\n",
    "\n"
   ]
  },
  {
   "cell_type": "code",
   "execution_count": 19,
   "metadata": {},
   "outputs": [
    {
     "data": {
      "image/png": "[encoded data removed]",
      "text/plain": [
       "<Figure size 432x432 with 2 Axes>"
      ]
     },
     "metadata": {
      "needs_background": "light"
     },
     "output_type": "display_data"
    }
   ],
   "source": [
    "%matplotlib inline\n",
    "plt.rcParams.update({'font.size': 16})\n",
    "plt.figure(figsize=[6,6])\n",
    "im = plt.imshow(value_iteration.value_function.reshape((pendulum.nq, pendulum.nv)), extent=[-np.pi, np.pi, -pendulum.v_max, pendulum.v_max],aspect='auto')\n",
    "plt.colorbar(im,orientation=\"horizontal\")\n",
    "plt.xlabel('$\\Theta$')\n",
    "plt.ylabel('$\\omega$')\n",
    "plt.title('Value Function')\n",
    "\n",
    "# plt.savefig('expert_value_function.jpg',dpi=1000,bbox_inches ='tight')\n",
    "\n",
    "plt.show()\n"
   ]
  },
  {
   "cell_type": "code",
   "execution_count": 30,
   "metadata": {},
   "outputs": [
    {
     "data": {
      "image/png": "[encoded data removed]",
      "text/plain": [
       "<Figure size 432x432 with 2 Axes>"
      ]
     },
     "metadata": {
      "needs_background": "light"
     },
     "output_type": "display_data"
    }
   ],
   "source": [
    "%matplotlib inline\n",
    "plt.rcParams.update({'font.size': 16})\n",
    "plt.figure(figsize=[6,6])\n",
    "im = plt.imshow(cost_matrix.reshape((pendulum.nq, pendulum.nv)), extent=[-np.pi, np.pi, -pendulum.v_max, pendulum.v_max],aspect='auto')\n",
    "plt.colorbar(im,orientation=\"horizontal\")\n",
    "plt.xlabel('$\\Theta$')\n",
    "plt.ylabel('$\\omega$')\n",
    "plt.title('Original Cost')\n",
    "\n",
    "# plt.savefig('actual_cost_function.jpg',dpi=1000,bbox_inches ='tight')\n",
    "\n",
    "plt.show()"
   ]
  },
  {
   "cell_type": "code",
   "execution_count": null,
   "metadata": {},
   "outputs": [],
   "source": [
    "%matplotlib inline\n",
    "plt.figure(figsize=[6,6])\n",
    "im = plt.imshow(value_iteration.policy.reshape((pendulum.nq, pendulum.nv)), extent=[-np.pi, np.pi, -pendulum.v_max, pendulum.v_max], aspect='auto')\n",
    "plt.colorbar(im)\n",
    "plt.xlabel('Pendulum Angle')\n",
    "plt.ylabel('Velocity')\n",
    "plt.title('Policy')\n",
    "plt.show()"
   ]
  },
  {
   "cell_type": "code",
   "execution_count": 67,
   "metadata": {},
   "outputs": [],
   "source": [
    "#Loading Trajectory Data\n",
    "\n",
    "SH1 = np.load(\"State_H1.npy\")\n",
    "SH2 = np.load(\"State_H2.npy\")\n",
    "UH = np.load(\"Control_H.npy\") "
   ]
  },
  {
   "cell_type": "code",
   "execution_count": 68,
   "metadata": {},
   "outputs": [],
   "source": [
    "SH = np.reshape(np.array([SH1[1,:],SH2[1,:]]),(299,2))"
   ]
  },
  {
   "cell_type": "code",
   "execution_count": null,
   "metadata": {},
   "outputs": [],
   "source": [
    "# Define the number of features for the inverted pendulum system\n",
    "num_features = 2  # For the given feature vector\n",
    "\n",
    "def feature_expectation_from_expert(trajectory,num_features): \n",
    "\n",
    "    # Initialize the sum of feature counts\n",
    "    sum_feature_counts = np.zeros(num_features)\n",
    "\n",
    "    # Calculate feature expectation\n",
    "    for iter, s in enumerate(SH):\n",
    "        #print(state)\n",
    "        # s = pendulum.get_states(state)\n",
    "        #u = pendulum.get_input(control_input)\n",
    "        # Calculate the feature vector for the current state\n",
    "        features = np.array([\n",
    "            1-np.exp(-(np.cos(s[0])-1)**2),\n",
    "            1-np.exp(-(s[1])**2),\n",
    "        ])\n",
    "        sum_feature_counts += (0.9**(iter))*features\n",
    "\n",
    "    # Compute empirical feature expectation\n",
    "    num_trajectories = 1.0\n",
    "    e_features = sum_feature_counts / num_trajectories\n",
    "    \n",
    "    return(e_features)\n",
    "\n",
    "e_features = feature_expectation_from_expert(SH,num_features)\n",
    "\n",
    "print(e_features)"
   ]
  },
  {
   "cell_type": "code",
   "execution_count": 75,
   "metadata": {},
   "outputs": [],
   "source": [
    "# Define the number of features for the inverted pendulum system\n",
    "num_features = 2  # For the given feature vector\n",
    "\n",
    "def feature_expectation_from_trajectories(trajectory,num_features): \n",
    "\n",
    "    # Initialize the sum of feature counts\n",
    "    sum_feature_counts = np.zeros(num_features)\n",
    "\n",
    "    # Calculate feature counts for each trajectory\n",
    "    for t in trajectory: \n",
    "        for iter, state in enumerate(t.states()):\n",
    "            #print(state)\n",
    "            s = pendulum.get_states(state)\n",
    "            #u = pendulum.get_input(control_input)\n",
    "            # Calculate the feature vector for the current state\n",
    "            features = np.array([\n",
    "                1-np.exp(-(np.cos(s[0])-1)**2),\n",
    "                1-np.exp(-(s[1])**2),\n",
    "            ])\n",
    "            sum_feature_counts += (0.9**(iter))*features\n",
    "\n",
    "    # Compute empirical feature expectation\n",
    "    num_trajectories = len(trajectory)\n",
    "    features = sum_feature_counts / num_trajectories\n",
    "    \n",
    "    return(features)\n",
    "\n",
    "# e_features = feature_expectation_from_trajectories(trajectory,num_features)\n",
    "\n",
    "# print(e_features)"
   ]
  },
  {
   "cell_type": "code",
   "execution_count": 76,
   "metadata": {},
   "outputs": [],
   "source": [
    "def cost_descrete_L(ind,pendulum,theta):\n",
    "    x = pendulum.get_states(ind)\n",
    "    return theta[0]*(1-np.exp(-(1-np.cos(x[0]))**2)) + theta[1]*(1-np.exp(-(x[1])**2))\n",
    "    # return theta[0]*np.abs(x[0]) + theta[1]*np.abs(x[1])"
   ]
  },
  {
   "cell_type": "code",
   "execution_count": null,
   "metadata": {},
   "outputs": [],
   "source": [
    "# init = O.Uniform(low=-100.,high=100.)\n",
    "init = O.Constant(0.0)\n",
    "optim = O.Sga(lr=O.exponential_decay(lr0=1.0))\n",
    "omega = init(2)\n",
    "optim.reset(omega)              # re-start optimizer\n",
    "eps=1e-1\n",
    "delta = np.inf\n",
    "\n",
    "print('omega init:',omega)\n",
    "\n",
    "while delta > eps:              # iterate until convergence\n",
    "    omega_old = omega.copy()\n",
    "\n",
    "    # compute per-state reward from features\n",
    "    reward = cost_mat(cost_descrete_L,omega)\n",
    "    # reward = features.dot(omega)\n",
    "\n",
    "    # compute gradient of the log-likelihood\n",
    "    VI = ValueIteration_Soft(pendulum,reward,transition_prob)\n",
    "    VI.iterate(num_iter=2000)\n",
    "    \n",
    "    # Compute state visitation frequencies\n",
    "    trajectory = [pendulum.generate_trajectories(np.array([u1.rvs(),u2.rvs()]), VI.policy, 30) for i in range(1)]\n",
    "    e_svf = feature_expectation_from_trajectories(trajectory,num_features)\n",
    "    \n",
    "    # re-compute detla for convergence check\n",
    "    delta = np.max(np.abs(e_features-e_svf)/np.abs(e_svf))\n",
    "    print('delta:',delta)\n",
    "\n",
    "    grad = e_features - e_svf\n",
    "    \n",
    "\n",
    "    # perform optimization step and compute delta for convergence\n",
    "    optim.step(grad)\n",
    "    \n",
    "    print('omega:',omega)"
   ]
  },
  {
   "cell_type": "code",
   "execution_count": 119,
   "metadata": {},
   "outputs": [
    {
     "data": {
      "image/png": "[encoded data removed]",
      "text/plain": [
       "<Figure size 432x432 with 2 Axes>"
      ]
     },
     "metadata": {
      "needs_background": "light"
     },
     "output_type": "display_data"
    }
   ],
   "source": [
    "%matplotlib inline\n",
    "plt.rcParams.update({'font.size': 16})\n",
    "plt.figure(figsize=[6,6])\n",
    "im = plt.imshow(VI.value_function.reshape((pendulum.nq, pendulum.nv)), extent=[-np.pi, np.pi, -pendulum.v_max, pendulum.v_max],aspect='auto')\n",
    "plt.colorbar(im,orientation=\"horizontal\")\n",
    "plt.xlabel('$\\Theta$')\n",
    "plt.ylabel('$\\omega$')\n",
    "plt.title('Value Function')\n",
    "plt.show()\n",
    "\n",
    "# plt.savefig('learned_value_function_bad.jpg',dpi=1000,bbox_inches ='tight')"
   ]
  },
  {
   "cell_type": "code",
   "execution_count": 120,
   "metadata": {},
   "outputs": [],
   "source": [
    "\n",
    "u1 = st.uniform(loc=-np.pi,scale=0.5)\n",
    "u2 = st.uniform(loc=-5.,scale=10.)\n",
    "\n",
    "traj_len = 301\n",
    "num_traj = 1\n",
    "X_l = np.zeros((2,traj_len,num_traj))\n",
    "U_l = np.zeros((traj_len-1,num_traj))\n",
    "for i in range(num_traj):\n",
    "    x0 = np.array([u1.rvs(),u2.rvs()])\n",
    "    x,u = pendulum.simulate(x0, VI.policy, 30)\n",
    "    X_l[:,:,i] = x\n",
    "    U_l[:,i] = u"
   ]
  },
  {
   "cell_type": "code",
   "execution_count": 121,
   "metadata": {},
   "outputs": [],
   "source": [
    "X_l_mean = np.mean(X_l,axis=2)\n",
    "X_l_std = np.std(X_l,axis=2)\n",
    "\n",
    "U_mean_l = np.mean(U_l,axis=1)\n",
    "U_std_l = np.std(U_l,axis=1)"
   ]
  },
  {
   "cell_type": "code",
   "execution_count": 122,
   "metadata": {},
   "outputs": [
    {
     "data": {
      "image/png": "[encoded data removed]",
      "text/plain": [
       "<Figure size 432x360 with 2 Axes>"
      ]
     },
     "metadata": {
      "needs_background": "light"
     },
     "output_type": "display_data"
    }
   ],
   "source": [
    "%matplotlib inline\n",
    "plt.rcParams.update({'font.size': 16})\n",
    "time = np.linspace(0.,30., len(x[0,:]))\n",
    "fig, ax = plt.subplots(2,1)\n",
    "fig.figure.set_figheight(5)\n",
    "ax[0].plot(time,X_l_mean[0,:].T)\n",
    "#ax.plot(x,y_FPD)\n",
    "ax[0].fill_between(time, (X_l_mean[0,:].T-X_std[0,:].T), (X_l_mean[0,:].T+X_l_std[0,:].T), color='b', alpha=.1)\n",
    "#ax.fill_between(x, (y_FPD-ci_FPD), (y_FPD+ci_FPD), color='b', alpha=.1)\n",
    "#ax.set_title('FPD input')\n",
    "# ax[0].set_xlabel('Time (Sec)')\n",
    "ax[0].set_ylabel('$\\Theta_{k}$')\n",
    "\n",
    "ax[1].plot(time[:-1],U_mean_l[:].T)\n",
    "#ax.plot(x,y_FPD)\n",
    "ax[1].fill_between(time[:-1], (U_mean_l[:].T-U_std_l[:].T), (U_mean_l[:].T+U_std_l[:].T), color='b', alpha=.1)\n",
    "#ax.fill_between(x, (y_FPD-ci_FPD), (y_FPD+ci_FPD), color='b', alpha=.1)\n",
    "#ax.set_title('FPD input')\n",
    "ax[1].set_xlabel('Time (Sec)')\n",
    "ax[1].set_ylabel('$u_{k}$')\n",
    "\n",
    "#plt.savefig('IHME_Pendulum.jpg',dpi=1000,bbox_inches ='tight')\n",
    "plt.show()"
   ]
  },
  {
   "cell_type": "code",
   "execution_count": 80,
   "metadata": {},
   "outputs": [
    {
     "name": "stdout",
     "output_type": "stream",
     "text": [
      "[18.79638818 29.66023675]\n"
     ]
    }
   ],
   "source": [
    "# Define the number of features for the inverted pendulum system\n",
    "num_features = 2  # For the given feature vector\n",
    "\n",
    "def feature_expectation_from_expert(trajectory,num_features): \n",
    "\n",
    "    # Initialize the sum of feature counts\n",
    "    sum_feature_counts = np.zeros(num_features)\n",
    "\n",
    "    # Calculate feature expectation\n",
    "    for iter, s in enumerate(SH):\n",
    "        #print(state)\n",
    "        # s = pendulum.get_states(state)\n",
    "        #u = pendulum.get_input(control_input)\n",
    "        # Calculate the feature vector for the current state\n",
    "        features = np.array([\n",
    "            1-np.exp(-(np.cos(s[0])-1)**2),\n",
    "            1-np.exp(-(s[1])**2),\n",
    "        ])\n",
    "        sum_feature_counts += features\n",
    "\n",
    "    # Compute empirical feature expectation\n",
    "    num_trajectories = 1.0\n",
    "    e_features = sum_feature_counts / num_trajectories\n",
    "    \n",
    "    return(e_features)\n",
    "\n",
    "e_features = feature_expectation_from_expert(SH,num_features)\n",
    "\n",
    "print(e_features)"
   ]
  },
  {
   "cell_type": "code",
   "execution_count": null,
   "metadata": {},
   "outputs": [],
   "source": [
    "# Define the number of features for the inverted pendulum system\n",
    "num_features = 2  # For the given feature vector\n",
    "\n",
    "def feature_expectation_from_trajectories(trajectory,num_features): \n",
    "\n",
    "    # Initialize the sum of feature counts\n",
    "    sum_feature_counts = np.zeros(num_features)\n",
    "\n",
    "    # Calculate feature counts for each trajectory\n",
    "    for t in trajectory: \n",
    "        for iter, state in enumerate(t.states()):\n",
    "            #print(state)\n",
    "            s = pendulum.get_states(state)\n",
    "            #u = pendulum.get_input(control_input)\n",
    "            # Calculate the feature vector for the current state\n",
    "            features = np.array([\n",
    "                1-np.exp(-(np.cos(s[0])-1)**2),\n",
    "                1-np.exp(-(s[1])**2),\n",
    "            ])\n",
    "            sum_feature_counts += features\n",
    "\n",
    "    # Compute empirical feature expectation\n",
    "    num_trajectories = len(trajectory)\n",
    "    features = sum_feature_counts / num_trajectories\n",
    "    \n",
    "    return(features)\n",
    "\n",
    "# e_features = feature_expectation_from_trajectories(trajectory,num_features)\n",
    "\n",
    "# print(e_features)"
   ]
  },
  {
   "cell_type": "code",
   "execution_count": null,
   "metadata": {},
   "outputs": [],
   "source": [
    "# init = O.Uniform(low=-100.,high=100.)\n",
    "init = O.Constant(0.0)\n",
    "optim = O.Sga(lr=O.exponential_decay(lr0=1.0))\n",
    "omega = init(2)\n",
    "optim.reset(omega)              # re-start optimizer\n",
    "eps=1e-1\n",
    "delta = np.inf\n",
    "\n",
    "print('omega init:',omega)\n",
    "\n",
    "while delta > eps:              # iterate until convergence\n",
    "    omega_old = omega.copy()\n",
    "\n",
    "    # compute per-state reward from features\n",
    "    reward = cost_mat(cost_descrete_L,omega)\n",
    "    # reward = features.dot(omega)\n",
    "\n",
    "    # compute gradient of the log-likelihood\n",
    "    VI = ValueIteration_Soft(pendulum,reward,transition_prob)\n",
    "    VI.iterate(num_iter=2000)\n",
    "    \n",
    "    # Compute state visitation frequencies\n",
    "    trajectory = [pendulum.generate_trajectories(np.array([u1.rvs(),u2.rvs()]), VI.policy, 30) for i in range(1)]\n",
    "    e_svf = feature_expectation_from_trajectories(trajectory,num_features)\n",
    "    \n",
    "    # re-compute detla for convergence check\n",
    "    delta = np.max(np.abs(e_features-e_svf)/np.abs(e_svf))\n",
    "    print('delta:',delta)\n",
    "\n",
    "    grad = e_features - e_svf\n",
    "    \n",
    "\n",
    "    # perform optimization step and compute delta for convergence\n",
    "    optim.step(grad)\n",
    "    \n",
    "    print('omega:',omega)"
   ]
  }
 ],
 "metadata": {
  "kernelspec": {
   "display_name": "mbrl",
   "language": "python",
   "name": "python3"
  },
  "language_info": {
   "codemirror_mode": {
    "name": "ipython",
    "version": 3
   },
   "file_extension": ".py",
   "mimetype": "text/x-python",
   "name": "python",
   "nbconvert_exporter": "python",
   "pygments_lexer": "ipython3",
   "version": "3.8.13"
  }
 },
 "nbformat": 4,
 "nbformat_minor": 2
}
