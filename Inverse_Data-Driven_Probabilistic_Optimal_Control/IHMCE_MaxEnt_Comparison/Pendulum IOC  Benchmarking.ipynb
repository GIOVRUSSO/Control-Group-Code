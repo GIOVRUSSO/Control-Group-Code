{
 "cells": [
  {
   "cell_type": "code",
   "execution_count": 3,
   "metadata": {},
   "outputs": [],
   "source": [
    "import numpy as np\n",
    "from scipy import stats"
   ]
  },
  {
   "cell_type": "code",
   "execution_count": 4,
   "metadata": {},
   "outputs": [],
   "source": [
    "def discretize(Z, Zdim, Zmin, Zstep):\n",
    "    ###\n",
    "    #Discretize a variable Z using its dimension Zdim, its minimal values along each axis and the discretization steps\n",
    "    res = [0]*Zdim #n-dimensional index\n",
    "    for i in range(Zdim): #For each dimension\n",
    "        elt = Z[i] #Extract the i-th element\n",
    "        ind = int((elt - Zmin[i])//Zstep[i]) #Discretize\n",
    "        res[i] = ind\n",
    "    return(tuple(res)) #Return as tuple for array indexing\n",
    "\n",
    "def discretize_Control(Z,Zmin,Zstep):\n",
    "    elt = Z\n",
    "    ind = int((elt - Zmin)//Zstep)\n",
    "    return[ind]\n",
    "\n",
    "def DKL(f,g):\n",
    "    ###\n",
    "    #Calculate the DKL of two 2D pfs\n",
    "    div = 0 #Initialize\n",
    "    for i in range(50):\n",
    "        for j in range(50):\n",
    "            if g[i][j] != 0 and f[i][j] != 0: #For numerical safety we will only integrate over the support of both functions (in practice this is compliant with the definition of the DKL)\n",
    "                div = div + f[i][j]*(np.log(f[i][j]) - np.log(g[i][j]))\n",
    "    return(div)\n",
    "\n",
    "def KL_divergence(p, q):\n",
    "    # Checking if both data sets have the same shape\n",
    "    if p.shape != q.shape:\n",
    "        raise ValueError('Both data sets must have the same shape')\n",
    "    # Normalizing the binned data sets to obtain probability distributions\n",
    "    p = p \n",
    "    q = q \n",
    "    \n",
    "    # Calculating the KL divergence\n",
    "    KL = np.sum(np.where((p != 0) & (q != 0) , p * (np.log(p) - np.log(q)), 0))\n",
    "    \n",
    "    return KL\n",
    "\n",
    "def state_cost(ind,q,v):\n",
    "    state = get_states_alt(ind,q,v)\n",
    "    cost = 100.0*(1-np.exp(-(np.cos(state[0])-1)**2)) + 0.1*(1-np.exp(-state[1]**2)) #actual cost\n",
    "    # cost = 1913.2*(1-np.exp(-(np.cos(state[0])-1)**2))+3.2*(1-np.exp(-state[1]**2)) #estimated cost\n",
    "    return(cost)\n",
    "\n",
    "\n",
    "def C_Bar(state,U_dis,q,v):\n",
    "    \n",
    "    ind = discretize(state, 2, [-np.pi, -5], [2*np.pi/50, 0.2])\n",
    "    Expected_Cost = np.zeros((20,1)) #initialize cost\n",
    "    Cost = 0\n",
    "    for i in range(20):\n",
    "        f = plant_actual[ind[0],ind[1],i] #Get the actual and demonstrator plants from the binned data\n",
    "        for (index, x) in np.ndenumerate(f):\n",
    "            Cost += x*state_cost(index,q,v)\n",
    "        Expected_Cost[i,:]=Cost#Cost.append(cost)\n",
    "    #Cost_sum = np.sum(np.array(Cost))\n",
    "    Expected_Cost = np.sum(np.multiply(U_dis,Expected_Cost.T))\n",
    "    #Expected_Cost_Sum = np.sum(Expected_Cost)\n",
    "    return(Expected_Cost)\n",
    "            \n",
    "def feature(ind):\n",
    "    #ind = discretize(state, 2, [-np.pi, -5], [2*np.pi/50, 0.2])\n",
    "    feature1 = np.abs(ind[0]-24)\n",
    "    feature2 = np.abs(ind[1]-24)\n",
    "    feature3 = (ind[0]-50)\n",
    "    feature4 = (state[0]-0)\n",
    "    f = np.reshape(np.array([feature1,feature2]),(2,))\n",
    "    return(f)\n",
    "\n",
    "def expected_feature(f):\n",
    "    f1 = 0\n",
    "    f2 = 0\n",
    "    f3 = 0\n",
    "    for (index, x) in np.ndenumerate(f):\n",
    "        f1 += x*(((index[0]-24)**2))\n",
    "        #f2 += x*(((index[1]-24)**2))\n",
    "        #f3 += 5\n",
    "    f = np.reshape(np.array([f1,f2]),(2,))\n",
    "    return(f)\n",
    "\n",
    "def state_expectation(pdf,S_axis):\n",
    "    S1 = S_axis.dot(np.sum(pdf,1))\n",
    "    S2 = S_axis.dot(np.sum(pdf,0))\n",
    "    \n",
    "    return np.array([S1,S2])\n",
    "\n",
    "def get_states(index,nq,q,v):\n",
    "        \n",
    "    iv,ix = np.divmod(index, nq)\n",
    "    return np.array([q[ix], v[iv]])\n",
    "\n",
    "def get_states_alt(index,q,v):\n",
    "        \n",
    "    #iv,ix = np.divmod(index, nq)\n",
    "    return np.array([q[index[0]], v[index[1]]])\n",
    "\n",
    "def get_qv_indices(x,q,v):\n",
    "        \n",
    "    ind_q = np.argmin((x[0]-q)**2)\n",
    "    ind_v = np.argmin((x[1]-v)**2)\n",
    "    return ind_q, ind_v"
   ]
  },
  {
   "attachments": {},
   "cell_type": "markdown",
   "metadata": {},
   "source": []
  },
  {
   "cell_type": "code",
   "execution_count": 5,
   "metadata": {},
   "outputs": [],
   "source": [
    "cost_map = np.zeros(2500)\n",
    "q = np.linspace(-np.pi,np.pi,50)\n",
    "v = np.linspace(-5,5,50)\n",
    "\n",
    "for i in range(2500):\n",
    "    state = get_states(i,50,q,v)\n",
    "    ind = get_qv_indices(state,q,v)\n",
    "    cost_map[i] = state_cost(ind,q,v)"
   ]
  },
  {
   "cell_type": "code",
   "execution_count": 7,
   "metadata": {},
   "outputs": [
    {
     "data": {
      "image/png": "[encoded data removed]",
      "text/plain": [
       "<Figure size 432x432 with 2 Axes>"
      ]
     },
     "metadata": {
      "needs_background": "light"
     },
     "output_type": "display_data"
    }
   ],
   "source": [
    "from matplotlib import pyplot as plt\n",
    "%matplotlib inline\n",
    "plt.rcParams.update({'font.size': 16})\n",
    "plt.figure(figsize=[6,6])\n",
    "im = plt.imshow(cost_map.reshape((50,50)), extent=[-np.pi, np.pi, -5, 5],aspect='auto')\n",
    "plt.colorbar(im,orientation=\"horizontal\")\n",
    "plt.xlabel('$\\Theta$')\n",
    "plt.ylabel('$\\omega$')\n",
    "plt.title('Algorithm 2 Cost')\n",
    "\n",
    "# plt.savefig('IOC_cost_function.jpg',dpi=1000,bbox_inches ='tight')\n",
    "\n",
    "plt.show()"
   ]
  },
  {
   "cell_type": "code",
   "execution_count": 8,
   "metadata": {},
   "outputs": [],
   "source": [
    "#Get the input axis\n",
    "u_axis = np.linspace(-2.5,2.5,20)\n",
    "\n",
    "#Load the plants obtained from the binning (warning, big files)\n",
    "plant_target = np.load('plant_l06_m05.npy')\n",
    "plant_actual = np.load('plant_l06_m1.npy')"
   ]
  },
  {
   "cell_type": "code",
   "execution_count": 9,
   "metadata": {},
   "outputs": [],
   "source": [
    "class Pendulum():\n",
    "    def __init__(self):\n",
    "        self.l = 0.6\n",
    "        self.m = 1\n",
    "        self.max_torque = 2.5\n",
    "        self.max_speed = 5\n",
    "        self.state = np.array([0,0])\n",
    "        self.last_input = None\n",
    "        self.g = 9.81\n",
    "        self.dt = 0.1\n",
    "        self.angle_std = 3*2*np.pi/360\n",
    "        self.speed_std = 0.1\n",
    "        \n",
    "    def random_init(self):\n",
    "        ###\n",
    "        #Random initialization\n",
    "        self.state = np.array([np.random.uniform(-np.pi, np.pi),np.random.uniform(-self.max_speed, self.max_speed)])\n",
    "        \n",
    "    def step(self, u):\n",
    "        #Simulation step\n",
    "        u = np.clip(u, -self.max_torque, self.max_torque) #Clip the input as safety\n",
    "        self.last_input = u\n",
    "        accel = u/(self.m*self.l*self.l) + self.g*np.sin(self.state[0])/self.l #Dynamics for the acceleration\n",
    "        \n",
    "        speed = self.state[1]\n",
    "        angle = self.state[0]\n",
    "        \n",
    "        new_speed = speed + accel*self.dt + np.random.normal(0,self.speed_std) #Calculate the new speed\n",
    "        new_speed = np.clip(new_speed, -self.max_speed, self.max_speed) #Clip the speed as safety (in practice the bounds were chosen to ensure this very rarely happens)\n",
    "        \n",
    "        new_angle = angle + speed*self.dt + np.random.normal(0,self.angle_std) #New angle\n",
    "        if new_angle < -np.pi: #Angle is modulo 2\\pi\n",
    "            new_angle = new_angle + 2*np.pi\n",
    "        if new_angle > np.pi:\n",
    "            new_angle = new_angle - 2*np.pi\n",
    "        \n",
    "        self.state = np.array([new_angle, new_speed])\n",
    "        \n",
    "    def set_state(self, angle, speed):\n",
    "        ###\n",
    "        #Explicitely set the state\n",
    "        speed = np.clip(speed, -self.max_speed, self.max_speed)\n",
    "        if angle < -np.pi:\n",
    "            angle = angle + 2*np.pi\n",
    "        if angle > np.pi:\n",
    "            angle = angle - 2*np.pi\n",
    "        self.state = np.array([angle, speed])\n",
    "\n",
    "    def Control_step(self, u):\n",
    "        ###\n",
    "        #Perform an FPD step given an expert input, by first getting the corresponding pf and then applying the FPD solution\n",
    "        tpf = stats.norm.pdf(u_axis, u, 0.2) #Input pf\n",
    "        S = np.sum(tpf) #Normalizing input pf\n",
    "        target_pf = [x/S for x in tpf]\n",
    "        \n",
    "        ind = discretize(self.state, 2, [-np.pi, -5], [2*np.pi/50, 0.2]) #Discretize the state index for DKL calculation\n",
    "        \n",
    "        pf = np.zeros(20) #Initialize pf\n",
    "        for i in range(20):\n",
    "            f = plant_actual[ind[0],ind[1],i] #Get the actual and demonstrator plants from the binned data\n",
    "            g = plant_target[ind[0],ind[1],i]\n",
    "            log_DKL = np.exp(-KL_divergence(f,g)-C_Bar(self.state,target_pf,q,v))\n",
    "            if log_DKL == 0.:\n",
    "                log_DKL = 0.0000001\n",
    "            pf[i] = target_pf[i]*log_DKL #Calculate the DKL for each possible input, get corresponding probability\n",
    "        S2 = np.sum(pf) #Normalize resulting policy\n",
    "        \n",
    "        pf = [x/S2 for x in pf]\n",
    "        action = np.random.choice(u_axis, p=pf) #Select a random action from the new policy\n",
    "        self.step(action) #Simulation step"
   ]
  },
  {
   "cell_type": "code",
   "execution_count": 10,
   "metadata": {},
   "outputs": [
    {
     "data": {
      "text/plain": [
       "1"
      ]
     },
     "execution_count": 10,
     "metadata": {},
     "output_type": "execute_result"
    }
   ],
   "source": [
    "#Initialising the Pendulum Class\n",
    "P = Pendulum()\n",
    "P.m"
   ]
  },
  {
   "cell_type": "code",
   "execution_count": 11,
   "metadata": {},
   "outputs": [],
   "source": [
    "###\n",
    "#The following cells are dedicated to building the MPC controller used for the expert policy. Refer to the MPC file for details"
   ]
  },
  {
   "cell_type": "code",
   "execution_count": 12,
   "metadata": {},
   "outputs": [],
   "source": [
    "import numpy as np\n",
    "import sys\n",
    "from casadi import *\n",
    "import do_mpc\n",
    "\n",
    "\n",
    "model_type = 'continuous' # either 'discrete' or 'continuous'\n",
    "model = do_mpc.model.Model(model_type)"
   ]
  },
  {
   "cell_type": "code",
   "execution_count": 13,
   "metadata": {},
   "outputs": [],
   "source": [
    "theta = model.set_variable(var_type='_x', var_name='theta', shape=(1,1))\n",
    "dtheta = model.set_variable(var_type='_x', var_name='dtheta', shape=(1,1))\n",
    "\n",
    "u = model.set_variable(var_type='_u', var_name='u', shape=(1,1))"
   ]
  },
  {
   "cell_type": "code",
   "execution_count": 14,
   "metadata": {},
   "outputs": [],
   "source": [
    "m = 0.5\n",
    "l = 0.6\n",
    "\n",
    "g = 9.81"
   ]
  },
  {
   "cell_type": "code",
   "execution_count": 15,
   "metadata": {},
   "outputs": [],
   "source": [
    "model.set_rhs('theta',dtheta)\n",
    "model.set_rhs('dtheta', g*sin(theta)/l + u/(m*l*l))"
   ]
  },
  {
   "cell_type": "code",
   "execution_count": 16,
   "metadata": {},
   "outputs": [],
   "source": [
    "model.setup()"
   ]
  },
  {
   "cell_type": "code",
   "execution_count": 17,
   "metadata": {},
   "outputs": [],
   "source": [
    "mpc = do_mpc.controller.MPC(model)"
   ]
  },
  {
   "cell_type": "code",
   "execution_count": 18,
   "metadata": {},
   "outputs": [],
   "source": [
    "setup_mpc = {\n",
    "    'n_horizon': 20,\n",
    "    't_step': 0.1,\n",
    "    'n_robust': 0,\n",
    "    'store_full_solution': True,\n",
    "}\n",
    "mpc.set_param(**setup_mpc)"
   ]
  },
  {
   "cell_type": "code",
   "execution_count": 19,
   "metadata": {},
   "outputs": [],
   "source": [
    "l_term = theta*theta + 0.1*dtheta*dtheta\n",
    "m_term = theta*theta + 0.5*dtheta*dtheta\n",
    "mpc.set_objective(mterm=m_term, lterm=l_term)"
   ]
  },
  {
   "cell_type": "code",
   "execution_count": 20,
   "metadata": {},
   "outputs": [],
   "source": [
    "\n",
    "mpc.bounds['lower','_u', 'u'] = -2.5\n",
    "mpc.bounds['upper','_u', 'u'] = 2.5"
   ]
  },
  {
   "cell_type": "code",
   "execution_count": 21,
   "metadata": {},
   "outputs": [
    {
     "name": "stderr",
     "output_type": "stream",
     "text": [
      "c:\\Users\\jamal\\anaconda3\\envs\\mbrl\\lib\\site-packages\\do_mpc\\controller.py:904: UserWarning: rterm was not set and defaults to zero. Changes in the control inputs are not penalized. Can lead to oscillatory behavior.\n",
      "  warnings.warn('rterm was not set and defaults to zero. Changes in the control inputs are not penalized. Can lead to oscillatory behavior.')\n"
     ]
    }
   ],
   "source": [
    "mpc.setup()"
   ]
  },
  {
   "cell_type": "code",
   "execution_count": 22,
   "metadata": {},
   "outputs": [],
   "source": [
    "x0 = np.array([np.pi, 0]).reshape(-1,1)\n",
    "mpc.x0 = x0"
   ]
  },
  {
   "cell_type": "code",
   "execution_count": 23,
   "metadata": {},
   "outputs": [],
   "source": [
    "mpc.set_initial_guess()"
   ]
  },
  {
   "cell_type": "code",
   "execution_count": 24,
   "metadata": {},
   "outputs": [],
   "source": [
    "mpc.reset_history()"
   ]
  },
  {
   "cell_type": "code",
   "execution_count": null,
   "metadata": {},
   "outputs": [],
   "source": [
    "%%capture\n",
    "nSims = 20\n",
    "nSteps = 300\n",
    "fullH1 = np.zeros((nSims,nSteps-1))\n",
    "fullH2 = np.zeros((nSims,nSteps-1))\n",
    "uH = np.zeros((nSims,nSteps-1))\n",
    "#uHL = \n",
    "for j in range(nSims): #Perform 10 simulations\n",
    "    hist = [[0,0]]*nSteps\n",
    "    uhist = [0]*nSteps\n",
    "\n",
    "    P1 = Pendulum() #Initialize a new pendulum\n",
    "    P1.m = 1\n",
    "    P1.set_state(np.pi,0) #Set the new pendulum to the initial state\n",
    "    mpc.reset_history()\n",
    "    for i in range(nSteps-1): #For each step in the simulation\n",
    "        state = P1.state #Get the state\n",
    "        hist[i+1] = state #Log the state\n",
    "        x0 = state.reshape(-1,1)\n",
    "        u0 = mpc.make_step(x0) #Get the demonstrator action\n",
    "        u = u0[0][0]\n",
    "        P1.Control_step(u) #Perform a step: get expert policy from action, derive actual policy, sample, simulate\n",
    "        uhist[i] = u #Log action\n",
    "        print('Step Number:'+str(i))\n",
    "    fullH1[j] = [x[0] for x in hist[1:]]\n",
    "    fullH2[j] = [x[1] for x in hist[1:]]\n",
    "    uH[j] = uhist[:299]"
   ]
  },
  {
   "cell_type": "code",
   "execution_count": 106,
   "metadata": {},
   "outputs": [],
   "source": [
    "#Saving trajectory data\n",
    "\n",
    "np.save(\"State_H1.npy\",fullH1[:18,:])\n",
    "np.save(\"State_H2.npy\",fullH2[:18,:])\n",
    "np.save(\"Control_H.npy\",uH[:18,:])"
   ]
  },
  {
   "cell_type": "code",
   "execution_count": 25,
   "metadata": {},
   "outputs": [
    {
     "name": "stdout",
     "output_type": "stream",
     "text": [
      "(299,)\n"
     ]
    }
   ],
   "source": [
    "#Loading Trajectory Data\n",
    "\n",
    "SH1 = np.load(\"State_H1.npy\")\n",
    "SH2 = np.load(\"State_H2.npy\")\n",
    "UH = np.load(\"Control_H.npy\")\n",
    "\n",
    "print(np.shape(SH1[19,:]))"
   ]
  },
  {
   "cell_type": "code",
   "execution_count": 22,
   "metadata": {},
   "outputs": [],
   "source": [
    "SH1 = np.reshape(SH1,(SH1.shape[0]*SH1.shape[1]))\n",
    "SH2 = np.reshape(SH2,(SH2.shape[0]*SH2.shape[1]))\n",
    "\n",
    "UH = np.reshape(UH,(UH.shape[0]*UH.shape[1]))"
   ]
  },
  {
   "cell_type": "code",
   "execution_count": 92,
   "metadata": {},
   "outputs": [],
   "source": [
    "nSteps = 300\n",
    "\n",
    "means = [0]*(nSteps-1) #Average and std over the simulations\n",
    "stds = [0]*(nSteps-1)\n",
    "for i in range(nSteps-1):\n",
    "    means[i] = np.mean(fullH1[:6,i])\n",
    "    stds[i] = np.std(fullH1[:6,i])\n",
    "\n",
    "S1 = np.array(means)    \n",
    "means2 = [0]*(nSteps-1) #Average and std over the simulations\n",
    "stds2 = [0]*(nSteps-1)\n",
    "for i in range(nSteps-1):\n",
    "    means2[i] = np.mean(fullH2[:,i])\n",
    "    stds2[i] = np.std(fullH2[:,i])\n",
    "\n",
    "S2 = np.array(means2)    \n",
    "umeans = [0]*(nSteps-1)\n",
    "ustds = [0]*(nSteps-1)\n",
    "for i in range(nSteps-1):\n",
    "    umeans[i] = np.mean(uH[:,i])\n",
    "    ustds[i] = np.std(uH[:,i])\n",
    "    \n",
    "U = np.array(umeans) "
   ]
  },
  {
   "cell_type": "code",
   "execution_count": 104,
   "metadata": {},
   "outputs": [],
   "source": [
    "nSteps = 300\n",
    "\n",
    "means = [0]*(nSteps-1) #Average and std over the simulations\n",
    "stds = [0]*(nSteps-1)\n",
    "for i in range(nSteps-1):\n",
    "    means[i] = np.mean(SH1[:,i])\n",
    "    stds[i] = np.std(SH1[:,i])\n",
    "\n",
    "S1 = np.array(means)    \n",
    "means2 = [0]*(nSteps-1) #Average and std over the simulations\n",
    "stds2 = [0]*(nSteps-1)\n",
    "for i in range(nSteps-1):\n",
    "    means2[i] = np.mean(SH2[:,i])\n",
    "    stds2[i] = np.std(SH2[:,i])\n",
    "\n",
    "S2 = np.array(means2)    \n",
    "umeans = [0]*(nSteps-1)\n",
    "ustds = [0]*(nSteps-1)\n",
    "for i in range(nSteps-1):\n",
    "    umeans[i] = np.mean(UH[:,i])\n",
    "    ustds[i] = np.std(UH[:,i])\n",
    "    \n",
    "U = np.array(umeans) "
   ]
  },
  {
   "cell_type": "code",
   "execution_count": 108,
   "metadata": {},
   "outputs": [],
   "source": [
    "def expected_feature(pdf):\n",
    "    f1 = 0\n",
    "    f2 = 0\n",
    "    f3 = 0\n",
    "    for (index, x) in np.ndenumerate(pdf):\n",
    "        state = get_states_alt(index,q,v)\n",
    "        f2 += x*(1-np.exp(-((state[1]))**2))\n",
    "        f1 += x*(1-np.exp(-(np.cos(state[0])-1)**2))\n",
    "    f = np.reshape(np.array([f1,f2]),(2,))\n",
    "    return(f)"
   ]
  },
  {
   "cell_type": "code",
   "execution_count": 29,
   "metadata": {},
   "outputs": [],
   "source": [
    "def get_u_index(U,u):\n",
    "    ind_u = np.argmin((u-U)**2)\n",
    "    return ind_u \n",
    "u = np.linspace(-2.5,2.5,20)"
   ]
  },
  {
   "cell_type": "code",
   "execution_count": 109,
   "metadata": {},
   "outputs": [],
   "source": [
    "%%capture\n",
    "##Solving convex inverse learning problem by using CVXPY\n",
    "import cvxpy as cp\n",
    "import numpy as np\n",
    "import time\n",
    "M = 250\n",
    "N_features = 2\n",
    "w = cp.Variable((1,N_features))\n",
    "constraints = [w >= 0]\n",
    "R = np.zeros((99,1))\n",
    "L = []\n",
    "S_axis = np.array([i for i in range(50)])\n",
    "\n",
    "f_expect = np.zeros((N_features,20)) \n",
    "features = np.zeros((N_features,20,M)) \n",
    "feature_sampled = np.zeros((N_features,M))\n",
    "PF = np.zeros((20,M))\n",
    "pf = np.zeros(20)\n",
    "Log_DKL = np.zeros((20,M))\n",
    "KL = np.zeros((20,M))\n",
    "\n",
    "for i in range(M):\n",
    "\n",
    "    #############################################################################################################################\n",
    "    state = np.array([S1[i+40],S2[i+40]]) #Get the state\n",
    "\n",
    "    x0 = state.reshape(-1,1)\n",
    "    u0 = mpc.make_step(x0) #Get the demonstrator action\n",
    "    u = u0[0][0]\n",
    "    \n",
    "    tpf = stats.norm.pdf(u_axis, u, 0.2) #Input pf\n",
    "    S = np.sum(tpf) #Normalizing input pf\n",
    "    target_pf = [x/S for x in tpf]\n",
    "        \n",
    "    ind = discretize(state, 2, [-np.pi, -5], [2*np.pi/50, 0.2]) #Discretize the state index for DKL calculation\n",
    "    u_ind = discretize_Control(U[i+41],-2.5,0.25) #Discretize the control index\n",
    "    # u_ind = get_u_index(u,U[i+41])\n",
    "   \n",
    "    for j in range(20):\n",
    "        f = plant_actual[ind[0],ind[1],j] #Get the actual and demonstrator plants from the binned data\n",
    "        g = plant_target[ind[0],ind[1],j]\n",
    "        \n",
    "        features[:,j,i] = expected_feature(f) # calculating feature vector\n",
    "        KL[j,i] = -KL_divergence(f,g)\n",
    "        log_DKL = np.exp(KL[j,i])\n",
    "\n",
    "        Log_DKL [j,i] = log_DKL\n",
    "        pf[j] = target_pf[j]*log_DKL \n",
    "    PF[:,i] = pf\n",
    "    \n",
    "    f_sampled = np.reshape(plant_actual[ind[0],ind[1],u_ind],(50,50))\n",
    "    feature_sampled[:,i] = expected_feature(f_sampled)\n",
    "    \n",
    "    \n",
    "    L.append(-(w @ feature_sampled[:,i]) + cp.log_sum_exp(cp.reshape(w @ features[:,:,i],(20,)) + cp.log(PF[:,i]))) #Log likelihood for each instance\n",
    "    \n",
    "     \n",
    "objective = cp.Minimize(cp.sum(L))    \n",
    "    \n",
    "prob = cp.Problem(objective)\n",
    "\n",
    "result = prob.solve(verbose = True)\n",
    "\n",
    "print(\"status:\", prob.status)\n",
    "print(\"optimal value\", prob.value)    "
   ]
  },
  {
   "cell_type": "code",
   "execution_count": 110,
   "metadata": {},
   "outputs": [
    {
     "name": "stdout",
     "output_type": "stream",
     "text": [
      "Weights = [[-1918.33465039    -2.74514107]]\n"
     ]
    }
   ],
   "source": [
    "print('Weights =',w.value)"
   ]
  },
  {
   "cell_type": "code",
   "execution_count": 94,
   "metadata": {
    "scrolled": true
   },
   "outputs": [
    {
     "data": {
      "image/png": "[encoded data removed]",
      "text/plain": [
       "<Figure size 432x360 with 2 Axes>"
      ]
     },
     "metadata": {
      "needs_background": "light"
     },
     "output_type": "display_data"
    }
   ],
   "source": [
    "from matplotlib import pyplot as plt\n",
    "from pylab import rcParams\n",
    "plt.rcParams.update({'font.size': 16})\n",
    "\n",
    "\n",
    "x = np.array([x/10 for x in range(nSteps-1)])\n",
    "y = np.array(means)\n",
    "ci = np.array(stds)\n",
    "\n",
    "x_u = np.array([x/10 for x in range(nSteps-1)])\n",
    "y_u = np.array(umeans)\n",
    "ci_u = np.array(ustds)\n",
    "\n",
    "fig, ax = plt.subplots(2,1)\n",
    "fig.figure.set_figheight(5)\n",
    "ax[0].plot(x,y)\n",
    "#ax.plot(x,y_FPD)\n",
    "ax[0].fill_between(x, (y-ci), (y+ci), color='b', alpha=.1)\n",
    "#ax.fill_between(x, (y_FPD-ci_FPD), (y_FPD+ci_FPD), color='b', alpha=.1)\n",
    "#ax.set_title('FPD input')\n",
    "#ax[0].set_xlabel('Time (Sec)')\n",
    "ax[0].set_ylabel('$\\Theta_{k}$')\n",
    "\n",
    "ax[1].plot(x_u,y_u)\n",
    "#ax.plot(x,y_FPD)\n",
    "ax[1].fill_between(x_u, (y_u-ci_u), (y_u+ci_u), color='b', alpha=.1)\n",
    "#ax.fill_between(x, (y_FPD-ci_FPD), (y_FPD+ci_FPD), color='b', alpha=.1)\n",
    "#ax.set_title('FPD input')\n",
    "ax[1].set_xlabel('Time [sec]')\n",
    "ax[1].set_ylabel('$u_{k}$')\n",
    "\n",
    "# plt.show()\n",
    "\n",
    "plt.savefig('pendulum_joint_ci_1m_0.6l_newcost.jpg',bbox_inches ='tight')"
   ]
  }
 ],
 "metadata": {
  "kernelspec": {
   "display_name": "Python 3.8.13 ('mbrl')",
   "language": "python",
   "name": "python3"
  },
  "language_info": {
   "codemirror_mode": {
    "name": "ipython",
    "version": 3
   },
   "file_extension": ".py",
   "mimetype": "text/x-python",
   "name": "python",
   "nbconvert_exporter": "python",
   "pygments_lexer": "ipython3",
   "version": "3.8.13"
  },
  "vscode": {
   "interpreter": {
    "hash": "e9a1ee8b2f2310f5a3657d2b553b2843d6654369724d8ae601e3557d41810e89"
   }
  }
 },
 "nbformat": 4,
 "nbformat_minor": 4
}
