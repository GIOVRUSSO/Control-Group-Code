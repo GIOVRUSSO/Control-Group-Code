{
 "cells": [
  {
   "cell_type": "code",
   "execution_count": 1,
   "metadata": {},
   "outputs": [],
   "source": [
    "import rps.robotarium as robotarium\n",
    "from rps.utilities.transformations import *\n",
    "from rps.utilities.barrier_certificates import *\n",
    "from rps.utilities.misc import *\n",
    "from rps.utilities.controllers import *\n",
    "\n",
    "import numpy as np\n",
    "import scipy.stats as st\n",
    "import time    "
   ]
  },
  {
   "cell_type": "code",
   "execution_count": 22,
   "metadata": {},
   "outputs": [],
   "source": [
    "control_space_size = 3\n",
    "\n",
    "U_space_1 = np.array(np.linspace((-0.5),(0.5),control_space_size))\n",
    "U_space_2 = np.array(np.linspace((-0.5),(0.5),control_space_size))\n",
    "time_step = 0.033"
   ]
  },
  {
   "cell_type": "code",
   "execution_count": 25,
   "metadata": {},
   "outputs": [],
   "source": [
    "def model_step(x,velocities,time_step):\n",
    "    poses = np.zeros((2,1))\n",
    "    \n",
    "    # Update dynamics of agents\n",
    "    poses[0] = x[0] + time_step*velocities[0]\n",
    "    poses[1] = x[1] + time_step*velocities[1]\n",
    "    \n",
    "    return(poses)\n",
    "\n",
    "\n",
    "def lb_ub_support(mu,cov):\n",
    "    \n",
    "    # Calculate the lower and upper bounds with 95% confidence\n",
    "    z = st.norm.ppf(0.975) \n",
    "    lower_bound = mu - z * np.diag(np.linalg.cholesky(cov))\n",
    "    upper_bound = mu + z * np.diag(np.linalg.cholesky(cov))\n",
    "    \n",
    "    return(lower_bound,upper_bound)\n",
    "\n",
    "def q_constant(lower_bound,upper_bound):\n",
    "    length = np.array(upper_bound-lower_bound)\n",
    "\n",
    "    area = np.product(length)\n",
    "    \n",
    "    q_constant = 1/area\n",
    "    \n",
    "    return(q_constant)\n",
    "\n",
    "def my_logpdf(x, u, covar):\n",
    "    k = len(x)  # dimension\n",
    "    a = np.transpose(x - u)\n",
    "    b = np.linalg.inv(covar)\n",
    "    c = x - u\n",
    "    d = np.matmul(a, b)\n",
    "    e = np.matmul(d, c)\n",
    "    numer = np.exp(-0.5 * e)\n",
    "    f = (2 * np.pi)**k\n",
    "    g = np.linalg.det(covar)\n",
    "    denom = np.sqrt(f * g)\n",
    "    pdf = numer / denom\n",
    "    return pdf\n",
    "\n",
    "def multivariate_rbf_kernel(X1, X2, gamma):\n",
    "    #Compute the multivariate Radial Basis Function (RBF) kernel between two sets of input points.\n",
    "    n1 = X1.shape[0]\n",
    "    n2 = X2.shape[0]\n",
    "    K = np.zeros((n1, n2))\n",
    "\n",
    "    diff = X1[:] - X2[:]\n",
    "    K = np.exp(-gamma * np.dot(diff, diff))\n",
    "\n",
    "    return K\n",
    "\n",
    "def state_cost(state,goal_points,obs_points):\n",
    "    v = np.array([0.02, 0.02], dtype=np.float32)\n",
    "    covar = np.diag(v)\n",
    "    gauss_sum = 0\n",
    "    \n",
    "    for i in range(np.size(obs_points,axis=1)):\n",
    "        gauss_sum += 20*my_logpdf(state[:2],obs_points[:2,i],covar)\n",
    "        \n",
    "    cost = 30*((state[0]-goal_points[0])**2 + (state[1]-goal_points[1])**2) + gauss_sum + 10*(np.exp(-0.5*((state[0]-(-1.5))/0.02)**2)/(0.02*np.sqrt(2*np.pi)) \n",
    "                + np.exp(-0.5*((state[0]-1.5)/0.02)**2)/(0.02*np.sqrt(2*np.pi)) + np.exp(-0.5*((state[1]-1.0)/0.02)**2)/(0.02*np.sqrt(2*np.pi)) \n",
    "                + np.exp(-0.5*((state[1]-(-1.0))/0.02)**2)/(0.02*np.sqrt(2*np.pi)))\n",
    "    return(cost)\n",
    "\n",
    "def C_Bar(state,goal_points):\n",
    "    \n",
    "    #ind = discretize(state, 2, [-np.pi, -5], [2*np.pi/50, 0.2])\n",
    "    Cost = np.zeros((10,10)) #initialize cost\n",
    "    #Cost = 0\n",
    "    \n",
    "    for i in range(10):\n",
    "            for j in range(10):\n",
    "                next_state = model_step(state,[U_space_1[i],U_space_2[j]],time_step)\n",
    "                cov = np.array([[1, 0.5, 0.3], [0.5, 1, 0.2], [0.3, 0.2, 1]])\n",
    "                f = st.multivariate_normal(next_state.reshape((3,)),cov)\n",
    "                next_state = f.rvs()\n",
    "                cost = state_cost(next_state,goal_points)\n",
    "                Cost[i,j] = cost\n",
    "    \n",
    "    Expected_Cost = np.sum(Cost*(1/100))\n",
    "                \n",
    "    return(Expected_Cost)\n",
    "    \n",
    "def Control_step(state,U_space_1,U_space_2,goal_points,obs_points):\n",
    "        ###\n",
    "        #Perform an FPD step given an expert input, by first getting the corresponding pf and then applying the FPD solution\n",
    "        #tpf = stats.norm.pdf(u_axis, u, 0.2) #Input pf\n",
    "        #S = np.sum(tpf) #Normalizing input pf\n",
    "        \n",
    "        target_pf = 1/control_space_size**2\n",
    "        time_step = 0.033\n",
    "        #ind = discretize(self.state, 2, [-np.pi, -5], [2*np.pi/50, 0.2]) #Discretize the state index for DKL calculation\n",
    "        \n",
    "        pf = np.zeros((control_space_size,control_space_size)) #Initialize pf\n",
    "        for i in range(control_space_size):\n",
    "            for j in range(control_space_size):\n",
    "                next_state = model_step(state,[U_space_1[i],U_space_2[j]],time_step)\n",
    "                cov = np.array([[0.001, 0.0002], [0.0002, 0.001]])\n",
    "                f = st.multivariate_normal(next_state.reshape((2,)),cov)\n",
    "                N_samples = 20\n",
    "                next_sample = f.rvs(N_samples)\n",
    "\n",
    "                #next_sample = np.reshape(next_sample,(2,N_samples))\n",
    "\n",
    "                cost=0\n",
    "                for k in range(N_samples):\n",
    "                    cost+=state_cost(next_sample[k,:],goal_points,obs_points)\n",
    "\n",
    "                #lb,ub = lb_ub_support(next_state,cov)\n",
    "                #q_const = q_constant(lb,ub)\n",
    "                #f = plant_actual[ind[0],ind[1],i] #Get the actual and demonstrator plants from the binned data\n",
    "                #g = plant_target[ind[0],ind[1],i]\n",
    "                log_DKL = np.exp(-(-f.entropy())-cost/N_samples)\n",
    "                #log_DKL = np.exp(-(-f.entropy()-np.log(q_const))-cost/N_samples)\n",
    "                pf[i,j] = log_DKL #Calculate the DKL for each possible input, get corresponding probability\n",
    "        S2 = np.sum(pf) #Normalize resulting policy\n",
    "        #print(pf)\n",
    "        pf = np.array([x/S2 for x in pf])\n",
    "        #action = np.random.choice(u_axis, p=pf) #Select a random action from the new policy\n",
    "        #previous_action = action\n",
    "        #self.step(action) #Simulation step\n",
    "        \n",
    "        flat = pf.flatten()\n",
    "\n",
    "        sample_index = np.random.choice(a=flat.size, p=flat)\n",
    "\n",
    "        # Take this index and adjust it so it matches the original array\n",
    "        adjusted_index = np.unravel_index(sample_index, pf.shape)\n",
    "        #print(adjusted_index)\n",
    "\n",
    "        action = np.reshape(np.array([U_space_1[adjusted_index[0]],U_space_2[adjusted_index[1]]]),(2,1))\n",
    "        \n",
    "        return(action)"
   ]
  },
  {
   "cell_type": "code",
   "execution_count": 24,
   "metadata": {},
   "outputs": [],
   "source": [
    "# Define goal points by removing orientation from poses\n",
    "goal_points = np.array(np.mat('-1.4; -0.8; 0'))\n",
    "\n",
    "obs_points = np.array(np.mat('0 0 0 0 0 -0.8;0 0.2 0.4 0.6 0.8 -0.8;0 0 0 0 0 0'))"
   ]
  },
  {
   "cell_type": "code",
   "execution_count": 26,
   "metadata": {},
   "outputs": [
    {
     "data": {
      "image/png": "[encoded data removed]",
      "text/plain": [
       "<Figure size 432x288 with 1 Axes>"
      ]
     },
     "metadata": {
      "needs_background": "light"
     },
     "output_type": "display_data"
    },
    {
     "name": "stdout",
     "output_type": "stream",
     "text": [
      "##### DEBUG OUTPUT #####\n",
      "Your simulation will take approximately 25 real seconds when deployed on the Robotarium. \n",
      "\n",
      "\t Simulation had 713 iteration(s) where the actuator limits were exceeded.\n"
     ]
    },
    {
     "data": {
      "text/plain": [
       "<Figure size 432x288 with 0 Axes>"
      ]
     },
     "metadata": {},
     "output_type": "display_data"
    },
    {
     "data": {
      "image/png": "[encoded data removed]",
      "text/plain": [
       "<Figure size 432x288 with 1 Axes>"
      ]
     },
     "metadata": {
      "needs_background": "light"
     },
     "output_type": "display_data"
    },
    {
     "name": "stdout",
     "output_type": "stream",
     "text": [
      "##### DEBUG OUTPUT #####\n",
      "Your simulation will take approximately 25 real seconds when deployed on the Robotarium. \n",
      "\n",
      "\t Simulation had 1409 iteration(s) where the actuator limits were exceeded.\n"
     ]
    },
    {
     "data": {
      "text/plain": [
       "<Figure size 432x288 with 0 Axes>"
      ]
     },
     "metadata": {},
     "output_type": "display_data"
    },
    {
     "data": {
      "image/png": "[encoded data removed]",
      "text/plain": [
       "<Figure size 432x288 with 1 Axes>"
      ]
     },
     "metadata": {
      "needs_background": "light"
     },
     "output_type": "display_data"
    },
    {
     "name": "stdout",
     "output_type": "stream",
     "text": [
      "##### DEBUG OUTPUT #####\n",
      "Your simulation will take approximately 57 real seconds when deployed on the Robotarium. \n",
      "\n",
      "\t Simulation had 2912 iteration(s) where the actuator limits were exceeded.\n"
     ]
    },
    {
     "data": {
      "text/plain": [
       "<Figure size 432x288 with 0 Axes>"
      ]
     },
     "metadata": {},
     "output_type": "display_data"
    },
    {
     "data": {
      "image/png": "[encoded data removed]",
      "text/plain": [
       "<Figure size 432x288 with 1 Axes>"
      ]
     },
     "metadata": {
      "needs_background": "light"
     },
     "output_type": "display_data"
    },
    {
     "name": "stdout",
     "output_type": "stream",
     "text": [
      "##### DEBUG OUTPUT #####\n",
      "Your simulation will take approximately 12 real seconds when deployed on the Robotarium. \n",
      "\n",
      "\t Simulation had 3248 iteration(s) where the actuator limits were exceeded.\n"
     ]
    },
    {
     "data": {
      "text/plain": [
       "<Figure size 432x288 with 0 Axes>"
      ]
     },
     "metadata": {},
     "output_type": "display_data"
    }
   ],
   "source": [
    "# Instantiate Robotarium object\n",
    "N = 1\n",
    "initial_conditions = [np.array(np.mat('1.4;0.9; 0')),np.array(np.mat('0.2;0.9; 0')),np.array(np.mat('1.2;-0.5; 0')),np.array(np.mat('-1;0.9; 0'))]\n",
    "N_experiment = 4\n",
    "X_Si = [0]*N_experiment\n",
    "D_Xi = [0]*N_experiment\n",
    "\n",
    "for I in range(N_experiment):\n",
    "    \n",
    "    X_si = []\n",
    "    D_xi = []\n",
    "\n",
    "    r = robotarium.Robotarium(number_of_robots=N, show_figure=True, initial_conditions=initial_conditions[I], sim_in_real_time=False)\n",
    "\n",
    "    # Create single integrator position controller\n",
    "    single_integrator_position_controller = create_si_position_controller()\n",
    "\n",
    "    # Create barrier certificates to avoid collision\n",
    "    #si_barrier_cert = create_single_integrator_barrier_certificate()\n",
    "    si_barrier_cert = create_single_integrator_barrier_certificate_with_boundary()\n",
    "\n",
    "    _, uni_to_si_states = create_si_to_uni_mapping()\n",
    "\n",
    "    # Create mapping from single integrator velocity commands to unicycle velocity commands\n",
    "    si_to_uni_dyn = create_si_to_uni_dynamics_with_backwards_motion()\n",
    "\n",
    "    # define x initially\n",
    "    x = r.get_poses()\n",
    "    x_si = uni_to_si_states(x)\n",
    "    \n",
    "    # Plotting Parameters\n",
    "    CM = np.random.rand(N+10,3) # Random Colors\n",
    "    goal_marker_size_m = 0.15\n",
    "    obs_marker_size_m = 0.15\n",
    "    #robot_marker_size_m = 0.1\n",
    "    marker_size_goal = determine_marker_size(r,goal_marker_size_m)\n",
    "    marker_size_obs = determine_marker_size(r,obs_marker_size_m)\n",
    "    #marker_size_robot = determine_marker_size(r, robot_marker_size_m)\n",
    "    font_size = determine_font_size(r,0.1)\n",
    "    line_width = 5\n",
    "\n",
    "    # Create Goal Point Markers\n",
    "    #Text with goal identification\n",
    "    goal_caption = ['G{0}'.format(ii) for ii in range(goal_points.shape[1])]\n",
    "    #Plot text for caption\n",
    "    goal_points_text = [r.axes.text(goal_points[0,ii], goal_points[1,ii], goal_caption[ii], fontsize=font_size, color='k',fontweight='bold',horizontalalignment='center',verticalalignment='center',zorder=-2)\n",
    "    for ii in range(goal_points.shape[1])]\n",
    "    goal_markers = [r.axes.scatter(goal_points[0,ii], goal_points[1,ii], s=marker_size_goal, marker='s', facecolors='none',edgecolors=CM[ii,:],linewidth=line_width,zorder=-2)\n",
    "    for ii in range(goal_points.shape[1])]\n",
    "    #robot_markers = [r.axes.scatter(x[0,ii], x[1,ii], s=marker_size_robot, marker='o', facecolors='none',edgecolors=CM[ii,:],linewidth=line_width) \n",
    "    #for ii in range(goal_points.shape[1])]\n",
    "\n",
    "    #Text with goal identification\n",
    "    obs_caption = ['OBS{0}'.format(ii) for ii in range(obs_points.shape[1])]\n",
    "    #Plot text for caption\n",
    "    obs_points_text = [r.axes.text(obs_points[0,ii], obs_points[1,ii], obs_caption[ii], fontsize=font_size, color='k',fontweight='bold',horizontalalignment='center',verticalalignment='center',zorder=-2)\n",
    "    for ii in range(obs_points.shape[1])]\n",
    "    obs_markers = [r.axes.scatter(obs_points[0,ii], obs_points[1,ii], s=marker_size_obs, marker='s', facecolors='none',edgecolors=CM[ii+1,:],linewidth=line_width,zorder=-2)\n",
    "    for ii in range(obs_points.shape[1])]\n",
    "\n",
    "    r.step()\n",
    "    \n",
    "        # While the number of robots at the required poses is less\n",
    "    # than N...\n",
    "    while (np.size(at_pose(np.vstack((x_si,x[2,:])), goal_points, position_error=0.15,rotation_error=100)) != N):\n",
    "\n",
    "        # Get poses of agents\n",
    "        x = r.get_poses()\n",
    "        x_si = uni_to_si_states(x)\n",
    "        \n",
    "        #Add to the dataset\n",
    "        X_si.append(x_si)\n",
    "        \n",
    "        cov = np.array([[0.001, 0.0002], [0.0002, 0.001]])\n",
    "        x_pdf = st.multivariate_normal(x_si.reshape((2,)),cov)\n",
    "        x_sample = x_pdf.rvs()\n",
    "        \n",
    "\n",
    "        for j in range(goal_points.shape[1]):\n",
    "            goal_markers[j].set_sizes([determine_marker_size(r, goal_marker_size_m)])\n",
    "        \n",
    "        for j in range(obs_points.shape[1]):\n",
    "            obs_markers[j].set_sizes([determine_marker_size(r, obs_marker_size_m)])\n",
    "\n",
    "        # Create single-integrator control inputs\n",
    "        #dxi = single_integrator_position_controller(x_si, goal_points[:2][:])\n",
    "        dxi = Control_step(x_sample,U_space_1,U_space_2,goal_points,obs_points)\n",
    "        \n",
    "        D_xi.append(dxi)\n",
    "        \n",
    "        # Transform single integrator velocity commands to unicycle\n",
    "        dxu = si_to_uni_dyn(dxi, x)\n",
    "\n",
    "        # Set the velocities by mapping the single-integrator inputs to unciycle inputs\n",
    "        r.set_velocities(np.arange(N), dxu)\n",
    "        # Iterate the simulation\n",
    "        r.step()\n",
    "        \n",
    "    D_Xi[I] = D_xi\n",
    "    X_Si[I] = X_si\n",
    "\n",
    "    #Call at end of script to print debug information and for your script to run on the Robotarium server properly\n",
    "    r.call_at_scripts_end()   "
   ]
  },
  {
   "cell_type": "code",
   "execution_count": 27,
   "metadata": {},
   "outputs": [
    {
     "name": "stderr",
     "output_type": "stream",
     "text": [
      "c:\\Users\\jamal\\anaconda3\\envs\\mbrl\\lib\\site-packages\\numpy\\lib\\npyio.py:501: VisibleDeprecationWarning: Creating an ndarray from ragged nested sequences (which is a list-or-tuple of lists-or-tuples-or ndarrays with different lengths or shapes) is deprecated. If you meant to do this, you must specify 'dtype=object' when creating the ndarray.\n",
      "  arr = np.asanyarray(arr)\n"
     ]
    }
   ],
   "source": [
    "np.save('State_Data2.npy',X_Si)\n",
    "np.save('Input_Data2.npy',D_Xi)"
   ]
  },
  {
   "cell_type": "code",
   "execution_count": 28,
   "metadata": {},
   "outputs": [],
   "source": [
    "XX = np.load('State_Data2.npy',allow_pickle=True)\n",
    "UU = np.load('Input_Data2.npy',allow_pickle=True)\n",
    "\n",
    "#XX = np.load(r'D:\\Network Security\\KL Control\\robotarium_python_simulator\\State_Data_Simulation.npy',allow_pickle=True)\n",
    "#UU = np.load(r'D:\\Network Security\\KL Control\\robotarium_python_simulator\\Input_Data_Simulation.npy',allow_pickle=True)"
   ]
  },
  {
   "cell_type": "code",
   "execution_count": 29,
   "metadata": {},
   "outputs": [],
   "source": [
    "X = []\n",
    "X_plot = []\n",
    "U = []\n",
    "U_plot = []\n",
    "\n",
    "for i in range(len(XX)):\n",
    "    X.append(np.array(XX[i]))\n",
    "    X_plot.append(np.array(XX[i]))\n",
    "\n",
    "X = np.concatenate(X, axis=0)\n",
    "X = np.reshape(X, (-1, 2))\n",
    "\n",
    "U = []\n",
    "for i in range(len(UU)):\n",
    "    U.append(np.array(UU[i]))\n",
    "    U_plot.append(np.array(UU[i]))\n",
    "\n",
    "U = np.concatenate(U, axis=0)\n",
    "U = np.reshape(U, (-1, 2))\n",
    "\n"
   ]
  },
  {
   "cell_type": "code",
   "execution_count": 30,
   "metadata": {},
   "outputs": [],
   "source": [
    "obs_points_f = np.array(np.mat('0 0 0 0 0 0.8 0.8 0.8 0.8 0.8 -0.8 -0.8 -0.8 -0.8 -0.8;-0.8 -0.4 0 0.4 0.8 -0.8 -0.4 0 0.4 0.8 -0.8 -0.4 0 0.4 0.8;0 0 0 0 0 0 0 0 0 0 0 0 0 0 0'))"
   ]
  },
  {
   "cell_type": "code",
   "execution_count": 31,
   "metadata": {},
   "outputs": [
    {
     "name": "stdout",
     "output_type": "stream",
     "text": [
      "16\n"
     ]
    }
   ],
   "source": [
    "N_feature = np.size(obs_points_f,axis=1)+1\n",
    "print(N_feature)"
   ]
  },
  {
   "cell_type": "code",
   "execution_count": 32,
   "metadata": {},
   "outputs": [],
   "source": [
    "def feature(next_state,goal_points,obs_points,N_feature):\n",
    "    v = np.array([0.02, 0.02], dtype=np.float32)\n",
    "    covar = np.diag(v)\n",
    "    features = np.zeros(N_feature)\n",
    "    for i in range(np.size(obs_points,axis=1)):\n",
    "        features[i+1] = my_logpdf(next_state[:2],obs_points[:2,i],covar)\n",
    "        #features[i+1] = multivariate_rbf_kernel(next_state[:2],obs_points[:2,i],15)\n",
    "        \n",
    "    features[0] = (((next_state[0]-goal_points[0])**2 + (next_state[1]-goal_points[1])**2))\n",
    "    #features[-1] = (np.exp(-0.5*((next_state[0]-(-1.5))/0.02)**2)/(0.02*np.sqrt(2*np.pi)) \n",
    "    #            + np.exp(-0.5*((next_state[0]-1.5)/0.02)**2)/(0.02*np.sqrt(2*np.pi)) + np.exp(-0.5*((next_state[1]-1.0)/0.02)**2)/(0.02*np.sqrt(2*np.pi)) \n",
    "    #            + np.exp(-0.5*((next_state[1]-(-1.0))/0.02)**2)/(0.02*np.sqrt(2*np.pi)))\n",
    "    \n",
    "    return features"
   ]
  },
  {
   "cell_type": "code",
   "execution_count": 33,
   "metadata": {},
   "outputs": [],
   "source": [
    "%%capture\n",
    "import cvxpy as cp\n",
    "import numpy as np\n",
    "import time\n",
    "M = np.size(X,axis=0) - 1\n",
    "w = cp.Variable((1,N_feature))\n",
    "#v = cp.Variable((2,2))\n",
    "constraints = [w >= 0]\n",
    "R = np.zeros((99,1))\n",
    "L = []\n",
    "#S_axis = np.array([i for i in range(51)])\n",
    "\n",
    "f_expect = np.zeros((2,20)) \n",
    "#features = np.zeros((2,10,10)) \n",
    "feature_sampled = np.zeros((N_feature,M))\n",
    "PF = np.zeros((control_space_size,control_space_size,M))\n",
    "#pf = np.zeros((10,10))\n",
    "#Log_DKL = np.zeros((20,M))\n",
    "\n",
    "for i in range(M):\n",
    "\n",
    "    #############################################################################################################################\n",
    "    features = np.zeros((N_feature,control_space_size,control_space_size))\n",
    "    state = np.array(X[i,:]) #Get the state\n",
    "\n",
    "    x0 = state.reshape(-1,1)\n",
    "   \n",
    "    #target_pf = 1/control_space_size**2\n",
    "    time_step = 0.033\n",
    "    #ind = discretize(self.state, 2, [-np.pi, -5], [2*np.pi/50, 0.2]) #Discretize the state index for DKL calculation\n",
    "        \n",
    "    pf = np.zeros((control_space_size,control_space_size)) #Initialize pf\n",
    "    \n",
    "    for j in range(control_space_size):\n",
    "        for k in range(control_space_size):\n",
    "            next_state = model_step(state,[U_space_1[j],U_space_2[k]],time_step)\n",
    "            cov = np.array([[0.001, 0.0002], [0.0002, 0.001]])\n",
    "            f = st.multivariate_normal(next_state.reshape((2,)),cov)\n",
    "            next_sample = f.mean\n",
    "            \n",
    "            N_samples = 5\n",
    "            next_samples = f.rvs(N_samples)\n",
    "            feature_sample = np.zeros((N_feature,N_samples))\n",
    "            \n",
    "            for m in range(N_samples):\n",
    "                feature_sample[:,m] = feature(next_samples[m,:],goal_points,obs_points_f,N_feature)\n",
    "            #calculating feature\n",
    "            #features[:,j,k] = feature(next_sample,goal_points,obs_points_f,N_feature)\n",
    "            features[:,j,k] = np.mean(feature_sample,axis=1)\n",
    "            \n",
    "            #lb,ub = lb_ub_support(next_state,cov)\n",
    "            #q_const = q_constant(lb,ub)\n",
    "            \n",
    "            #Calculate the DKL for each possible input, get corresponding probability\n",
    "            log_DKL = np.exp(-(-f.entropy()))\n",
    "            pf[j,k] = log_DKL \n",
    "    PF[:,:,i] = pf\n",
    "    \n",
    "    features = np.reshape(features,(N_feature,control_space_size**2))\n",
    "    \n",
    "    #f_sampled = np.reshape(plant_actual[ind[0],ind[1],u_ind],(51,51))\n",
    "    f_sampled = model_step(state,U[i+1,:],time_step)\n",
    "    cov = np.array([[0.001, 0.0002], [0.0002, 0.001]])\n",
    "    f1 = st.multivariate_normal(f_sampled.reshape((2,)),cov)\n",
    "    next_samples_f1 = f1.rvs(N_samples)\n",
    "    feature_sample_f1 = np.zeros((N_feature,N_samples))\n",
    "    for n in range(N_samples):\n",
    "        feature_sample_f1[:,n] = feature(next_samples_f1[n,:],goal_points,obs_points_f,N_feature)\n",
    "    \n",
    "    feature_sampled[:,i] = np.mean(feature_sample_f1,axis=1)\n",
    "    \n",
    "    L.append(-(w @ feature_sampled[:,i]) + cp.log_sum_exp(cp.reshape(w @ features,(control_space_size**2,)) + cp.log(np.reshape(PF[:,:,i],(control_space_size**2,))))) #Log likelihood for each instance\n",
    "    \n",
    "    #L.append(-(w @ feature_sampled[:,i]) + cp.log(cp.sum(cp.exp(cp.reshape(w@ features[:,:,i],(20,))+cp.log(PF[:,i])))))\n",
    "     \n",
    "objective = cp.Minimize(cp.sum(L))    \n",
    "    \n",
    "prob = cp.Problem(objective)\n",
    "\n",
    "result = prob.solve(verbose = True)\n",
    "\n",
    "print(\"status:\", prob.status)\n",
    "print(\"optimal value\", prob.value)"
   ]
  },
  {
   "cell_type": "code",
   "execution_count": 34,
   "metadata": {},
   "outputs": [
    {
     "name": "stdout",
     "output_type": "stream",
     "text": [
      "weights: [[-1.58636744e+01  3.17743780e-01  1.10019412e-02 -1.24359947e+01\n",
      "  -1.89303848e+01 -1.02719287e+01  8.43797936e-02  7.15454247e-01\n",
      "   5.51033939e-01  1.50131059e-02 -2.66011022e-01 -9.93529589e+00\n",
      "  -1.07299167e-01  2.27303043e-01 -5.68427401e-01  2.46958842e-01]]\n"
     ]
    }
   ],
   "source": [
    "print('weights:',w.value)\n",
    "\n",
    "#w = np.array(w)\n",
    "\n",
    "weights = w.value\n",
    "\n",
    "np.save('Weights.npy',weights)\n",
    "#weights.shape"
   ]
  },
  {
   "cell_type": "code",
   "execution_count": 35,
   "metadata": {},
   "outputs": [],
   "source": [
    "weights = np.load('Weights.npy')"
   ]
  },
  {
   "cell_type": "code",
   "execution_count": 36,
   "metadata": {},
   "outputs": [
    {
     "name": "stdout",
     "output_type": "stream",
     "text": [
      "status: optimal\n",
      "optimal value -7797.822026246321\n"
     ]
    }
   ],
   "source": [
    "print(\"status:\", prob.status)\n",
    "print(\"optimal value\", prob.value)"
   ]
  },
  {
   "cell_type": "code",
   "execution_count": 37,
   "metadata": {},
   "outputs": [],
   "source": [
    "import numpy as np \n",
    "import scipy.stats as st\n",
    "import pandas as pd\n",
    "\n",
    "goal_points = np.array(np.mat('-1.4; -0.8; 0'))\n",
    "\n",
    "obs_points = np.array(np.mat('0 0 0 0 0 -0.8 ;0 0.2 0.4 0.6 0.8 -0.8;0 0 0 0 0 0'))\n",
    "\n",
    "def my_logpdf(x, u, covar):\n",
    "    k = len(x)  # dimension\n",
    "    a = np.transpose(x - u)\n",
    "    b = np.linalg.inv(covar)\n",
    "    c = x - u\n",
    "    d = np.matmul(a, b)\n",
    "    e = np.matmul(d, c)\n",
    "    numer = np.exp(-0.5 * e)\n",
    "    f = (2 * np.pi)**k\n",
    "    g = np.linalg.det(covar)\n",
    "    denom = np.sqrt(f * g)\n",
    "    pdf = numer / denom\n",
    "    return pdf\n",
    "\n",
    "def state_cost(state,goal_points,obs_points):\n",
    "    v = np.array([0.02, 0.02], dtype=np.float32)\n",
    "    covar = np.diag(v)\n",
    "    \n",
    "    v1 = np.array([1, 1], dtype=np.float32)\n",
    "    covar1 = np.diag(v1)\n",
    "    #cost = 60*(state[0]-goal_points[0])**2 + 60*(state[1]-goal_points[1])**2 + 200*(np.exp(-(np.abs(state[0]-obs_points[0,0])+np.abs(state[1]-obs_points[1,0]))) + np.exp(-(np.abs(state[0]-obs_points[0,1]) + np.abs(state[1]-obs_points[1,1]))) + np.exp(-(np.abs(state[0]-obs_points[0,2])+np.abs(state[1]-obs_points[1,2])))) #actual cost\n",
    "    \n",
    "    gauss_sum = 0\n",
    "    \n",
    "    for i in range(np.size(obs_points,axis=1)):\n",
    "        gauss_sum += 20*my_logpdf(state[:2],obs_points[:2,i],covar)\n",
    "        #gauss_sum += 100*multivariate_rbf_kernel(state[:2],obs_points[:2,i],100)\n",
    "        \n",
    "    cost = 30*((state[0]-goal_points[0])**2 + (state[1]-goal_points[1])**2) + gauss_sum + 0*(np.exp(-0.5*((state[0]-(-1.5))/0.02)**2)/(0.02*np.sqrt(2*np.pi)) \n",
    "                + np.exp(-0.5*((state[0]-1.5)/0.02)**2)/(0.02*np.sqrt(2*np.pi)) + np.exp(-0.5*((state[1]-1.0)/0.02)**2)/(0.02*np.sqrt(2*np.pi)) \n",
    "                + np.exp(-0.5*((state[1]-(-1.0))/0.02)**2)/(0.02*np.sqrt(2*np.pi)))\n",
    "    \n",
    "    #cost = 4.16*np.sqrt((ind[0]-25)**2)+2.44*np.sqrt((ind[1]-25)**2) #estimated cost\n",
    "    return(cost)\n",
    "\n",
    "\n",
    "Cost_Map = np.zeros((300,200))\n",
    "X_axis = np.linspace(-1.5,1.5,300)\n",
    "Y_axis = np.linspace(-1,1,200)\n",
    "\n",
    "for i in range(200):\n",
    "    for j in range(300):\n",
    "        \n",
    "        state = np.array([X_axis[j],Y_axis[i]])\n",
    "        Cost_Map[j,i] = state_cost(state,goal_points,obs_points)\n",
    "\n",
    "Coat_Map = pd.DataFrame(Cost_Map,index=list(X_axis),columns=Y_axis)"
   ]
  },
  {
   "cell_type": "code",
   "execution_count": 39,
   "metadata": {},
   "outputs": [],
   "source": [
    "import numpy as np \n",
    "import scipy.stats as st\n",
    "\n",
    "\n",
    "\n",
    "goal_points = np.array(np.mat('-1.4; -0.8; 0'))\n",
    "\n",
    "obs_points = np.array(np.mat('0 0 0 0 0 -0.8;0 0.2 0.4 0.6 0.8 -0.8;0 0 0 0 0 0'))\n",
    "\n",
    "\n",
    "def my_logpdf(x, u, covar):\n",
    "    k = len(x)  # dimension\n",
    "    a = np.transpose(x - u)\n",
    "    b = np.linalg.inv(covar)\n",
    "    c = x - u\n",
    "    d = np.matmul(a, b)\n",
    "    e = np.matmul(d, c)\n",
    "    numer = np.exp(-0.5 * e)\n",
    "    f = (2 * np.pi)**k\n",
    "    g = np.linalg.det(covar)\n",
    "    denom = np.sqrt(f * g)\n",
    "    pdf = numer / denom\n",
    "    return pdf\n",
    "\n",
    "def state_cost(state,goal_points,obs_points,weights):\n",
    "    #weights = np.reshape(weights,(9,))\n",
    "    v = np.array([0.02, 0.02], dtype=np.float32)\n",
    "    covar = np.diag(v)\n",
    "    \n",
    "    v1 = np.array([1, 1], dtype=np.float32)\n",
    "    covar1 = np.diag(v1)\n",
    "    #cost = 60*(state[0]-goal_points[0])**2 + 60*(state[1]-goal_points[1])**2 + 200*(np.exp(-(np.abs(state[0]-obs_points[0,0])+np.abs(state[1]-obs_points[1,0]))) + np.exp(-(np.abs(state[0]-obs_points[0,1]) + np.abs(state[1]-obs_points[1,1]))) + np.exp(-(np.abs(state[0]-obs_points[0,2])+np.abs(state[1]-obs_points[1,2])))) #actual cost\n",
    "    \n",
    "    gauss_sum = 0\n",
    "    \n",
    "    for i in range(np.size(obs_points,axis=1)):\n",
    "        gauss_sum += -weights[:,i+1]*my_logpdf(state[:2],obs_points[:2,i],covar)\n",
    "        #gauss_sum += -weights[:,i+1]*multivariate_rbf_kernel(state[:2],obs_points[:2,i],15)\n",
    "        \n",
    "    cost = -weights[:,0]*((((state[0]-goal_points[0])**2 + (state[1]-goal_points[1])**2))) + gauss_sum + 0*(np.exp(-0.5*((state[0]-(-1.5))/0.02)**2)/(0.02*np.sqrt(2*np.pi)) \n",
    "                + np.exp(-0.5*((state[0]-1.5)/0.02)**2)/(0.02*np.sqrt(2*np.pi)) + np.exp(-0.5*((state[1]-1.0)/0.02)**2)/(0.02*np.sqrt(2*np.pi)) \n",
    "                + np.exp(-0.5*((state[1]-(-1.0))/0.02)**2)/(0.02*np.sqrt(2*np.pi)))\n",
    "    \n",
    "    #cost = 4.16*np.sqrt((ind[0]-25)**2)+2.44*np.sqrt((ind[1]-25)**2) #estimated cost\n",
    "    return(cost)\n",
    "\n",
    "\n",
    "Cost_Map = np.zeros((300,200))\n",
    "X_axis = np.linspace(-1.5,1.5,300)\n",
    "Y_axis = np.linspace(-1,1,200)\n",
    "\n",
    "for i in range(200):\n",
    "    for j in range(300):\n",
    "        \n",
    "        state = np.array ([X_axis[j],Y_axis[i]])\n",
    "        Cost_Map[j,i] = state_cost(state,goal_points,obs_points_f,weights)"
   ]
  },
  {
   "cell_type": "code",
   "execution_count": 40,
   "metadata": {},
   "outputs": [
    {
     "data": {
      "image/png": "[encoded data removed]",
      "text/plain": [
       "<Figure size 432x288 with 2 Axes>"
      ]
     },
     "metadata": {
      "needs_background": "light"
     },
     "output_type": "display_data"
    }
   ],
   "source": [
    "import numpy as np\n",
    "import matplotlib.pyplot as plt\n",
    "\n",
    "# Create a 2D array of random values\n",
    "data = np.random.rand(10, 10)\n",
    "\n",
    "# Transpose the data array to rotate the heatmap\n",
    "data_rotated = np.transpose(Cost_Map)\n",
    "\n",
    "# Create a figure and axes\n",
    "fig, ax = plt.subplots()\n",
    "\n",
    "# Create a heatmap using imshow()\n",
    "heatmap = ax.imshow(data_rotated,cmap='coolwarm')\n",
    "\n",
    "contours = ax.contour(data_rotated,cmap='seismic' , linestyles='dashed')\n",
    "\n",
    "# Add a colorbar\n",
    "cbar = plt.colorbar(heatmap,shrink=0.8)\n",
    "\n",
    "# Add labels and title\n",
    "ax.set_xlabel('X [cm]')\n",
    "ax.set_ylabel('Y [cm]')\n",
    "#ax.set_title('Rotated Heatmap')\n",
    "\n",
    "ax.invert_yaxis()\n",
    "\n",
    "# Display the plot\n",
    "#plt.show()\n",
    "plt.savefig('Cost_Heat_Map_estimated.jpg',dpi=1000,bbox_inches ='tight')"
   ]
  },
  {
   "cell_type": "code",
   "execution_count": 41,
   "metadata": {},
   "outputs": [
    {
     "data": {
      "image/png": "[encoded data removed]",
      "text/plain": [
       "<Figure size 432x1440 with 2 Axes>"
      ]
     },
     "metadata": {
      "needs_background": "light"
     },
     "output_type": "display_data"
    }
   ],
   "source": [
    "import matplotlib.pyplot as plt\n",
    "from matplotlib import cm\n",
    "from matplotlib.ticker import LinearLocator\n",
    "import numpy as np\n",
    "\n",
    "\n",
    "#fig = plt.figure(figsize=(20, 10))\n",
    "fig, ax = plt.subplots(subplot_kw={\"projection\": \"3d\"})\n",
    "fig.figure.set_figheight(20)\n",
    "# Make data.\n",
    "X_axis = np.linspace(-1.5,1.5,300)\n",
    "Y_axis = np.linspace(-1,1,200)\n",
    "X, Y = np.meshgrid(Y_axis, X_axis)\n",
    "\n",
    "\n",
    "# Plot the surface.\n",
    "surf = ax.plot_surface(X, Y, Cost_Map, cmap=cm.coolwarm,\n",
    "                       linewidth=0, antialiased=False)\n",
    "\n",
    "# Customize the z axis.\n",
    "#ax.set_zlim(-1.01, 1.01)\n",
    "ax.zaxis.set_major_locator(LinearLocator(5))\n",
    "# A StrMethodFormatter is used automatically\n",
    "ax.zaxis.set_major_formatter('{x:.0f}')\n",
    "\n",
    "ax.set_xlabel('y')\n",
    "ax.set_ylabel('x')\n",
    "\n",
    "#ax.view_init(90, 0)\n",
    "\n",
    "# Add a color bar which maps values to colors.\n",
    "fig.colorbar(surf, shrink=0.08, aspect=5)\n",
    "\n",
    "plt.show()\n",
    "#plt.savefig('Cost_Map_estimated.jpg',dpi=1000,bbox_inches ='tight')"
   ]
  },
  {
   "cell_type": "code",
   "execution_count": 42,
   "metadata": {},
   "outputs": [
    {
     "data": {
      "image/png": "[encoded data removed]",
      "text/plain": [
       "<Figure size 432x288 with 1 Axes>"
      ]
     },
     "metadata": {
      "needs_background": "light"
     },
     "output_type": "display_data"
    }
   ],
   "source": [
    "import matplotlib.pyplot as plt\n",
    "from matplotlib import cm\n",
    "from matplotlib.ticker import LinearLocator\n",
    "import numpy as np\n",
    "\n",
    "#('1.4;0.9; 0')),np.array(np.mat('0.2;0.9; 0')),np.array(np.mat('1.2;-0.5; 0')),np.array(np.mat('-1;0.9; 0'))]\n",
    "\n",
    "plt.plot(X_plot[0][:,0],X_plot[0][:,1],linewidth=2)\n",
    "plt.plot(X_plot[1][:,0],X_plot[1][:,1],linewidth=2)\n",
    "plt.plot(X_plot[2][:,0],X_plot[2][:,1],linewidth=2)\n",
    "plt.plot(X_plot[3][:,0],X_plot[3][:,1],linewidth=2)\n",
    "\n",
    "plt.plot(1.4,0.9,'*',color='black',markersize=10)\n",
    "plt.plot(0.2,0.9,'*',color='black',markersize=10)\n",
    "plt.plot(1.2,-0.5,'*',color='black',markersize=10)\n",
    "plt.plot(-1,0.9,'*',color='black',markersize=10)\n",
    "\n",
    "#plt.axes()\n",
    "square1 = plt.Rectangle((-1.6,-1), 0.4, 0.4, fc='green',ec=\"black\")\n",
    "square3 = plt.Rectangle((-0.9,-1), 0.4, 0.4, fc='red',ec=\"black\")\n",
    "square2 = plt.Rectangle((-0.2,0), 0.4, 1, fc='red',ec=\"black\")\n",
    "plt.gca().add_patch(square2)\n",
    "plt.gca().add_patch(square1)\n",
    "plt.gca().add_patch(square3)\n",
    "plt.ylim(-1,1)\n",
    "plt.xlim(-1.5,1.5)\n",
    "plt.xlabel('X [m]')\n",
    "plt.ylabel('Y [m]')\n",
    "#plt.show()\n",
    "#plt.savefig('Test_Trajectories.jpg',dpi=1000,bbox_inches ='tight')\n",
    "plt.savefig('Training_Trajectories.jpg',dpi=1000,bbox_inches ='tight')"
   ]
  },
  {
   "cell_type": "code",
   "execution_count": 43,
   "metadata": {},
   "outputs": [
    {
     "data": {
      "image/png": "[encoded data removed]",
      "text/plain": [
       "<Figure size 432x288 with 1 Axes>"
      ]
     },
     "metadata": {
      "needs_background": "light"
     },
     "output_type": "display_data"
    }
   ],
   "source": [
    "import numpy as np\n",
    "import matplotlib.pyplot as plt\n",
    "\n",
    "fig,ax = plt.subplots()\n",
    "\n",
    "ax.scatter(obs_points_f[0,:],obs_points_f[1,:])\n",
    "\n",
    "w = np.zeros((15,))\n",
    "\n",
    "for j in range(15):\n",
    "    wt = float(weights[:,j])\n",
    "    w[j] = round(wt,1)\n",
    "\n",
    "for i, txt in enumerate(w.reshape(15,)):\n",
    "    ax.annotate(txt,(obs_points_f[0,i],obs_points_f[1,i]))\n",
    "plt.grid(True)\n",
    "plt.show()"
   ]
  }
 ],
 "metadata": {
  "kernelspec": {
   "display_name": "mbrl",
   "language": "python",
   "name": "python3"
  },
  "language_info": {
   "codemirror_mode": {
    "name": "ipython",
    "version": 3
   },
   "file_extension": ".py",
   "mimetype": "text/x-python",
   "name": "python",
   "nbconvert_exporter": "python",
   "pygments_lexer": "ipython3",
   "version": "3.8.13"
  },
  "orig_nbformat": 4
 },
 "nbformat": 4,
 "nbformat_minor": 2
}
