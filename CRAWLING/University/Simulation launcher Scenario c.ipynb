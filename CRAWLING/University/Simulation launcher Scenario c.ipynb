{
 "cells": [
  {
   "cell_type": "code",
   "execution_count": null,
   "id": "9330915b",
   "metadata": {},
   "outputs": [],
   "source": [
    "import numpy as np\n",
    "import matplotlib.pyplot as plt\n",
    "import random"
   ]
  },
  {
   "cell_type": "code",
   "execution_count": null,
   "id": "fdd7f701",
   "metadata": {},
   "outputs": [],
   "source": [
    "#Twittersim\n",
    "def simFiles(nC):\n",
    "    departs = [10*i for i in range(20)]\n",
    "    \n",
    "    #Shuffle indexes\n",
    "    inds = list(range(20))\n",
    "    random.shuffle(inds)\n",
    "    inds2 = list(range(20))\n",
    "    random.shuffle(inds2)\n",
    "\n",
    "    #Starts, foe finishes and agent goals\n",
    "    starts = ['62166872']*20#['122726134#0']*50 + ['62166872']*100\n",
    "    finishes = [0]*20#'298563412']*50 + ['-587489968#0']*100\n",
    "    goals = [1]*10 + [0]*10#[2]*50 + [1]*100\n",
    "\n",
    "    sStarts = [starts[i] for i in inds] #Applying the shuffle\n",
    "    sFinishes = [finishes[i] for i in inds]\n",
    "    sGoals = [goals[i] for i in inds]\n",
    "\n",
    "    sDeparts = [departs[i] for i in inds2]\n",
    "\n",
    "    nControlled = nC\n",
    "    indC = random.sample(range(20),nControlled) #Sampled which agents are controlled\n",
    "\n",
    "    agSt = []\n",
    "    agDep = []\n",
    "    agGoals = []\n",
    "    foeSt = []\n",
    "    foeDep = []\n",
    "    foeFin = []\n",
    "\n",
    "    for i in range(20):\n",
    "        if i in indC:\n",
    "            agSt.append(sStarts[i])\n",
    "            agDep.append(sDeparts[i])\n",
    "            agGoals.append(sGoals[i])\n",
    "        else:\n",
    "            foeSt.append(sStarts[i])\n",
    "            foeDep.append(sDeparts[i])\n",
    "            foeFin.append(sFinishes[i])\n",
    "        \n",
    "    np.save('agent.npy',np.array([agSt,agDep,agGoals]))\n",
    "    np.save('foe.npy',np.array([foeSt,foeDep,foeFin]))"
   ]
  },
  {
   "cell_type": "code",
   "execution_count": null,
   "id": "a8fdb47c",
   "metadata": {},
   "outputs": [],
   "source": [
    "simFiles(20)"
   ]
  },
  {
   "cell_type": "code",
   "execution_count": null,
   "id": "47adfb8b",
   "metadata": {},
   "outputs": [],
   "source": [
    "import os\n",
    "os.system('python3 main_1c.py')"
   ]
  }
 ],
 "metadata": {
  "kernelspec": {
   "display_name": "Python 3 (ipykernel)",
   "language": "python",
   "name": "python3"
  },
  "language_info": {
   "codemirror_mode": {
    "name": "ipython",
    "version": 3
   },
   "file_extension": ".py",
   "mimetype": "text/x-python",
   "name": "python",
   "nbconvert_exporter": "python",
   "pygments_lexer": "ipython3",
   "version": "3.11.4"
  }
 },
 "nbformat": 4,
 "nbformat_minor": 5
}
