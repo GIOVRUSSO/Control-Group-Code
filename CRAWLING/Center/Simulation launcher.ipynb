{
 "cells": [
  {
   "cell_type": "code",
   "execution_count": null,
   "id": "d8f6fbd4",
   "metadata": {},
   "outputs": [],
   "source": [
    "import numpy as np\n",
    "import random\n",
    "import os"
   ]
  },
  {
   "cell_type": "code",
   "execution_count": null,
   "id": "5d5084cc",
   "metadata": {},
   "outputs": [],
   "source": [
    "# SALERNO\n",
    "total_cars = 300\n",
    "n_agents = 300\n",
    "#Configuration of starting edges and ending edges. For controlled cars it is necessary to define a starting edge and the goal that corresponds to a parking space.\n",
    "starts =  ['185483089#5']*150  + ['93660151#3']*150\n",
    "finishes = ['670934108']*0 + ['401420254#0']*150 + ['673737658#3']*50 + ['672273418#3']*100\n",
    "\n",
    "#Uncontrolled cars have a starting edge and ending edge. The route is established by traci.simulation.findroute\n",
    "goals = [8]*0 + [3]*150 + [15]*50 + [14]*100\n",
    "\n",
    "agents_file = r\"salerno_net/salerno_agents.npy\"\n",
    "foes_file = r\"salerno_net/salerno_foes.npy\""
   ]
  },
  {
   "cell_type": "code",
   "execution_count": null,
   "id": "3367959c",
   "metadata": {},
   "outputs": [],
   "source": [
    "def simFiles(n_agents): #n_agents controlled cars\n",
    "\n",
    "    departs = [5*i for i in range(total_cars)] #choose how often cars are spawned into the map\n",
    "    \n",
    "    #Shuffle indexes\n",
    "    inds = list(range(total_cars))\n",
    "    random.shuffle(inds)\n",
    "    inds2 = list(range(total_cars))\n",
    "    random.shuffle(inds2)\n",
    "    \n",
    "    sStarts = [starts[i] for i in inds] #Applying the shuffle to have different orders at each simulation\n",
    "    sFinishes = [finishes[i] for i in inds]\n",
    "    sGoals = [goals[i] for i in inds]\n",
    "\n",
    "    sDeparts = [departs[i] for i in inds2]\n",
    "\n",
    "    nControlled = n_agents\n",
    "    indC = random.sample(range(total_cars),nControlled) #Sampled which agents are controlled\n",
    "\n",
    "    agSt = []\n",
    "    agDep = []\n",
    "    agGoals = []\n",
    "    foeSt = []\n",
    "    foeDep = []\n",
    "    foeFin = []\n",
    "\n",
    "    for i in range(total_cars):\n",
    "        if i in indC:\n",
    "            agSt.append(sStarts[i])\n",
    "            agDep.append(sDeparts[i])\n",
    "            agGoals.append(sGoals[i])\n",
    "        else:\n",
    "            foeSt.append(sStarts[i])\n",
    "            foeDep.append(sDeparts[i])\n",
    "            foeFin.append(sFinishes[i])\n",
    "        \n",
    "    np.save(agents_file,np.array([agSt,agDep,agGoals]))\n",
    "    np.save(foes_file,np.array([foeSt,foeDep,foeFin]))\n",
    "    print(\"Saved\")"
   ]
  },
  {
   "cell_type": "code",
   "execution_count": null,
   "id": "eadb2419",
   "metadata": {},
   "outputs": [],
   "source": [
    "n_agents = 300 #Change this variable to set the number of controlled cars\n",
    "for i in range(10): \n",
    "    simFiles(n_agents)\n",
    "    os.system('python3 main.py '+str(i) + ' --nogui') "
   ]
  }
 ],
 "metadata": {
  "kernelspec": {
   "display_name": "Python 3 (ipykernel)",
   "language": "python",
   "name": "python3"
  },
  "language_info": {
   "codemirror_mode": {
    "name": "ipython",
    "version": 3
   },
   "file_extension": ".py",
   "mimetype": "text/x-python",
   "name": "python",
   "nbconvert_exporter": "python",
   "pygments_lexer": "ipython3",
   "version": "3.11.4"
  }
 },
 "nbformat": 4,
 "nbformat_minor": 5
}
