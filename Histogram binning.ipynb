{
 "cells": [
  {
   "cell_type": "code",
   "execution_count": 41,
   "metadata": {},
   "outputs": [],
   "source": [
    "#This code implements the binning algorithm that can be used to estimate pmfs from raw data\n",
    "#We first give the general code, which estimates any f(Z|Y), and then provide a tool to facilitate its use when estimating plant pmfs\n",
    "#We only give the minimal interface and a few simple examples, please refer to the ReadMe file for more explainations on how to use the code\n",
    "\n",
    "#Code author: Émiland Garrabé"
   ]
  },
  {
   "cell_type": "code",
   "execution_count": null,
   "metadata": {},
   "outputs": [],
   "source": [
    "import numpy as np"
   ]
  },
  {
   "cell_type": "code",
   "execution_count": 42,
   "metadata": {},
   "outputs": [],
   "source": [
    "def discretize(X, Xdim, Xmin, Xstep):\n",
    "    ###\n",
    "    #Discretize a variable X using its dimension Xdim, its minimal values along each axis and the discretization steps\n",
    "    res = [0]*Xdim #n-dimensional index\n",
    "    for i in range(Xdim): #For each dimension\n",
    "        elt = X[i] #Extract the i-th element\n",
    "        ind = int((elt - Xmin[i])//Xstep[i]) #Discretize\n",
    "        res[i] = ind\n",
    "    return(tuple(res)) #Return as tuple for array indexing"
   ]
  },
  {
   "cell_type": "code",
   "execution_count": 43,
   "metadata": {},
   "outputs": [],
   "source": [
    "def getJointPMFs(data, Xdim, Xmin, Xstep, Xdiscr, Ydim, Ymin, Ystep, Ydiscr):\n",
    "    ###\n",
    "    #Get the joint PMFs for Y and X,Y using all the info on the variables (dim, mins, steps)\n",
    "    fullDiscr = Xdiscr + Ydiscr #List of the discretization steps (along each dimension) for both X and Y\n",
    "    fullJoint = np.zeros(fullDiscr) #f(X,Y)\n",
    "    Yjoint = np.zeros(Ydiscr) #f(Y)\n",
    "    for history in data: #For each trajectory in the dataset\n",
    "        Xhist = history[0]\n",
    "        Yhist = history[1]\n",
    "        for i in range(len(Xhist)): #For each data point in the trajectory\n",
    "            X = Xhist[i]\n",
    "            Y = Yhist[i]\n",
    "            Xind = discretize(X, Xdim, Xmin, Xstep) #Find the indexes\n",
    "            Yind = discretize(Y, Ydim, Xmin, Ystep)\n",
    "            fullInd = Xind + Yind #Get the index of the joint variable X,Y\n",
    "            fullJoint[fullInd] = fullJoint[fullInd] + 1 #Update the values\n",
    "            Yjoint[Yind] = Yjoint[Yind] + 1\n",
    "    fullJoint = fullJoint/np.sum(fullJoint) #Normalizing\n",
    "    Yjoint = Yjoint/np.sum(Yjoint)\n",
    "    return(fullJoint, Yjoint)"
   ]
  },
  {
   "cell_type": "code",
   "execution_count": 44,
   "metadata": {},
   "outputs": [],
   "source": [
    "def getConditionnal(fullJoint, Yjoint, Xdiscr, Ydiscr, Xdim):\n",
    "    ###\n",
    "    #Get f(X|Y) using the joint pmfs\n",
    "    fullDiscr = Xdiscr + Ydiscr\n",
    "    conditionnal = np.zeros(fullDiscr) #Initialize the pmf\n",
    "    for (index, x) in np.ndenumerate(fullJoint): #For each index and each value in f(X,Y) (we use this as it's robust w.r.t. the dimension)\n",
    "        Yind = index[Xdim:] #Extract the index for Y\n",
    "        if Yjoint[Yind] == 0: #Protect from dividing by zero\n",
    "            conditionnal[index] = 0\n",
    "        else:\n",
    "            conditionnal[index] = fullJoint[index]/Yjoint[Yind] #Division\n",
    "    return(conditionnal)"
   ]
  },
  {
   "cell_type": "code",
   "execution_count": null,
   "metadata": {},
   "outputs": [],
   "source": []
  },
  {
   "cell_type": "code",
   "execution_count": 45,
   "metadata": {},
   "outputs": [],
   "source": [
    "###Use case example for a 2D Z and a 1D Y\n",
    "#Dimensions of the variables\n",
    "Xdim = 2\n",
    "Ydim = 1\n",
    "\n",
    "#Minimum values (as lists)\n",
    "Xmin = [0,0]\n",
    "Ymin = [0]\n",
    "\n",
    "#Discretization steps (as lists)\n",
    "Xstep = [0.5,1]\n",
    "Ystep = [0.5]\n",
    "\n",
    "#Amount of discrete bins (as lists)\n",
    "Xdiscr = [10,5]\n",
    "Ydiscr = [10]"
   ]
  },
  {
   "cell_type": "code",
   "execution_count": 46,
   "metadata": {},
   "outputs": [],
   "source": [
    "#Example dataset with only one (small) trajectory\n",
    "Xhist = [[1,2],[1,2],[1,2],[1,2],[2,1],[2,1]]\n",
    "Yhist = [[1],[1],[2],[2],[1],[1]]\n",
    "\n",
    "history = [Xhist, Yhist]\n",
    "data = [history]"
   ]
  },
  {
   "cell_type": "code",
   "execution_count": 47,
   "metadata": {},
   "outputs": [],
   "source": [
    "(full, Y) = getJointPMFs(data, Xdim, Xmin, Xstep, Xdiscr, Ydim, Ymin, Ystep, Ydiscr)"
   ]
  },
  {
   "cell_type": "code",
   "execution_count": 48,
   "metadata": {},
   "outputs": [],
   "source": [
    "cond = getConditionnal(full, Y, Xdiscr, Ydiscr, Xdim)"
   ]
  },
  {
   "cell_type": "code",
   "execution_count": null,
   "metadata": {},
   "outputs": [],
   "source": []
  },
  {
   "cell_type": "code",
   "execution_count": 50,
   "metadata": {},
   "outputs": [
    {
     "data": {
      "text/plain": [
       "array([[[0. , 0. , 0. , 0. , 0. , 0. , 0. , 0. , 0. , 0. ],\n",
       "        [0. , 0. , 0. , 0. , 0. , 0. , 0. , 0. , 0. , 0. ],\n",
       "        [0. , 0. , 0. , 0. , 0. , 0. , 0. , 0. , 0. , 0. ],\n",
       "        [0. , 0. , 0. , 0. , 0. , 0. , 0. , 0. , 0. , 0. ],\n",
       "        [0. , 0. , 0. , 0. , 0. , 0. , 0. , 0. , 0. , 0. ]],\n",
       "\n",
       "       [[0. , 0. , 0. , 0. , 0. , 0. , 0. , 0. , 0. , 0. ],\n",
       "        [0. , 0. , 0. , 0. , 0. , 0. , 0. , 0. , 0. , 0. ],\n",
       "        [0. , 0. , 0. , 0. , 0. , 0. , 0. , 0. , 0. , 0. ],\n",
       "        [0. , 0. , 0. , 0. , 0. , 0. , 0. , 0. , 0. , 0. ],\n",
       "        [0. , 0. , 0. , 0. , 0. , 0. , 0. , 0. , 0. , 0. ]],\n",
       "\n",
       "       [[0. , 0. , 0. , 0. , 0. , 0. , 0. , 0. , 0. , 0. ],\n",
       "        [0. , 0. , 0. , 0. , 0. , 0. , 0. , 0. , 0. , 0. ],\n",
       "        [0. , 0. , 0.5, 0. , 1. , 0. , 0. , 0. , 0. , 0. ],\n",
       "        [0. , 0. , 0. , 0. , 0. , 0. , 0. , 0. , 0. , 0. ],\n",
       "        [0. , 0. , 0. , 0. , 0. , 0. , 0. , 0. , 0. , 0. ]],\n",
       "\n",
       "       [[0. , 0. , 0. , 0. , 0. , 0. , 0. , 0. , 0. , 0. ],\n",
       "        [0. , 0. , 0. , 0. , 0. , 0. , 0. , 0. , 0. , 0. ],\n",
       "        [0. , 0. , 0. , 0. , 0. , 0. , 0. , 0. , 0. , 0. ],\n",
       "        [0. , 0. , 0. , 0. , 0. , 0. , 0. , 0. , 0. , 0. ],\n",
       "        [0. , 0. , 0. , 0. , 0. , 0. , 0. , 0. , 0. , 0. ]],\n",
       "\n",
       "       [[0. , 0. , 0. , 0. , 0. , 0. , 0. , 0. , 0. , 0. ],\n",
       "        [0. , 0. , 0.5, 0. , 0. , 0. , 0. , 0. , 0. , 0. ],\n",
       "        [0. , 0. , 0. , 0. , 0. , 0. , 0. , 0. , 0. , 0. ],\n",
       "        [0. , 0. , 0. , 0. , 0. , 0. , 0. , 0. , 0. , 0. ],\n",
       "        [0. , 0. , 0. , 0. , 0. , 0. , 0. , 0. , 0. , 0. ]],\n",
       "\n",
       "       [[0. , 0. , 0. , 0. , 0. , 0. , 0. , 0. , 0. , 0. ],\n",
       "        [0. , 0. , 0. , 0. , 0. , 0. , 0. , 0. , 0. , 0. ],\n",
       "        [0. , 0. , 0. , 0. , 0. , 0. , 0. , 0. , 0. , 0. ],\n",
       "        [0. , 0. , 0. , 0. , 0. , 0. , 0. , 0. , 0. , 0. ],\n",
       "        [0. , 0. , 0. , 0. , 0. , 0. , 0. , 0. , 0. , 0. ]],\n",
       "\n",
       "       [[0. , 0. , 0. , 0. , 0. , 0. , 0. , 0. , 0. , 0. ],\n",
       "        [0. , 0. , 0. , 0. , 0. , 0. , 0. , 0. , 0. , 0. ],\n",
       "        [0. , 0. , 0. , 0. , 0. , 0. , 0. , 0. , 0. , 0. ],\n",
       "        [0. , 0. , 0. , 0. , 0. , 0. , 0. , 0. , 0. , 0. ],\n",
       "        [0. , 0. , 0. , 0. , 0. , 0. , 0. , 0. , 0. , 0. ]],\n",
       "\n",
       "       [[0. , 0. , 0. , 0. , 0. , 0. , 0. , 0. , 0. , 0. ],\n",
       "        [0. , 0. , 0. , 0. , 0. , 0. , 0. , 0. , 0. , 0. ],\n",
       "        [0. , 0. , 0. , 0. , 0. , 0. , 0. , 0. , 0. , 0. ],\n",
       "        [0. , 0. , 0. , 0. , 0. , 0. , 0. , 0. , 0. , 0. ],\n",
       "        [0. , 0. , 0. , 0. , 0. , 0. , 0. , 0. , 0. , 0. ]],\n",
       "\n",
       "       [[0. , 0. , 0. , 0. , 0. , 0. , 0. , 0. , 0. , 0. ],\n",
       "        [0. , 0. , 0. , 0. , 0. , 0. , 0. , 0. , 0. , 0. ],\n",
       "        [0. , 0. , 0. , 0. , 0. , 0. , 0. , 0. , 0. , 0. ],\n",
       "        [0. , 0. , 0. , 0. , 0. , 0. , 0. , 0. , 0. , 0. ],\n",
       "        [0. , 0. , 0. , 0. , 0. , 0. , 0. , 0. , 0. , 0. ]],\n",
       "\n",
       "       [[0. , 0. , 0. , 0. , 0. , 0. , 0. , 0. , 0. , 0. ],\n",
       "        [0. , 0. , 0. , 0. , 0. , 0. , 0. , 0. , 0. , 0. ],\n",
       "        [0. , 0. , 0. , 0. , 0. , 0. , 0. , 0. , 0. , 0. ],\n",
       "        [0. , 0. , 0. , 0. , 0. , 0. , 0. , 0. , 0. , 0. ],\n",
       "        [0. , 0. , 0. , 0. , 0. , 0. , 0. , 0. , 0. , 0. ]]])"
      ]
     },
     "execution_count": 50,
     "metadata": {},
     "output_type": "execute_result"
    }
   ],
   "source": [
    "#Resulting conditionnal pmf\n",
    "#Notice how a sparse dataset impacts the numerical pmf\n",
    "cond"
   ]
  },
  {
   "cell_type": "code",
   "execution_count": 51,
   "metadata": {},
   "outputs": [
    {
     "data": {
      "text/plain": [
       "0.5"
      ]
     },
     "execution_count": 51,
     "metadata": {},
     "output_type": "execute_result"
    }
   ],
   "source": [
    "cond[(4,1,2)]"
   ]
  },
  {
   "cell_type": "code",
   "execution_count": null,
   "metadata": {},
   "outputs": [],
   "source": []
  },
  {
   "cell_type": "code",
   "execution_count": null,
   "metadata": {},
   "outputs": [],
   "source": []
  },
  {
   "cell_type": "code",
   "execution_count": 52,
   "metadata": {},
   "outputs": [],
   "source": [
    "def formatHistory(sysData):\n",
    "    ###\n",
    "    #Translate a history in (x,u) form to (X,Y) form (this means formatting Y_{k-1}:=(x_{k-1},u_k))\n",
    "    data = [] #Initialize resulting data\n",
    "    for hist in sysData: #For each (x,u) trajectory\n",
    "        x = hist[0] #States\n",
    "        u = hist[1] #Inputs\n",
    "        L = len(x)-1 #Amount of data points (one less than the full length of the history)\n",
    "        newX = [0]*L #X\n",
    "        newY = [0]*L #Y\n",
    "        for i in range(L): #For each point\n",
    "            newX[i] = x[i+1] #Simply X_k = x_k\n",
    "            #The following lines are a safety: if we have 1D states or inputs, adding them will not concatenate the list but create a false value\n",
    "            if isinstance(x[i], int): #If x_{k-1} is a 1D int, we turn it into a list\n",
    "                newY[i] = [x[i]]\n",
    "            else:\n",
    "                newY[i] = x[i] #Else we use it as is\n",
    "            if isinstance(u[i+1], int): #Same for u_k\n",
    "                newY[i] = newY[i] + [u[i+1]]\n",
    "            else:\n",
    "                newY[i] = newY[i] + u[i+1]\n",
    "        data = data + [newX, newY] #We add the trajectory to the data\n",
    "    return(np.array(data)) #Returning a numpy array"
   ]
  },
  {
   "cell_type": "code",
   "execution_count": 53,
   "metadata": {},
   "outputs": [
    {
     "data": {
      "text/plain": [
       "array([[2, 3, 4, 5],\n",
       "       [list([1, 4]), list([2, 3]), list([3, 2]), list([4, 1])]],\n",
       "      dtype=object)"
      ]
     },
     "execution_count": 53,
     "metadata": {},
     "output_type": "execute_result"
    }
   ],
   "source": [
    "#Small use case example\n",
    "x = [1,2,3,4,5]\n",
    "u = [5,4,3,2,1]\n",
    "\n",
    "H = [x,u]\n",
    "data = [H]\n",
    "\n",
    "formatHistory(data)"
   ]
  },
  {
   "cell_type": "code",
   "execution_count": null,
   "metadata": {},
   "outputs": [],
   "source": []
  }
 ],
 "metadata": {
  "kernelspec": {
   "display_name": "Python 3",
   "language": "python",
   "name": "python3"
  },
  "language_info": {
   "codemirror_mode": {
    "name": "ipython",
    "version": 3
   },
   "file_extension": ".py",
   "mimetype": "text/x-python",
   "name": "python",
   "nbconvert_exporter": "python",
   "pygments_lexer": "ipython3",
   "version": "3.8.2"
  }
 },
 "nbformat": 4,
 "nbformat_minor": 4
}
