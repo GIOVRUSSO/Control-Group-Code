{
 "cells": [
  {
   "cell_type": "code",
   "execution_count": 2,
   "metadata": {},
   "outputs": [],
   "source": [
    "import numpy as np\n",
    "\n",
    "file_name1 = 'teleoperation_data/log_position_20241010_180115.npy'\n",
    "file_name2 = 'teleoperation_data/log_position_20241010_181102.npy'\n",
    "file_name3 = 'teleoperation_data/log_position_20241010_183137.npy'\n",
    "file_name4 = 'teleoperation_data/log_position_20241010_183313.npy'\n",
    "file_name5 = 'teleoperation_data/log_position_20241010_183609.npy'\n",
    "file_name6 = 'teleoperation_data/log_position_20241010_183802.npy'\n",
    "file_name7 = 'teleoperation_data/log_position_20241010_184033.npy'\n",
    "file_name8 = 'teleoperation_data/log_position_20241010_184255.npy'\n",
    "file_name9 = 'teleoperation_data/log_position_20241010_184447.npy'\n",
    "file_name10 = 'teleoperation_data/log_position_20241010_184640.npy'\n",
    "\n",
    "path1 = np.load(file_name1)\n",
    "path2 = np.load(file_name2)\n",
    "path3 = np.load(file_name3)\n",
    "path4 = np.load(file_name4)\n",
    "path5 = np.load(file_name5)\n",
    "path6 = np.load(file_name6)\n",
    "path7 = np.load(file_name7)\n",
    "path8 = np.load(file_name8)\n",
    "path9 = np.load(file_name9)\n",
    "path10 = np.load(file_name10)\n",
    "\n",
    "combined_paths = np.vstack((path1, path2, path3, path4, path5, path6, path7, path8, path9, path10))\n",
    "\n",
    "np.save('teleoperation_data.npy', combined_paths)\n",
    "\n",
    "\n",
    "\n"
   ]
  }
 ],
 "metadata": {
  "kernelspec": {
   "display_name": "Python 3",
   "language": "python",
   "name": "python3"
  },
  "language_info": {
   "codemirror_mode": {
    "name": "ipython",
    "version": 3
   },
   "file_extension": ".py",
   "mimetype": "text/x-python",
   "name": "python",
   "nbconvert_exporter": "python",
   "pygments_lexer": "ipython3",
   "version": "3.8.10"
  }
 },
 "nbformat": 4,
 "nbformat_minor": 2
}
