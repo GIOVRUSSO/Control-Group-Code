{
 "cells": [
  {
   "cell_type": "code",
   "execution_count": 1,
   "metadata": {},
   "outputs": [],
   "source": [
    "import numpy as np\n",
    "import random"
   ]
  },
  {
   "cell_type": "code",
   "execution_count": 2,
   "metadata": {},
   "outputs": [],
   "source": [
    "total_cars = 30\n",
    "n_agents = 1 #the real car of which we track the GPS coordinates\n",
    "\n",
    "starts = ['906615580#0']*30  #uncontrolled cars starting edge\n",
    "finishes = ['-906615585']*30 #uncontrolled cars ending edge\n",
    "goals = [1]*30 \n",
    "\n",
    "agents_file = r\"unisa_net/unisa_agents.npy\"\n",
    "foes_file = r\"unisa_net/unisa_foes.npy\""
   ]
  },
  {
   "cell_type": "code",
   "execution_count": 3,
   "metadata": {},
   "outputs": [],
   "source": [
    "n_simulations = 1"
   ]
  },
  {
   "cell_type": "code",
   "execution_count": 4,
   "metadata": {},
   "outputs": [],
   "source": [
    "def simFiles(n_agents): #n_agents controlled cars\n",
    "\n",
    "    departs = [5*i for i in range(total_cars)] \n",
    "    \n",
    "    #Shuffle indexes\n",
    "    inds = list(range(total_cars))\n",
    "    random.shuffle(inds)\n",
    "    inds2 = list(range(total_cars))\n",
    "    random.shuffle(inds2)\n",
    "    \n",
    "    sStarts = [starts[i] for i in inds] #Applying the shuffle\n",
    "    sFinishes = [finishes[i] for i in inds]\n",
    "    sGoals = [goals[i] for i in inds]\n",
    "\n",
    "    sDeparts = [departs[i] for i in inds2]\n",
    "\n",
    "    nControlled = n_agents\n",
    "    indC = random.sample(range(total_cars),nControlled) #Sampled which agents are controlled\n",
    "\n",
    "    agSt = []\n",
    "    agDep = []\n",
    "    agGoals = []\n",
    "    foeSt = []\n",
    "    foeDep = []\n",
    "    foeFin = []\n",
    "\n",
    "    for i in range(total_cars):\n",
    "        if i in indC:\n",
    "            agSt.append(sStarts[i])\n",
    "            agDep.append(sDeparts[i])\n",
    "            agGoals.append(sGoals[i])\n",
    "        else:\n",
    "            foeSt.append(sStarts[i])\n",
    "            foeDep.append(sDeparts[i])\n",
    "            foeFin.append(sFinishes[i])\n",
    "        \n",
    "    np.save(agents_file,np.array([agSt,agDep,agGoals]))\n",
    "    np.save(foes_file,np.array([foeSt,foeDep,foeFin]))"
   ]
  },
  {
   "cell_type": "code",
   "execution_count": null,
   "metadata": {},
   "outputs": [],
   "source": [
    "import os\n",
    "for i in range(n_simulations): \n",
    "    simFiles(n_agents)\n",
    "    os.system('python3 demo_crowds.py '+str(i))\n",
    "    #os.system('python3 demo_crowds.py '+str(i) + ' --nogui')"
   ]
  },
  {
   "cell_type": "code",
   "execution_count": null,
   "metadata": {},
   "outputs": [],
   "source": []
  },
  {
   "cell_type": "code",
   "execution_count": null,
   "metadata": {},
   "outputs": [],
   "source": []
  }
 ],
 "metadata": {
  "kernelspec": {
   "display_name": "Python 3",
   "language": "python",
   "name": "python3"
  },
  "language_info": {
   "codemirror_mode": {
    "name": "ipython",
    "version": 3
   },
   "file_extension": ".py",
   "mimetype": "text/x-python",
   "name": "python",
   "nbconvert_exporter": "python",
   "pygments_lexer": "ipython3",
   "version": "3.6.9"
  }
 },
 "nbformat": 4,
 "nbformat_minor": 4
}