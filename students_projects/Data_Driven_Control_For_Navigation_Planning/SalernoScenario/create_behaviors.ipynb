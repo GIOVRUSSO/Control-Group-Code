{
 "cells": [
  {
   "cell_type": "code",
   "execution_count": null,
   "metadata": {},
   "outputs": [],
   "source": [
    "import numpy as np\n",
    "import traci\n",
    "import os\n",
    "import sys\n",
    "import sumolib\n",
    "from sumolib.net import readNet\n",
    "from utility import getEdgeIndex\n",
    "from utility import valid_neighbors"
   ]
  },
  {
   "cell_type": "code",
   "execution_count": null,
   "metadata": {},
   "outputs": [],
   "source": [
    "# SALERNO NET ------------\n",
    "net_name = r\"salerno_net/osmcars.net.xml\"\n",
    "sumocfg_name = r\"salerno_net/osm.copy.sumocfg\"\n",
    "behaviors_name = r\"salerno_net/salerno_behaviors.npy\"\n",
    "#targets are parking spaces\n",
    "targets = ['672732730', '-672732731','-672732728', '401420254#0','-565381618#0', '401420254#4', '-1001198066',\n",
    "          '744932253', '670934106', '670934108', '160821659#2', '671983008', '92961457#3', '92961457#4', \n",
    "          '92961462', '672273418#3', '673737658#3', '673737658#6', '-565381618#0', '163563222', 'E5', 'E6'] \n"
   ]
  },
  {
   "cell_type": "code",
   "execution_count": null,
   "metadata": {},
   "outputs": [],
   "source": [
    "if 'SUMO_HOME' in os.environ:\n",
    "    tools = os.path.join(os.environ['SUMO_HOME'], 'tools')\n",
    "    sys.path.append(tools)\n",
    "else:\n",
    "    sys.exit(\"please declare environment variable 'SUMO_HOME'\")\n",
    "\n",
    "#Choose between these lines for GUI or not\n",
    "#sumoBinary = sumolib.checkBinary('sumo-gui')\n",
    "sumoBinary = sumolib.checkBinary('sumo')\n",
    "\n",
    "sumoCmd = [sumoBinary, \"-c\", sumocfg_name,\"--step-length\",\"0.05\"] #The last parameter is the step size, has to be small\n",
    "traci.start(sumoCmd)\n",
    "print(\"Starting SUMO...\")\n",
    "    \n",
    "net = readNet(net_name) #read road network\n",
    "edge_list = net.getEdges()\n",
    "\n",
    "#Dictionary of list IDs\n",
    "edge_dict = {}\n",
    "\n",
    "for i in range(len(edge_list)):\n",
    "    edge_dict[i] = edge_list[i].getID()\n",
    "\n",
    "behaviors = np.zeros((len(targets), len(edge_list), len(edge_list)))\n",
    "\n",
    "i=0\n",
    "for t in targets:\n",
    "    pmfs = np.zeros((len(edge_list), len(edge_list)))\n",
    "    for e in edge_list: \n",
    "        \n",
    "        route = traci.simulation.findRoute(e.getID(), t).edges\n",
    "        \n",
    "        pmf = [0]*((len(edge_list)))\n",
    "        \n",
    "        if len(route) ==0 : # edges are not connected \n",
    "            for x in range(len(pmf)):\n",
    "                pmf[x] = 0\n",
    "        \n",
    "        elif(len(route) == 1):\n",
    "            e_prime = e.getID()\n",
    "            \n",
    "            pmf[getEdgeIndex(e_prime, edge_dict)] = 0.95  \n",
    "            valid_edges = valid_neighbors(getEdgeIndex(e.getID(), edge_dict), edge_dict, net)\n",
    "                \n",
    "            for v in valid_edges:\n",
    "                if(v!= getEdgeIndex(e_prime, edge_dict)):\n",
    "                    pmf[v] = (1-prob) / len(valid_edges)\n",
    "        else:\n",
    "               \n",
    "            e_prime = route[1] # e' is the edge just after e \n",
    "\n",
    "            prob = 0.95 \n",
    "            pmf[getEdgeIndex(e_prime, edge_dict)] = prob\n",
    "\n",
    "            valid_edges = valid_neighbors(getEdgeIndex(e.getID(), edge_dict), edge_dict, net)\n",
    "\n",
    "            for v in valid_edges:\n",
    "                if(v!= getEdgeIndex(e_prime, edge_dict)):\n",
    "                    pmf[v] = (1-prob) / len(valid_edges)\n",
    "            \n",
    "\n",
    "        pmf = np.array(pmf)\n",
    "                \n",
    "        if np.sum(pmf) !=0:\n",
    "            pmf = pmf/np.sum(pmf)\n",
    "                \n",
    "        pmfs[getEdgeIndex(e.getID(), edge_dict)] = pmf\n",
    "        \n",
    "    behaviors[i] = pmfs\n",
    "\n",
    "\n",
    "    i+=1\n",
    "print(\"Behaviors generated!\")\n"
   ]
  },
  {
   "cell_type": "code",
   "execution_count": null,
   "metadata": {},
   "outputs": [],
   "source": [
    "traci.close()"
   ]
  },
  {
   "cell_type": "code",
   "execution_count": null,
   "metadata": {},
   "outputs": [],
   "source": [
    "np.save(behaviors_name, behaviors)"
   ]
  }
 ],
 "metadata": {
  "kernelspec": {
   "display_name": "Python 3",
   "language": "python",
   "name": "python3"
  },
  "language_info": {
   "codemirror_mode": {
    "name": "ipython",
    "version": 3
   },
   "file_extension": ".py",
   "mimetype": "text/x-python",
   "name": "python",
   "nbconvert_exporter": "python",
   "pygments_lexer": "ipython3",
   "version": "3.6.9"
  }
 },
 "nbformat": 4,
 "nbformat_minor": 4
}