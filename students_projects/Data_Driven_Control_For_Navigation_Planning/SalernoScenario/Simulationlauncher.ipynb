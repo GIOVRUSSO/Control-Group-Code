{
 "cells": [
  {
   "cell_type": "code",
   "execution_count": null,
   "metadata": {},
   "outputs": [],
   "source": [
    "import numpy as np\n",
    "import random"
   ]
  },
  {
   "cell_type": "code",
   "execution_count": null,
   "metadata": {},
   "outputs": [],
   "source": [
    "# SALERNO\n",
    "total_cars = 200\n",
    "n_agents = 200\n",
    "#Configuration of starting edges and ending edges. For controlled cars it is necessary to define a starting edge and the goal that corresponds to a parking space.\n",
    "starts =  ['-671188879#1']*100  + ['50695151#0']*100\n",
    "finishes = ['160821659#2']*100 + ['401420254#4']*100 #Uncontrolled cars have a starting edge and ending edge. The route is established by traci.simulation.findroute\n",
    "goals = [5]*100 + [11]*60 + [18]*40\n",
    "\n",
    "agents_file = r\"salerno_net/salerno_agents.npy\"\n",
    "foes_file = r\"salerno_net/salerno_foes.npy\""
   ]
  },
  {
   "cell_type": "code",
   "execution_count": null,
   "metadata": {},
   "outputs": [],
   "source": [
    "n_simulations = 10 #repeat simulations in order to have mean and std"
   ]
  },
  {
   "cell_type": "code",
   "execution_count": null,
   "metadata": {},
   "outputs": [],
   "source": [
    "def simFiles(n_agents): #n_agents controlled cars\n",
    "\n",
    "    departs = [5*i for i in range(total_cars)] #choose how often cars are spawned into the map\n",
    "    \n",
    "    #Shuffle indexes\n",
    "    inds = list(range(total_cars))\n",
    "    random.shuffle(inds)\n",
    "    inds2 = list(range(total_cars))\n",
    "    random.shuffle(inds2)\n",
    "    \n",
    "    sStarts = [starts[i] for i in inds] #Applying the shuffle to have different orders at each simulation\n",
    "    sFinishes = [finishes[i] for i in inds]\n",
    "    sGoals = [goals[i] for i in inds]\n",
    "\n",
    "    sDeparts = [departs[i] for i in inds2]\n",
    "\n",
    "    nControlled = n_agents\n",
    "    indC = random.sample(range(total_cars),nControlled) #Sampled which agents are controlled\n",
    "\n",
    "    agSt = []\n",
    "    agDep = []\n",
    "    agGoals = []\n",
    "    foeSt = []\n",
    "    foeDep = []\n",
    "    foeFin = []\n",
    "\n",
    "    for i in range(total_cars):\n",
    "        if i in indC:\n",
    "            agSt.append(sStarts[i])\n",
    "            agDep.append(sDeparts[i])\n",
    "            agGoals.append(sGoals[i])\n",
    "        else:\n",
    "            foeSt.append(sStarts[i])\n",
    "            foeDep.append(sDeparts[i])\n",
    "            foeFin.append(sFinishes[i])\n",
    "        \n",
    "    np.save(agents_file,np.array([agSt,agDep,agGoals]))\n",
    "    np.save(foes_file,np.array([foeSt,foeDep,foeFin]))\n",
    "    print(\"Saved\")"
   ]
  },
  {
   "cell_type": "code",
   "execution_count": null,
   "metadata": {},
   "outputs": [],
   "source": [
    "import os\n",
    "for i in range(n_simulations): \n",
    "    simFiles(n_agents)\n",
    "    #os.system('python3 demo_crowds.py '+str(i))\n",
    "    os.system('python3 demo_crowds.py '+str(i) + ' --nogui') "
   ]
  },
  {
   "cell_type": "code",
   "execution_count": null,
   "metadata": {},
   "outputs": [],
   "source": []
  }
 ],
 "metadata": {
  "kernelspec": {
   "display_name": "Python 3",
   "language": "python",
   "name": "python3"
  },
  "language_info": {
   "codemirror_mode": {
    "name": "ipython",
    "version": 3
   },
   "file_extension": ".py",
   "mimetype": "text/x-python",
   "name": "python",
   "nbconvert_exporter": "python",
   "pygments_lexer": "ipython3",
   "version": "3.6.9"
  }
 },
 "nbformat": 4,
 "nbformat_minor": 4
}