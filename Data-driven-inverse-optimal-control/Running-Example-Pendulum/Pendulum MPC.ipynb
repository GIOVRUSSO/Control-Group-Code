{
 "cells": [
  {
   "cell_type": "code",
   "execution_count": 1,
   "metadata": {},
   "outputs": [],
   "source": [
    "import numpy as np"
   ]
  },
  {
   "cell_type": "code",
   "execution_count": null,
   "metadata": {},
   "outputs": [],
   "source": [
    "def discretize(Z, Zdim, Zmin, Zstep):\n",
    "    ###\n",
    "    #Discretize a variable Z using its dimension Zdim, its minimal values along each axis and the discretization steps\n",
    "    res = [0]*Zdim #n-dimensional index\n",
    "    for i in range(Zdim): #For each dimension\n",
    "        elt = Z[i] #Extract the i-th element\n",
    "        ind = int((elt - Zmin[i])//Zstep[i]) #Discretize\n",
    "        res[i] = ind\n",
    "    return(tuple(res)) #Return as tuple for array indexing"
   ]
  },
  {
   "cell_type": "code",
   "execution_count": null,
   "metadata": {},
   "outputs": [],
   "source": [
    "class Pendulum():\n",
    "    def __init__(self):\n",
    "        self.l = 0.6\n",
    "        self.m = 0.5\n",
    "        self.max_torque = 10\n",
    "        self.max_speed = 8\n",
    "        self.state = np.array([0,0])\n",
    "        self.last_input = None\n",
    "        self.g = 9.81\n",
    "        self.dt = 0.1\n",
    "        self.angle_std = 3*2*np.pi/360\n",
    "        self.speed_std = 0.1\n",
    "        \n",
    "    def random_init(self):\n",
    "        self.state = np.array([np.random.uniform(-np.pi, np.pi),np.random.uniform(-sefl.max_speed, self.max_speed)])\n",
    "        \n",
    "    def step(self, u):\n",
    "        u = np.clip(u, -self.max_torque, self.max_torque)\n",
    "        self.last_input = u\n",
    "        accel = u/(self.m*self.l*self.l) + self.g*np.sin(self.state[0])/self.l\n",
    "        #print(\"Pr p: \" + str(self.state[0]))\n",
    "        speed = self.state[1]\n",
    "        angle = self.state[0]\n",
    "        \n",
    "        new_speed = speed + accel*self.dt + np.random.normal(0,self.speed_std)\n",
    "        new_speed = np.clip(new_speed, -self.max_speed, self.max_speed)\n",
    "        \n",
    "        new_angle = angle + new_speed*self.dt + np.random.normal(0,self.angle_std)\n",
    "        if new_angle < -np.pi:\n",
    "            new_angle = new_angle + 2*np.pi\n",
    "        if new_angle > np.pi:\n",
    "            new_angle = new_angle - 2*np.pi\n",
    "        \n",
    "        self.state = np.array([new_angle, new_speed])\n",
    "        \n",
    "    def set_state(self, angle, speed):\n",
    "        speed = np.clip(speed, -self.max_speed, self.max_speed)\n",
    "        if angle < -np.pi:\n",
    "            angle = angle + 2*np.pi\n",
    "        if angle > np.pi:\n",
    "            angle = angle - 2*np.pi\n",
    "        self.state = np.array([angle, speed])\n",
    "\n",
    "        \n",
    "P = Pendulum()"
   ]
  },
  {
   "cell_type": "code",
   "execution_count": 2,
   "metadata": {},
   "outputs": [
    {
     "ename": "ModuleNotFoundError",
     "evalue": "No module named 'casadi'",
     "output_type": "error",
     "traceback": [
      "\u001b[1;31m---------------------------------------------------------------------------\u001b[0m",
      "\u001b[1;31mModuleNotFoundError\u001b[0m                       Traceback (most recent call last)",
      "\u001b[1;32md:\\Network Security\\KL Control\\Decision-making\\Pendulum MPC.ipynb Cell 4\u001b[0m in \u001b[0;36m<cell line: 3>\u001b[1;34m()\u001b[0m\n\u001b[0;32m      <a href='vscode-notebook-cell:/d%3A/Network%20Security/KL%20Control/Decision-making/Pendulum%20MPC.ipynb#W3sZmlsZQ%3D%3D?line=0'>1</a>\u001b[0m \u001b[39mimport\u001b[39;00m \u001b[39mnumpy\u001b[39;00m \u001b[39mas\u001b[39;00m \u001b[39mnp\u001b[39;00m\n\u001b[0;32m      <a href='vscode-notebook-cell:/d%3A/Network%20Security/KL%20Control/Decision-making/Pendulum%20MPC.ipynb#W3sZmlsZQ%3D%3D?line=1'>2</a>\u001b[0m \u001b[39mimport\u001b[39;00m \u001b[39msys\u001b[39;00m\n\u001b[1;32m----> <a href='vscode-notebook-cell:/d%3A/Network%20Security/KL%20Control/Decision-making/Pendulum%20MPC.ipynb#W3sZmlsZQ%3D%3D?line=2'>3</a>\u001b[0m \u001b[39mfrom\u001b[39;00m \u001b[39mcasadi\u001b[39;00m \u001b[39mimport\u001b[39;00m \u001b[39m*\u001b[39m\n\u001b[0;32m      <a href='vscode-notebook-cell:/d%3A/Network%20Security/KL%20Control/Decision-making/Pendulum%20MPC.ipynb#W3sZmlsZQ%3D%3D?line=3'>4</a>\u001b[0m \u001b[39mimport\u001b[39;00m \u001b[39mdo_mpc\u001b[39;00m\n\u001b[0;32m      <a href='vscode-notebook-cell:/d%3A/Network%20Security/KL%20Control/Decision-making/Pendulum%20MPC.ipynb#W3sZmlsZQ%3D%3D?line=6'>7</a>\u001b[0m model_type \u001b[39m=\u001b[39m \u001b[39m'\u001b[39m\u001b[39mcontinuous\u001b[39m\u001b[39m'\u001b[39m \u001b[39m# either 'discrete' or 'continuous'\u001b[39;00m\n",
      "\u001b[1;31mModuleNotFoundError\u001b[0m: No module named 'casadi'"
     ]
    }
   ],
   "source": [
    "import numpy as np\n",
    "import sys\n",
    "from casadi import *\n",
    "import do_mpc\n",
    "\n",
    "\n",
    "model_type = 'continuous' # either 'discrete' or 'continuous'\n",
    "model = do_mpc.model.Model(model_type)"
   ]
  },
  {
   "cell_type": "code",
   "execution_count": null,
   "metadata": {},
   "outputs": [],
   "source": [
    "theta = model.set_variable(var_type='_x', var_name='theta', shape=(1,1))\n",
    "dtheta = model.set_variable(var_type='_x', var_name='dtheta', shape=(1,1))\n",
    "\n",
    "u = model.set_variable(var_type='_u', var_name='u', shape=(1,1))"
   ]
  },
  {
   "cell_type": "code",
   "execution_count": null,
   "metadata": {},
   "outputs": [],
   "source": [
    "m = P.m\n",
    "l = P.l\n",
    "\n",
    "g = P.g"
   ]
  },
  {
   "cell_type": "code",
   "execution_count": null,
   "metadata": {},
   "outputs": [],
   "source": [
    "model.set_rhs('theta',dtheta)\n",
    "model.set_rhs('dtheta', g*sin(theta)/l + u/(m*l*l))"
   ]
  },
  {
   "cell_type": "code",
   "execution_count": null,
   "metadata": {},
   "outputs": [],
   "source": [
    "model.setup()"
   ]
  },
  {
   "cell_type": "code",
   "execution_count": null,
   "metadata": {},
   "outputs": [],
   "source": [
    "mpc = do_mpc.controller.MPC(model)"
   ]
  },
  {
   "cell_type": "code",
   "execution_count": null,
   "metadata": {},
   "outputs": [],
   "source": [
    "setup_mpc = {\n",
    "    'n_horizon': 20,\n",
    "    't_step': P.dt,\n",
    "    'n_robust': 0,\n",
    "    'store_full_solution': True,\n",
    "}\n",
    "mpc.set_param(**setup_mpc)"
   ]
  },
  {
   "cell_type": "code",
   "execution_count": null,
   "metadata": {},
   "outputs": [],
   "source": [
    "l_term = theta*theta + 0.1*dtheta*dtheta\n",
    "m_term = theta*theta + 0.5*dtheta*dtheta\n",
    "mpc.set_objective(mterm=m_term, lterm=l_term)"
   ]
  },
  {
   "cell_type": "code",
   "execution_count": null,
   "metadata": {},
   "outputs": [],
   "source": [
    "mpc.bounds['lower','_u', 'u'] = -2\n",
    "mpc.bounds['upper','_u', 'u'] = 2"
   ]
  },
  {
   "cell_type": "code",
   "execution_count": null,
   "metadata": {},
   "outputs": [],
   "source": [
    "mpc.setup()"
   ]
  },
  {
   "cell_type": "code",
   "execution_count": null,
   "metadata": {},
   "outputs": [],
   "source": [
    "x0 = np.array([np.pi, 0]).reshape(-1,1)\n",
    "mpc.x0 = x0"
   ]
  },
  {
   "cell_type": "code",
   "execution_count": null,
   "metadata": {},
   "outputs": [],
   "source": [
    "mpc.set_initial_guess()"
   ]
  },
  {
   "cell_type": "code",
   "execution_count": null,
   "metadata": {},
   "outputs": [],
   "source": [
    "#Checking that everything is fine by performing a test step\n",
    "u0 = mpc.make_step(x0)"
   ]
  },
  {
   "cell_type": "code",
   "execution_count": null,
   "metadata": {},
   "outputs": [],
   "source": []
  },
  {
   "cell_type": "code",
   "execution_count": null,
   "metadata": {},
   "outputs": [],
   "source": [
    "mpc.reset_history()"
   ]
  },
  {
   "cell_type": "code",
   "execution_count": null,
   "metadata": {},
   "outputs": [],
   "source": []
  },
  {
   "cell_type": "code",
   "execution_count": null,
   "metadata": {},
   "outputs": [],
   "source": [
    "%%capture\n",
    "\n",
    "nSteps = 300\n",
    "hist = [[0,0]]*nSteps\n",
    "uhist = [0]*nSteps\n",
    "\n",
    "P = Pendulum()\n",
    "P.set_state(np.pi,0)\n",
    "for i in range(nSteps-1):\n",
    "    state = P.state\n",
    "    x0 = state.reshape(-1,1)\n",
    "    u0 = mpc.make_step(x0)\n",
    "    u = u0[0][0] + np.random.normal(0,0.2)\n",
    "    P.step(u)\n",
    "    hist[i+1] = state\n",
    "    uhist[i] = u"
   ]
  },
  {
   "cell_type": "code",
   "execution_count": null,
   "metadata": {},
   "outputs": [],
   "source": [
    "import matplotlib.pyplot as plt\n",
    "#On the x axis: time step (each step being 0.1s, the experiment lasts 30s)\n",
    "plt.plot(hist[1:])"
   ]
  },
  {
   "cell_type": "code",
   "execution_count": null,
   "metadata": {},
   "outputs": [],
   "source": [
    "plt.plot([x[0] for x in hist[1:]])\n",
    "#Separate plot of the angular position"
   ]
  },
  {
   "cell_type": "code",
   "execution_count": null,
   "metadata": {},
   "outputs": [],
   "source": []
  },
  {
   "cell_type": "code",
   "execution_count": null,
   "metadata": {},
   "outputs": [],
   "source": [
    "#The following cells perform 10 simulations and plot the average history with the shaded area representing the std"
   ]
  },
  {
   "cell_type": "code",
   "execution_count": null,
   "metadata": {
    "scrolled": false
   },
   "outputs": [],
   "source": [
    "nSims = 10\n",
    "fullH = np.zeros((nSims,299))\n",
    "uH = np.zeros((nSims,299))\n",
    "nSteps = 300\n",
    "\n",
    "for j in range(nSims):\n",
    "    if j%10==0:\n",
    "        print(j)\n",
    "    hist = [[0,0]]*nSteps\n",
    "    uhist = [0]*nSteps\n",
    "\n",
    "    P = Pendulum()\n",
    "    P.set_state(np.pi,0)\n",
    "    mpc.reset_history()\n",
    "    for i in range(nSteps-1):\n",
    "        state = P.state\n",
    "        x0 = state.reshape(-1,1)\n",
    "        u0 = mpc.make_step(x0)\n",
    "        u = u0[0][0] + np.random.normal(0,0.2)\n",
    "        u = u - ((-2.5+u)%0.25)\n",
    "        P.step(u)\n",
    "        hist[i+1] = state\n",
    "        uhist[i] = u\n",
    "    fullH[j] = [x[0] for x in hist[1:]]\n",
    "    uH[j] = uhist[:299]"
   ]
  },
  {
   "cell_type": "code",
   "execution_count": null,
   "metadata": {},
   "outputs": [],
   "source": []
  },
  {
   "cell_type": "code",
   "execution_count": null,
   "metadata": {},
   "outputs": [],
   "source": []
  },
  {
   "cell_type": "code",
   "execution_count": null,
   "metadata": {},
   "outputs": [],
   "source": [
    "means = [0]*299\n",
    "stds = [0]*299\n",
    "for i in range(299):\n",
    "    means[i] = np.mean(fullH[:,i])\n",
    "    stds[i] = np.std(fullH[:,i])"
   ]
  },
  {
   "cell_type": "code",
   "execution_count": null,
   "metadata": {},
   "outputs": [],
   "source": [
    "from matplotlib import pyplot as plt\n",
    "from pylab import rcParams\n",
    "plt.rcParams.update({'font.size': 18})\n",
    "\n",
    "x = np.array([x/10 for x in range(299)])\n",
    "y = np.array(means)\n",
    "ci = np.array(stds)\n",
    "\n",
    "fig, ax = plt.subplots()\n",
    "ax.plot(x,y)\n",
    "ax.fill_between(x, (y-ci), (y+ci), color='b', alpha=.1)\n",
    "#ax.set_title('FPD input')\n",
    "ax.set_xlabel('Time')\n",
    "ax.set_ylabel('Angular position')\n",
    "plt.savefig('mpc_angle_ci.png', bbox_inches = 'tight')"
   ]
  },
  {
   "cell_type": "code",
   "execution_count": null,
   "metadata": {},
   "outputs": [],
   "source": [
    "umeans = [0]*299\n",
    "ustds = [0]*299\n",
    "for i in range(299):\n",
    "    umeans[i] = np.mean(uH[:,i])\n",
    "    ustds[i] = np.std(uH[:,i])"
   ]
  },
  {
   "cell_type": "code",
   "execution_count": null,
   "metadata": {},
   "outputs": [],
   "source": [
    "from matplotlib import pyplot as plt\n",
    "\n",
    "x = np.array([x/10 for x in range(299)])\n",
    "y = np.array(umeans)\n",
    "ci = np.array(ustds)\n",
    "\n",
    "fig, ax = plt.subplots()\n",
    "ax.plot(x,y)\n",
    "ax.fill_between(x, (y-ci), (y+ci), color='b', alpha=.1)\n",
    "#ax.set_title('FPD input')\n",
    "ax.set_xlabel('Time')\n",
    "ax.set_ylabel('Control input')\n",
    "plt.savefig('mpc_input_ci.png', bbox_inches = 'tight')"
   ]
  },
  {
   "cell_type": "code",
   "execution_count": null,
   "metadata": {},
   "outputs": [],
   "source": []
  }
 ],
 "metadata": {
  "kernelspec": {
   "display_name": "Python 3.8.13 ('mbrl')",
   "language": "python",
   "name": "python3"
  },
  "language_info": {
   "codemirror_mode": {
    "name": "ipython",
    "version": 3
   },
   "file_extension": ".py",
   "mimetype": "text/x-python",
   "name": "python",
   "nbconvert_exporter": "python",
   "pygments_lexer": "ipython3",
   "version": "3.8.13"
  },
  "vscode": {
   "interpreter": {
    "hash": "e9a1ee8b2f2310f5a3657d2b553b2843d6654369724d8ae601e3557d41810e89"
   }
  }
 },
 "nbformat": 4,
 "nbformat_minor": 4
}
