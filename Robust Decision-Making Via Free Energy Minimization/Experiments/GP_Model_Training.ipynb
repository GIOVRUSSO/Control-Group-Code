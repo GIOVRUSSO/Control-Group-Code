{
 "cells": [
  {
   "cell_type": "code",
   "execution_count": 132,
   "metadata": {},
   "outputs": [],
   "source": [
    "import numpy as np\n",
    "import pickle\n",
    "import scipy.stats as st\n",
    "from scipy.optimize import minimize\n",
    "from sklearn.gaussian_process import GaussianProcessRegressor\n",
    "from sklearn.gaussian_process.kernels import RBF, ConstantKernel, WhiteKernel"
   ]
  },
  {
   "cell_type": "code",
   "execution_count": 135,
   "metadata": {},
   "outputs": [],
   "source": [
    "XX = np.load(r'D:\\Network Security\\KL Control\\robotarium_python_simulator\\rps\\State_Data_Nominal.npy',allow_pickle=True)\n",
    "UU = np.load(r'D:\\Network Security\\KL Control\\robotarium_python_simulator\\rps\\Input_Dataset_new.npy',allow_pickle=True)"
   ]
  },
  {
   "cell_type": "code",
   "execution_count": 134,
   "metadata": {},
   "outputs": [],
   "source": [
    "X = []\n",
    "X_plot = []\n",
    "\n",
    "X_Prev = []\n",
    "X_plot_Prev = []\n",
    "\n",
    "U = []\n",
    "U_plot = []\n",
    "\n",
    "for i in range(len(XX)):\n",
    "    X.append(np.array(XX[i]))\n",
    "    X_plot.append(np.array(XX[i]))\n",
    "\n",
    "X = np.concatenate(X, axis=0)\n",
    "X = np.reshape(X, (-1, 2))\n",
    "\n",
    "U = []\n",
    "for i in range(len(UU)):\n",
    "    U.append(np.array(UU[i]))\n",
    "    U_plot.append(np.array(UU[i]))\n",
    "\n",
    "U = np.concatenate(U, axis=0)\n",
    "U = np.reshape(U, (-1, 2))"
   ]
  },
  {
   "cell_type": "code",
   "execution_count": 131,
   "metadata": {},
   "outputs": [],
   "source": [
    "X1 = XX[0,:,:,:]\n",
    "X2 = XX[:2,:,:,:].reshape((-1,2))\n",
    "X3 = XX[:,:,:,:].reshape((-1,2))\n",
    "\n",
    "U1 = UU[0,:,:,:]\n",
    "U2 = UU[:2,:,:,:].reshape((-1,2))\n",
    "U3 = UU[:,:,:,:].reshape((-1,2))"
   ]
  },
  {
   "cell_type": "code",
   "execution_count": 169,
   "metadata": {},
   "outputs": [],
   "source": [
    "# Dataset 1\n",
    "X1 = np.hstack((XX[0,:-1])).reshape(-1,2)\n",
    "U1 = np.hstack((UU[0,:])).reshape(-1,2)\n",
    "Train1 = np.hstack((X1,U1))\n",
    "Y1 = np.hstack((XX[0,1:])).reshape(-1,2)\n",
    "\n",
    "# Dataset 2\n",
    "X2 = np.hstack((XX[0,:-1],XX[1,:-1])).reshape(-1,2)\n",
    "U2 = np.hstack((UU[0,:],UU[1,:])).reshape(-1,2)\n",
    "Train2 = np.hstack((X2,U2))\n",
    "Y2 = np.hstack((XX[0,1:],XX[1,1:])).reshape(-1,2)\n",
    "\n",
    "# Dataset 3\n",
    "X3 = np.hstack((XX[0,:-1],XX[1,:-1],XX[2,:-1])).reshape(-1,2)\n",
    "U3 = np.hstack((UU[0,:],UU[1,:],UU[2,:])).reshape(-1,2)\n",
    "Train3 = np.hstack((X3,U3))\n",
    "Y3 = np.hstack((XX[0,1:],XX[1,1:],XX[2,1:])).reshape(-1,2)"
   ]
  },
  {
   "cell_type": "code",
   "execution_count": null,
   "metadata": {},
   "outputs": [],
   "source": [
    "# Define the GP model with RBF kernel\n",
    "# Define the kernel for the Gaussian Process\n",
    "kernel = ConstantKernel() * RBF(length_scale=[0.0,.0,.0,.0]) + WhiteKernel()\n",
    "gp = GaussianProcessRegressor(kernel=kernel, n_restarts_optimizer=10)\n",
    "\n",
    "# Train the GP model\n",
    "gp.fit(Train2, Y2)"
   ]
  },
  {
   "cell_type": "code",
   "execution_count": null,
   "metadata": {},
   "outputs": [],
   "source": [
    "X_train = np.hstack((X2[:-1,:],U2[:,:])).reshape((-1,4))\n",
    "Y_train = X2[1:,:].reshape((-1,2))\n",
    "\n",
    "# Define the GP model with RBF kernel\n",
    "# Define the kernel for the Gaussian Process\n",
    "kernel = ConstantKernel() * RBF(length_scale=[0.5,0.5,0.5,0.5]) + WhiteKernel()\n",
    "gp = GaussianProcessRegressor(kernel=kernel, n_restarts_optimizer=10)\n",
    "\n",
    "# Train the GP model\n",
    "gp.fit(X_train, Y_train)\n"
   ]
  },
  {
   "cell_type": "code",
   "execution_count": null,
   "metadata": {},
   "outputs": [],
   "source": [
    "gp.kernel_.get_params()"
   ]
  },
  {
   "cell_type": "code",
   "execution_count": 113,
   "metadata": {},
   "outputs": [],
   "source": [
    "with open(\"GP_nominal_2.dump\",\"wb\") as f:\n",
    "    pickle.dump(gp, f)"
   ]
  }
 ],
 "metadata": {
  "kernelspec": {
   "display_name": "mbrl",
   "language": "python",
   "name": "python3"
  },
  "language_info": {
   "codemirror_mode": {
    "name": "ipython",
    "version": 3
   },
   "file_extension": ".py",
   "mimetype": "text/x-python",
   "name": "python",
   "nbconvert_exporter": "python",
   "pygments_lexer": "ipython3",
   "version": "3.8.13"
  }
 },
 "nbformat": 4,
 "nbformat_minor": 2
}
