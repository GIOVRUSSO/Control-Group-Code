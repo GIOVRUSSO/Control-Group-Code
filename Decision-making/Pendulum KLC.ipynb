{
 "cells": [
  {
   "cell_type": "code",
   "execution_count": 1,
   "metadata": {},
   "outputs": [],
   "source": [
    "import numpy as np\n",
    "import matplotlib.pyplot as plt"
   ]
  },
  {
   "cell_type": "code",
   "execution_count": 2,
   "metadata": {},
   "outputs": [],
   "source": [
    "def discretize(Z, Zdim, Zmin, Zstep):\n",
    "    ###\n",
    "    #Discretize a variable Z using its dimension Zdim, its minimal values along each axis and the discretization steps\n",
    "    res = [0]*Zdim #n-dimensional index\n",
    "    for i in range(Zdim): #For each dimension\n",
    "        elt = Z[i] #Extract the i-th element\n",
    "        ind = int((elt - Zmin[i])//Zstep[i]) #Discretize\n",
    "        res[i] = ind\n",
    "    return(tuple(res)) #Return as tuple for array indexing"
   ]
  },
  {
   "cell_type": "code",
   "execution_count": 3,
   "metadata": {},
   "outputs": [],
   "source": [
    "class Pendulum():\n",
    "    def __init__(self):\n",
    "        self.l = 0.6\n",
    "        self.m = 1\n",
    "        self.max_torque = 10\n",
    "        self.max_speed = 5\n",
    "        self.state = np.array([0,0])\n",
    "        self.last_input = None\n",
    "        self.g = 9.81\n",
    "        self.dt = 0.1\n",
    "        self.angle_std = 3*2*np.pi/360\n",
    "        self.speed_std = 0.1\n",
    "        \n",
    "    def random_init(self):\n",
    "        ###\n",
    "        #Random initialization\n",
    "        self.state = np.array([np.random.uniform(-np.pi, np.pi),np.random.uniform(-sefl.max_speed, self.max_speed)])\n",
    "        \n",
    "    def step(self, u):\n",
    "        #Simulation step\n",
    "        u = np.clip(u, -self.max_torque, self.max_torque) #Clip the input as safety\n",
    "        self.last_input = u\n",
    "        accel = u/(self.m*self.l*self.l) + self.g*np.sin(self.state[0])/self.l #Dynamics for the acceleration\n",
    "        \n",
    "        speed = self.state[1]\n",
    "        angle = self.state[0]\n",
    "        \n",
    "        new_speed = speed + accel*self.dt + np.random.normal(0,self.speed_std) #Calculate the new speed\n",
    "        new_speed = np.clip(new_speed, -self.max_speed, self.max_speed) #Clip the speed as safety (in practice the bounds were chosen to ensure this very rarely happens)\n",
    "        \n",
    "        new_angle = angle + speed*self.dt + np.random.normal(0,self.angle_std) #New angle\n",
    "        if new_angle < -np.pi: #Angle is modulo 2\\pi\n",
    "            new_angle = new_angle + 2*np.pi\n",
    "        if new_angle > np.pi:\n",
    "            new_angle = new_angle - 2*np.pi\n",
    "        \n",
    "        self.state = np.array([new_angle, new_speed])\n",
    "        \n",
    "    def set_state(self, angle, speed):\n",
    "        ###\n",
    "        #Explicitely set the state\n",
    "        speed = np.clip(speed, -self.max_speed, self.max_speed)\n",
    "        if angle < -np.pi:\n",
    "            angle = angle + 2*np.pi\n",
    "        if angle > np.pi:\n",
    "            angle = angle - 2*np.pi\n",
    "        self.state = np.array([angle, speed])\n"
   ]
  },
  {
   "cell_type": "code",
   "execution_count": 4,
   "metadata": {},
   "outputs": [],
   "source": [
    "#Get the plant for later use\n",
    "plant_actual = np.load('plant_l06_m1.npy')"
   ]
  },
  {
   "cell_type": "code",
   "execution_count": 5,
   "metadata": {},
   "outputs": [],
   "source": [
    "def cost(state):\n",
    "    ###\n",
    "    #Cost function\n",
    "    return(state[0]*state[0] + state[1]*state[1]*0.1)"
   ]
  },
  {
   "cell_type": "code",
   "execution_count": 6,
   "metadata": {},
   "outputs": [],
   "source": [
    "#Structure of the vector: angle (-pi to pi) first then speed (-5 to 5)\n",
    "\n",
    "stateVect = np.zeros((2500,2))\n",
    "for i in range(50):\n",
    "    ###\n",
    "    #Enumerate the states from 1 to 2500. Here we explicitly build the enumeration to later build the Q matrix and for convenience\n",
    "    for j in range(50):\n",
    "        angle = -np.pi + (i+0.5)*(2*np.pi/50)\n",
    "        speed = -5 + (j+0.5)*0.2\n",
    "        ind = i*50 + j\n",
    "        stateVect[ind] = [angle, speed] #Simply store the state at its assigned index"
   ]
  },
  {
   "cell_type": "code",
   "execution_count": 7,
   "metadata": {},
   "outputs": [],
   "source": [
    "diagMinusQ = np.zeros((2500,2500))\n",
    "#Q matrix\n",
    "for i in range(2500):\n",
    "    #Build the diagonal matrix with the exponential of the opposite of the cost\n",
    "    diagMinusQ[i,i] = np.exp(-cost(stateVect[i]))"
   ]
  },
  {
   "cell_type": "code",
   "execution_count": 8,
   "metadata": {},
   "outputs": [],
   "source": [
    "def unravelPF(pf):\n",
    "    ###\n",
    "    #Utilitarian function to turn a 2D pf into a 1D, enumerated pf following the same idea as stateVect\n",
    "    res = np.zeros(2500)\n",
    "    for i in range(50):\n",
    "        for j in range(50):\n",
    "            res[i*50+j] = pf[i][j]\n",
    "    return(res)"
   ]
  },
  {
   "cell_type": "code",
   "execution_count": 9,
   "metadata": {},
   "outputs": [],
   "source": [
    "def powerMethod(mat, dim):\n",
    "    ###\n",
    "    #Power method to find for eigenvector determination\n",
    "    vect = np.ones(dim) #Initial guess\n",
    "    nrm = np.linalg.norm(vect) #Get the norm (we won't use this one but is is generally useful for building a stopping condition)\n",
    "    for _ in range(50): #Perform 50 iterations (our heuristic stopping conditions. Resulting norms converging (before normalization!) should be used if such a heuristic can't be found)\n",
    "        vect = mat.dot(vect) #Multiply the matrix and the vector\n",
    "        nrm = np.linalg.norm(vect) #Normalize the result\n",
    "        vect = vect/nrm\n",
    "    return(vect)"
   ]
  },
  {
   "cell_type": "code",
   "execution_count": 10,
   "metadata": {},
   "outputs": [],
   "source": [
    "Prob = np.zeros((2500, 2500)) #Initialize the probability matrix P\n",
    "u = discretize([0], 1, [-2.5], [0.25]) #Get the index corresponding to a zero input\n",
    "\n",
    "for i in range(50):\n",
    "    for j in range(50):\n",
    "        pf = plant_actual[i,j,u][0] #Get the pf\n",
    "        ind1 = i*50 + j\n",
    "        Prob[ind1] = unravelPF(pf) #Unravel and store it  "
   ]
  },
  {
   "cell_type": "code",
   "execution_count": 11,
   "metadata": {},
   "outputs": [],
   "source": [
    "z = powerMethod(diagMinusQ@Prob, 2500) #Get the z values by solving the eigenvector problem for the matrix QP"
   ]
  },
  {
   "cell_type": "code",
   "execution_count": 12,
   "metadata": {},
   "outputs": [],
   "source": [
    "def loop(x):\n",
    "    ###\n",
    "    #Control loop\n",
    "    ind = discretize(x,  2, [-np.pi, -5], [2*np.pi/50, 0.2]) #Discretize the state\n",
    "    pf = plant_actual[ind[0],ind[1],u][0] #Get the pf corresponding to the passive dynamics\n",
    "    pf_1D = unravelPF(pf) #Unravel it\n",
    "    pf_weighted = pf_1D*z #Calculate the actual transition pf using z and the passive dynamics\n",
    "    S = np.sum(pf_weighted) #Normalize\n",
    "    pf_weighted = pf_weighted/S\n",
    "    ind = np.random.choice(range(2500), p=pf_weighted) #Get the new (enumerated) state index using the calculated dynamics\n",
    "    newState = stateVect[ind] #Get the new state from the state vector\n",
    "    return(newState)"
   ]
  },
  {
   "cell_type": "code",
   "execution_count": null,
   "metadata": {},
   "outputs": [],
   "source": []
  },
  {
   "cell_type": "code",
   "execution_count": 13,
   "metadata": {},
   "outputs": [],
   "source": [
    "fullH = np.zeros((50,300))\n",
    "nSteps = 300\n",
    "\n",
    "for j in range(50): #Perform 50 simulations\n",
    "    hist = [[0,0]]*nSteps\n",
    "    \n",
    "    state = [np.pi, 0] #Initialize the pendulum\n",
    "    for i in range(nSteps): #For each step\n",
    "        hist[i]=state #Log the state\n",
    "        state = loop(state) #Sample the new state\n",
    "    fullH[j] = [x[0] for x in hist]"
   ]
  },
  {
   "cell_type": "code",
   "execution_count": 14,
   "metadata": {},
   "outputs": [],
   "source": [
    "means = [0]*300 #Get the means and stds for plotting\n",
    "stds = [0]*300\n",
    "for i in range(300):\n",
    "    means[i] = np.mean(fullH[:,i])\n",
    "    stds[i] = np.std(fullH[:,i])"
   ]
  },
  {
   "cell_type": "code",
   "execution_count": 15,
   "metadata": {},
   "outputs": [
    {
     "data": {
      "image/png": "[encoded data removed]",
      "text/plain": [
       "<Figure size 432x288 with 1 Axes>"
      ]
     },
     "metadata": {
      "needs_background": "light"
     },
     "output_type": "display_data"
    }
   ],
   "source": [
    "from matplotlib import pyplot as plt\n",
    "from pylab import rcParams\n",
    "plt.rcParams.update({'font.size': 18})\n",
    "\n",
    "x = np.array([x/10 for x in range(300)])\n",
    "y = np.array(means)\n",
    "ci = np.array(stds)\n",
    "\n",
    "fig, ax = plt.subplots()\n",
    "ax.plot(x,y)\n",
    "ax.fill_between(x, (y-ci), (y+ci), color='b', alpha=.1)\n",
    "\n",
    "ax.set_xlabel('Time')\n",
    "ax.set_ylabel('Angular position')\n",
    "plt.savefig('klc_angle_ci.png', bbox_inches = 'tight')"
   ]
  },
  {
   "cell_type": "code",
   "execution_count": null,
   "metadata": {},
   "outputs": [],
   "source": []
  }
 ],
 "metadata": {
  "kernelspec": {
   "display_name": "Python 3",
   "language": "python",
   "name": "python3"
  },
  "language_info": {
   "codemirror_mode": {
    "name": "ipython",
    "version": 3
   },
   "file_extension": ".py",
   "mimetype": "text/x-python",
   "name": "python",
   "nbconvert_exporter": "python",
   "pygments_lexer": "ipython3",
   "version": "3.8.10"
  }
 },
 "nbformat": 4,
 "nbformat_minor": 4
}
