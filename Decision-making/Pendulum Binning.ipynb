{
 "cells": [
  {
   "cell_type": "code",
   "execution_count": null,
   "metadata": {},
   "outputs": [],
   "source": [
    "import numpy as np"
   ]
  },
  {
   "cell_type": "code",
   "execution_count": null,
   "metadata": {},
   "outputs": [],
   "source": []
  },
  {
   "cell_type": "code",
   "execution_count": null,
   "metadata": {},
   "outputs": [],
   "source": [
    "class Pendulum():\n",
    "    def __init__(self):\n",
    "        ###\n",
    "        #Default parameter initialization\n",
    "        self.l = 0.6\n",
    "        self.m = 1\n",
    "        self.max_torque = 10\n",
    "        self.max_speed = 5\n",
    "        self.state = np.array([0,0])\n",
    "        self.last_input = None\n",
    "        self.g = 9.81\n",
    "        self.dt = 0.1\n",
    "        self.angle_std = 3*2*np.pi/360 #5*2*np.pi/360\n",
    "        self.speed_std = 0.1\n",
    "        \n",
    "    def random_init(self):\n",
    "        ###\n",
    "        #Randomize the state, useful for binning\n",
    "        self.state = np.array([np.random.uniform(-np.pi, np.pi),np.random.uniform(-self.max_speed, self.max_speed)])\n",
    "        \n",
    "    def step(self, u):\n",
    "        ###\n",
    "        #Simulation step given an output\n",
    "        u = np.clip(u, -self.max_torque, self.max_torque) #Clip the input\n",
    "        self.last_input = u\n",
    "        accel = u/(self.m*self.l*self.l) + self.g*np.sin(self.state[0])/self.l #Dynamics\n",
    "        \n",
    "        speed = self.state[1]\n",
    "        angle = self.state[0]\n",
    "        \n",
    "        new_speed = speed + accel*self.dt + np.random.normal(0,self.speed_std) #Update speed\n",
    "        new_speed = np.clip(new_speed, -self.max_speed, self.max_speed)\n",
    "        \n",
    "        new_angle = angle + speed*self.dt + np.random.normal(0,self.angle_std) #Update angle\n",
    "        if new_angle < -np.pi: #The angle is modulo 2\\pi\n",
    "            new_angle = new_angle + 2*np.pi\n",
    "        if new_angle > np.pi:\n",
    "            new_angle = new_angle - 2*np.pi\n",
    "        \n",
    "        self.state = np.array([new_angle, new_speed])\n",
    "        \n",
    "    def set_state(self, angle, speed):\n",
    "        ###\n",
    "        #Set the state, useful for some cases\n",
    "        speed = np.clip(speed, -self.max_speed, self.max_speed)\n",
    "        if angle < -np.pi:\n",
    "            angle = angle + 2*np.pi\n",
    "        if angle > np.pi:\n",
    "            angle = angle - 2*np.pi\n",
    "        self.state = np.array([angle, speed])\n"
   ]
  },
  {
   "cell_type": "code",
   "execution_count": null,
   "metadata": {},
   "outputs": [],
   "source": []
  },
  {
   "cell_type": "code",
   "execution_count": null,
   "metadata": {},
   "outputs": [],
   "source": [
    "def discretize(Z, Zdim, Zmin, Zstep):\n",
    "    ###\n",
    "    #Discretize a variable Z using its dimension Zdim, its minimal values along each axis and the discretization steps\n",
    "    res = [0]*Zdim #n-dimensional index\n",
    "    for i in range(Zdim): #For each dimension\n",
    "        elt = Z[i] #Extract the i-th element\n",
    "        ind = int((elt - Zmin[i])//Zstep[i]) #Discretize\n",
    "        res[i] = ind\n",
    "    return(tuple(res)) #Return as tuple for array indexing"
   ]
  },
  {
   "cell_type": "code",
   "execution_count": null,
   "metadata": {},
   "outputs": [],
   "source": [
    "def getJointPMFs(data, Zdim, Zmin, Zstep, Zdiscr, Ydim, Ymin, Ystep, Ydiscr):\n",
    "    ###\n",
    "    #Get the joint PMFs for Y and Z,Y using all the info on the variables (dim, mins, steps)\n",
    "    fullDiscr = Ydiscr + Zdiscr #List of the discretization steps (along each dimension) for both Z and Y\n",
    "    fullJoint = np.zeros(fullDiscr) #f(Z,Y)\n",
    "    Yjoint = np.zeros(Ydiscr) #f(Y)\n",
    "    for history in data: #For each trajectory in the dataset\n",
    "        Zhist = history[0] #Extract the histories for Z and Y\n",
    "        Yhist = history[1]\n",
    "        for i in range(len(Zhist)): #For each data point in the trajectory\n",
    "            Z = Zhist[i] #Extract the realization of Z and Y\n",
    "            Y = Yhist[i]\n",
    "            Zind = discretize(Z, Zdim, Zmin, Zstep) #Find the indexes\n",
    "            Yind = discretize(Y, Ydim, Ymin, Ystep)\n",
    "            fullInd = Yind + Zind #Get the index of the joint variable Z,Y\n",
    "            fullJoint[fullInd] = fullJoint[fullInd] + 1 #Update the values\n",
    "            Yjoint[Yind] = Yjoint[Yind] + 1\n",
    "    fullJoint = fullJoint/np.sum(fullJoint) #Normalizing\n",
    "    Yjoint = Yjoint/np.sum(Yjoint)\n",
    "    return(fullJoint, Yjoint)"
   ]
  },
  {
   "cell_type": "code",
   "execution_count": null,
   "metadata": {},
   "outputs": [],
   "source": [
    "def getConditionnal(fullJoint, Yjoint, Zdiscr, Ydiscr, Zdim):\n",
    "    ###\n",
    "    #Get f(Z|Y) using the joint pmfs\n",
    "    fullDiscr = Ydiscr + Zdiscr\n",
    "    conditionnal = np.zeros(fullDiscr) #Initialize the pmf\n",
    "    for (index, x) in np.ndenumerate(fullJoint): #For each index and each value in f(Z,Y) (we use this as it's robust w.r.t. the dimension)\n",
    "        Yind = index[:Ydim] #Extract the index for Y\n",
    "        if Yjoint[Yind] == 0: #Protect from dividing by zero\n",
    "            conditionnal[index] = 0\n",
    "        else:\n",
    "            conditionnal[index] = fullJoint[index]/Yjoint[Yind] #Division\n",
    "    return(conditionnal)"
   ]
  },
  {
   "cell_type": "code",
   "execution_count": null,
   "metadata": {},
   "outputs": [],
   "source": [
    "def formatHistory(sysData):\n",
    "    ###\n",
    "    #Translate a history in (x,u) form to (Z,Y) form (this means formatting Y_{k-1}:=(x_{k-1},u_k))\n",
    "    data = [] #Initialize resulting data\n",
    "    for hist in sysData: #For each (x,u) trajectory\n",
    "        x = hist[0] #States\n",
    "        u = hist[1] #Inputs\n",
    "        L = len(x)-1 #Amount of data points (one less than the full length of the history)\n",
    "        newZ = [0]*L #Z\n",
    "        newY = [0]*L #Y\n",
    "        for i in range(L): #For each point\n",
    "            #The following lines are a safety: if we have 1D states or inputs, adding them will not concatenate the list but create a false value\n",
    "            if isinstance(x[i+1], int) or isinstance(x[i+1],float):\n",
    "                newZ[i] = [x[i+1]] #If x_k is a number, we turn it into a list to fit the binning algorithm's requirements\n",
    "            else:\n",
    "                newZ[i] = x[i+1] #Else we use it as is (which simply means leaving it as a list)\n",
    "            if isinstance(x[i], int) or isinstance(x[i],float): #Same for x_{k-1}\n",
    "                newY[i] = [x[i]]\n",
    "            else:\n",
    "                newY[i] = x[i]\n",
    "            if isinstance(u[i+1], int) or isinstance(u[i+1],float): #Same for u_k\n",
    "                newY[i] = newY[i] + [u[i+1]]\n",
    "            else:\n",
    "                newY[i] = newY[i] + u[i+1]\n",
    "        data = data + [[newZ, newY]] #We add the trajectory to the data\n",
    "    return(np.array(data)) #Returning a numpy array"
   ]
  },
  {
   "cell_type": "code",
   "execution_count": null,
   "metadata": {},
   "outputs": [],
   "source": []
  },
  {
   "cell_type": "code",
   "execution_count": null,
   "metadata": {},
   "outputs": [],
   "source": [
    "#Dimensions of the variables\n",
    "Zdim = 2\n",
    "Ydim = 3\n",
    "\n",
    "#Minimum values (as lists)\n",
    "Zmin = [-np.pi, -5]\n",
    "Ymin = [-np.pi, -5, -2.5]\n",
    "\n",
    "#Discretization steps (as lists)\n",
    "Zstep = [2*np.pi/50, 0.2]\n",
    "Ystep = [2*np.pi/50, 0.2, 0.25]\n",
    "\n",
    "#Amount of discrete bins (as lists)\n",
    "Zdiscr = [50, 50]\n",
    "Ydiscr = [50, 50, 20]"
   ]
  },
  {
   "cell_type": "code",
   "execution_count": null,
   "metadata": {},
   "outputs": [],
   "source": []
  },
  {
   "cell_type": "code",
   "execution_count": null,
   "metadata": {},
   "outputs": [],
   "source": [
    "P = Pendulum()\n",
    "#P.m = 0.5\n",
    "\n",
    "sysData = [0]*100000 #We will take 10000 trajectories\n",
    "for j in range(100000):\n",
    "    x = [0]*100 #Each trajectory is 100 steps long, with a random initial state\n",
    "    u = [0]*100\n",
    "    P.random_init() #Initialize pendulum\n",
    "    x[0] = list(P.state) #Random state\n",
    "    for i in range(99): #There is a 'useless' data point as the nature of a dynamic system implies we have one less input than state.\n",
    "        uk = np.random.uniform(-2.5,2.5) #Pick a random action\n",
    "        P.step(uk) #simulatin step\n",
    "        x[i+1] = list(P.state)\n",
    "        u[i+1] = uk\n",
    "    h = [x,u] #A history, or trajectory, is made out of a history for X and Y.\n",
    "    sysData[j] = h #The dataset is a list of all trajectories\n",
    "dt = formatHistory(sysData) #Give the data a form that the binning code can use\n",
    "\n",
    "(full, Y) = getJointPMFs(dt, Zdim, Zmin, Zstep, Zdiscr, Ydim, Ymin, Ystep, Ydiscr) #Get the joint pmfs with the parameters\n",
    "cond = getConditionnal(full, Y, Zdiscr, Ydiscr, Zdim) #Get the conditional pmf"
   ]
  },
  {
   "cell_type": "code",
   "execution_count": null,
   "metadata": {},
   "outputs": [],
   "source": [
    "np.save('plant_l06_m1.npy',cond)\n",
    "#np.save('plant_l06_m05.npy',cond)"
   ]
  },
  {
   "cell_type": "code",
   "execution_count": null,
   "metadata": {},
   "outputs": [],
   "source": [
    "#To bin the plant for the m=0.5kg pendulum, simply rerun the previous two cells after uncommenting\n",
    "#the second line of each"
   ]
  }
 ],
 "metadata": {
  "kernelspec": {
   "display_name": "Python 3",
   "language": "python",
   "name": "python3"
  },
  "language_info": {
   "codemirror_mode": {
    "name": "ipython",
    "version": 3
   },
   "file_extension": ".py",
   "mimetype": "text/x-python",
   "name": "python",
   "nbconvert_exporter": "python",
   "pygments_lexer": "ipython3",
   "version": "3.8.10"
  }
 },
 "nbformat": 4,
 "nbformat_minor": 4
}
