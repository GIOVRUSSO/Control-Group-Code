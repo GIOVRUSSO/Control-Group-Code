{
 "cells": [
  {
   "cell_type": "code",
   "execution_count": null,
   "metadata": {},
   "outputs": [],
   "source": [
    "import numpy as np\n",
    "from scipy import stats"
   ]
  },
  {
   "cell_type": "code",
   "execution_count": null,
   "metadata": {},
   "outputs": [],
   "source": [
    "def discretize(Z, Zdim, Zmin, Zstep):\n",
    "    ###\n",
    "    #Discretize a variable Z using its dimension Zdim, its minimal values along each axis and the discretization steps\n",
    "    res = [0]*Zdim #n-dimensional index\n",
    "    for i in range(Zdim): #For each dimension\n",
    "        elt = Z[i] #Extract the i-th element\n",
    "        ind = int((elt - Zmin[i])//Zstep[i]) #Discretize\n",
    "        res[i] = ind\n",
    "    return(tuple(res)) #Return as tuple for array indexing\n",
    "\n",
    "def DKL(f,g):\n",
    "    ###\n",
    "    #Calculate the DKL of two 2D pfs\n",
    "    div = 0 #Initialize\n",
    "    for i in range(50):\n",
    "        for j in range(50):\n",
    "            if g[i][j] != 0 and f[i][j] != 0: #For numerical safety we will only integrate over the support of both functions (in practice this is compliant with the definition of the DKL)\n",
    "                div = div + f[i][j]\n",
    "    return(div)"
   ]
  },
  {
   "cell_type": "code",
   "execution_count": null,
   "metadata": {},
   "outputs": [],
   "source": [
    "#Get the input axis\n",
    "u_axis = [-2.5 + (n+0.5)*0.25 for n in range(20)]\n",
    "#Load the plants obtained from the binning (warning, big files)\n",
    "plant_target = np.load('plant_l06_m05.npy')\n",
    "plant_actual = np.load('plant_l06_m1.npy')"
   ]
  },
  {
   "cell_type": "code",
   "execution_count": null,
   "metadata": {},
   "outputs": [],
   "source": []
  },
  {
   "cell_type": "code",
   "execution_count": null,
   "metadata": {},
   "outputs": [],
   "source": [
    "class Pendulum():\n",
    "    def __init__(self):\n",
    "        self.l = 0.6\n",
    "        self.m = 1\n",
    "        self.max_torque = 10\n",
    "        self.max_speed = 5\n",
    "        self.state = np.array([0,0])\n",
    "        self.last_input = None\n",
    "        self.g = 9.81\n",
    "        self.dt = 0.1\n",
    "        self.angle_std = 3*2*np.pi/360\n",
    "        self.speed_std = 0.1\n",
    "        \n",
    "    def random_init(self):\n",
    "        ###\n",
    "        #Random initialization\n",
    "        self.state = np.array([np.random.uniform(-np.pi, np.pi),np.random.uniform(-sefl.max_speed, self.max_speed)])\n",
    "        \n",
    "    def step(self, u):\n",
    "        #Simulation step\n",
    "        u = np.clip(u, -self.max_torque, self.max_torque) #Clip the input as safety\n",
    "        self.last_input = u\n",
    "        accel = u/(self.m*self.l*self.l) + self.g*np.sin(self.state[0])/self.l #Dynamics for the acceleration\n",
    "        \n",
    "        speed = self.state[1]\n",
    "        angle = self.state[0]\n",
    "        \n",
    "        new_speed = speed + accel*self.dt + np.random.normal(0,self.speed_std) #Calculate the new speed\n",
    "        new_speed = np.clip(new_speed, -self.max_speed, self.max_speed) #Clip the speed as safety (in practice the bounds were chosen to ensure this very rarely happens)\n",
    "        \n",
    "        new_angle = angle + speed*self.dt + np.random.normal(0,self.angle_std) #New angle\n",
    "        if new_angle < -np.pi: #Angle is modulo 2\\pi\n",
    "            new_angle = new_angle + 2*np.pi\n",
    "        if new_angle > np.pi:\n",
    "            new_angle = new_angle - 2*np.pi\n",
    "        \n",
    "        self.state = np.array([new_angle, new_speed])\n",
    "        \n",
    "    def set_state(self, angle, speed):\n",
    "        ###\n",
    "        #Explicitely set the state\n",
    "        speed = np.clip(speed, -self.max_speed, self.max_speed)\n",
    "        if angle < -np.pi:\n",
    "            angle = angle + 2*np.pi\n",
    "        if angle > np.pi:\n",
    "            angle = angle - 2*np.pi\n",
    "        self.state = np.array([angle, speed])\n",
    "\n",
    "        \n",
    "    def FPD_step(self, u):\n",
    "        ###\n",
    "        #Perform an FPD step given an expert input, by first getting the corresponding pf and then applying the FPD solution\n",
    "        tpf = stats.norm.pdf(u_axis, u, 0.2) #Input pf\n",
    "        S = np.sum(tpf) #Normalizing input pf\n",
    "        target_pf = [x/S for x in tpf]\n",
    "        \n",
    "        ind = discretize(self.state, 2, [-np.pi, -5], [2*np.pi/50, 0.2]) #Discretize the state index for DKL calculation\n",
    "        \n",
    "        pf = np.zeros(20) #Initialize pf\n",
    "        for i in range(20):\n",
    "            f = plant_actual[ind[0],ind[1],i] #Get the actual and demonstrator plants from the binned data\n",
    "            g = plant_target[ind[0],ind[1],i]\n",
    "            pf[i] = target_pf[i]*np.exp(-DKL(f,g)) #Calculate the DKL for each possible input, get corresponding probability\n",
    "        S2 = np.sum(pf) #Normalize resulting policy\n",
    "        pf = [x/S2 for x in pf]\n",
    "        \n",
    "        action = np.random.choice(u_axis, p=pf) #Select a random action from the new policy\n",
    "        \n",
    "        self.step(action) #Simulation step"
   ]
  },
  {
   "cell_type": "code",
   "execution_count": null,
   "metadata": {},
   "outputs": [],
   "source": []
  },
  {
   "cell_type": "code",
   "execution_count": null,
   "metadata": {},
   "outputs": [],
   "source": [
    "###\n",
    "#The following cells are dedicated to building the MPC controller used for the expert policy. Refer to the MPC file for details"
   ]
  },
  {
   "cell_type": "code",
   "execution_count": null,
   "metadata": {},
   "outputs": [],
   "source": [
    "import numpy as np\n",
    "import sys\n",
    "from casadi import *\n",
    "import do_mpc\n",
    "\n",
    "\n",
    "model_type = 'continuous' # either 'discrete' or 'continuous'\n",
    "model = do_mpc.model.Model(model_type)"
   ]
  },
  {
   "cell_type": "code",
   "execution_count": null,
   "metadata": {},
   "outputs": [],
   "source": [
    "theta = model.set_variable(var_type='_x', var_name='theta', shape=(1,1))\n",
    "dtheta = model.set_variable(var_type='_x', var_name='dtheta', shape=(1,1))\n",
    "\n",
    "u = model.set_variable(var_type='_u', var_name='u', shape=(1,1))"
   ]
  },
  {
   "cell_type": "code",
   "execution_count": null,
   "metadata": {},
   "outputs": [],
   "source": [
    "m = 0.5\n",
    "l = 0.6\n",
    "\n",
    "g = 9.81"
   ]
  },
  {
   "cell_type": "code",
   "execution_count": null,
   "metadata": {},
   "outputs": [],
   "source": [
    "model.set_rhs('theta',dtheta)\n",
    "model.set_rhs('dtheta', g*sin(theta)/l + u/(m*l*l))"
   ]
  },
  {
   "cell_type": "code",
   "execution_count": null,
   "metadata": {},
   "outputs": [],
   "source": [
    "model.setup()"
   ]
  },
  {
   "cell_type": "code",
   "execution_count": null,
   "metadata": {},
   "outputs": [],
   "source": [
    "mpc = do_mpc.controller.MPC(model)"
   ]
  },
  {
   "cell_type": "code",
   "execution_count": null,
   "metadata": {},
   "outputs": [],
   "source": [
    "setup_mpc = {\n",
    "    'n_horizon': 20,\n",
    "    't_step': 0.1,\n",
    "    'n_robust': 0,\n",
    "    'store_full_solution': True,\n",
    "}\n",
    "mpc.set_param(**setup_mpc)"
   ]
  },
  {
   "cell_type": "code",
   "execution_count": null,
   "metadata": {},
   "outputs": [],
   "source": [
    "l_term = theta*theta + 0.1*dtheta*dtheta\n",
    "m_term = theta*theta + 0.5*dtheta*dtheta\n",
    "mpc.set_objective(mterm=m_term, lterm=l_term)"
   ]
  },
  {
   "cell_type": "code",
   "execution_count": null,
   "metadata": {},
   "outputs": [],
   "source": [
    "mpc.bounds['lower','_u', 'u'] = -2\n",
    "mpc.bounds['upper','_u', 'u'] = 2"
   ]
  },
  {
   "cell_type": "code",
   "execution_count": null,
   "metadata": {},
   "outputs": [],
   "source": [
    "mpc.setup()"
   ]
  },
  {
   "cell_type": "code",
   "execution_count": null,
   "metadata": {},
   "outputs": [],
   "source": [
    "x0 = np.array([np.pi, 0]).reshape(-1,1)\n",
    "mpc.x0 = x0"
   ]
  },
  {
   "cell_type": "code",
   "execution_count": null,
   "metadata": {},
   "outputs": [],
   "source": [
    "mpc.set_initial_guess()"
   ]
  },
  {
   "cell_type": "code",
   "execution_count": null,
   "metadata": {},
   "outputs": [],
   "source": [
    "mpc.reset_history()"
   ]
  },
  {
   "cell_type": "code",
   "execution_count": null,
   "metadata": {},
   "outputs": [],
   "source": []
  },
  {
   "cell_type": "code",
   "execution_count": null,
   "metadata": {},
   "outputs": [],
   "source": [
    "%%capture #Suppress output\n",
    "fullH = np.zeros((50,299))\n",
    "uH = np.zeros((50,299))\n",
    "\n",
    "for j in range(50): #Perform 50 simulations\n",
    "    hist = [[0,0]]*nSteps\n",
    "    uhist = [0]*nSteps\n",
    "\n",
    "    P1 = Pendulum() #Initialize a new pendulum\n",
    "    P1.m = m\n",
    "    P1.set_state(np.pi,0) #Set the new pendulum to the initial state\n",
    "    mpc.reset_history()\n",
    "    for i in range(nSteps-1): #For each step in the simulation\n",
    "        state = P1.state #Get the state\n",
    "        hist[i+1] = state #Log the state\n",
    "        x0 = state.reshape(-1,1)\n",
    "        u0 = mpc.make_step(x0) #Get the expert action\n",
    "        u = u0[0][0]\n",
    "        P1.FPD_step(u) #Perform a FPD step: get expert policy from action, derive actual policy, sample, simulate\n",
    "        uhist[i] = u #Log action\n",
    "    fullH[j] = [x[0] for x in hist[1:]]\n",
    "    uH[j] = uhist[:299]"
   ]
  },
  {
   "cell_type": "code",
   "execution_count": null,
   "metadata": {},
   "outputs": [],
   "source": [
    "means = [0]*299 #Average and std over the simulations\n",
    "stds = [0]*299\n",
    "for i in range(299):\n",
    "    means[i] = np.mean(fullH[:,i])\n",
    "    stds[i] = np.std(fullH[:,i])"
   ]
  },
  {
   "cell_type": "code",
   "execution_count": null,
   "metadata": {
    "scrolled": true
   },
   "outputs": [],
   "source": [
    "from matplotlib import pyplot as plt\n",
    "from pylab import rcParams\n",
    "plt.rcParams.update({'font.size': 18})\n",
    "\n",
    "\n",
    "x = np.array([x/10 for x in range(299)])\n",
    "y = np.array(means)\n",
    "ci = np.array(stds)\n",
    "\n",
    "fig, ax = plt.subplots()\n",
    "ax.plot(x,y)\n",
    "ax.fill_between(x, (y-ci), (y+ci), color='b', alpha=.1)\n",
    "#ax.set_title('FPD input')\n",
    "ax.set_xlabel('Time')\n",
    "ax.set_ylabel('Angular position')\n",
    "#plt.savefig('fpd_angle_ci.png', bbox_inches = 'tight')"
   ]
  },
  {
   "cell_type": "code",
   "execution_count": null,
   "metadata": {},
   "outputs": [],
   "source": [
    "umeans = [0]*299\n",
    "ustds = [0]*299\n",
    "for i in range(299):\n",
    "    umeans[i] = np.mean(uH[:,i])\n",
    "    ustds[i] = np.std(uH[:,i])"
   ]
  },
  {
   "cell_type": "code",
   "execution_count": null,
   "metadata": {},
   "outputs": [],
   "source": [
    "from matplotlib import pyplot as plt\n",
    "\n",
    "x = np.array([x/10 for x in range(299)])\n",
    "y = np.array(umeans)\n",
    "ci = np.array(ustds)\n",
    "\n",
    "fig, ax = plt.subplots()\n",
    "ax.plot(x,y)\n",
    "ax.fill_between(x, (y-ci), (y+ci), color='b', alpha=.1)\n",
    "#ax.set_title('FPD input')\n",
    "ax.set_xlabel('Time')\n",
    "ax.set_ylabel('Control input')\n",
    "plt.savefig('fpd_input_ci.png', bbox_inches = 'tight')"
   ]
  }
 ],
 "metadata": {
  "kernelspec": {
   "display_name": "Python 3",
   "language": "python",
   "name": "python3"
  },
  "language_info": {
   "codemirror_mode": {
    "name": "ipython",
    "version": 3
   },
   "file_extension": ".py",
   "mimetype": "text/x-python",
   "name": "python",
   "nbconvert_exporter": "python",
   "pygments_lexer": "ipython3",
   "version": "3.8.10"
  }
 },
 "nbformat": 4,
 "nbformat_minor": 4
}
