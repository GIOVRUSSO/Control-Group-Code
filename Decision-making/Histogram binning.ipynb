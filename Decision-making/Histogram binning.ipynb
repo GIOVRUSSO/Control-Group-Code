{
 "cells": [
  {
   "cell_type": "code",
   "execution_count": 91,
   "metadata": {},
   "outputs": [],
   "source": [
    "#This code implements the binning algorithm that can be used to estimate pmfs from raw data\n",
    "#We first give the general code, which estimates any f(Z|Y), and then provide a tool to facilitate its use when estimating plant pmfs\n",
    "#We only give the minimal interface and a few simple examples, please refer to the ReadMe file for more explainations on how to use the code\n",
    "\n",
    "#Code author: Émiland Garrabé"
   ]
  },
  {
   "cell_type": "code",
   "execution_count": 92,
   "metadata": {},
   "outputs": [],
   "source": [
    "import numpy as np"
   ]
  },
  {
   "cell_type": "code",
   "execution_count": 93,
   "metadata": {},
   "outputs": [],
   "source": [
    "def discretize(Z, Zdim, Zmin, Zstep):\n",
    "    ###\n",
    "    #Discretize a variable Z using its dimension Zdim, its minimal values along each axis and the discretization steps\n",
    "    res = [0]*Zdim #n-dimensional index\n",
    "    for i in range(Zdim): #For each dimension\n",
    "        elt = Z[i] #Extract the i-th element\n",
    "        ind = int((elt - Zmin[i])//Zstep[i]) #Discretize\n",
    "        res[i] = ind\n",
    "    return(tuple(res)) #Return as tuple for array indexing"
   ]
  },
  {
   "cell_type": "code",
   "execution_count": 94,
   "metadata": {},
   "outputs": [],
   "source": [
    "def getJointPMFs(data, Zdim, Zmin, Zstep, Zdiscr, Ydim, Ymin, Ystep, Ydiscr):\n",
    "    ###\n",
    "    #Get the joint PMFs for Y and Z,Y using all the info on the variables (dim, mins, steps)\n",
    "    fullDiscr = Ydiscr + Zdiscr #List of the discretization steps (along each dimension) for both Z and Y\n",
    "    fullJoint = np.zeros(fullDiscr) #f(Z,Y)\n",
    "    Yjoint = np.zeros(Ydiscr) #f(Y)\n",
    "    for history in data: #For each trajectory in the dataset\n",
    "        Zhist = history[0] #Extract the histories for Z and Y\n",
    "        Yhist = history[1]\n",
    "        for i in range(len(Zhist)): #For each data point in the trajectory\n",
    "            Z = Zhist[i] #Extract the realization of Z and Y\n",
    "            Y = Yhist[i]\n",
    "            Zind = discretize(Z, Zdim, Zmin, Zstep) #Find the indexes\n",
    "            Yind = discretize(Y, Ydim, Ymin, Ystep)\n",
    "            fullInd = Yind + Zind #Get the index of the joint variable Z,Y\n",
    "            fullJoint[fullInd] = fullJoint[fullInd] + 1 #Update the values\n",
    "            Yjoint[Yind] = Yjoint[Yind] + 1\n",
    "    fullJoint = fullJoint/np.sum(fullJoint) #Normalizing\n",
    "    Yjoint = Yjoint/np.sum(Yjoint)\n",
    "    return(fullJoint, Yjoint)"
   ]
  },
  {
   "cell_type": "code",
   "execution_count": 95,
   "metadata": {},
   "outputs": [],
   "source": [
    "def getConditionnal(fullJoint, Yjoint, Zdiscr, Ydiscr, Zdim):\n",
    "    ###\n",
    "    #Get f(Z|Y) using the joint pmfs\n",
    "    fullDiscr = Ydiscr + Zdiscr\n",
    "    conditionnal = np.zeros(fullDiscr) #Initialize the pmf\n",
    "    for (index, x) in np.ndenumerate(fullJoint): #For each index and each value in f(Z,Y) (we use this as it's robust w.r.t. the dimension)\n",
    "        Yind = index[:Ydim] #Extract the index for Y\n",
    "        if Yjoint[Yind] == 0: #Protect from dividing by zero\n",
    "            conditionnal[index] = 0\n",
    "        else:\n",
    "            conditionnal[index] = fullJoint[index]/Yjoint[Yind] #Division\n",
    "    return(conditionnal)"
   ]
  },
  {
   "cell_type": "code",
   "execution_count": null,
   "metadata": {},
   "outputs": [],
   "source": []
  },
  {
   "cell_type": "code",
   "execution_count": 96,
   "metadata": {},
   "outputs": [],
   "source": [
    "def formatHistory(sysData):\n",
    "    ###\n",
    "    #Translate a history in (x,u) form to (Z,Y) form (this means formatting Y_{k-1}:=(x_{k-1},u_k))\n",
    "    data = [] #Initialize resulting data\n",
    "    for hist in sysData: #For each (x,u) trajectory\n",
    "        x = hist[0] #States\n",
    "        u = hist[1] #Inputs\n",
    "        L = len(x)-1 #Amount of data points (one less than the full length of the history)\n",
    "        newZ = [0]*L #Z\n",
    "        newY = [0]*L #Y\n",
    "        for i in range(L): #For each point\n",
    "            #The following lines are a safety: if we have 1D states or inputs, adding them will not concatenate the list but create a false value\n",
    "            if isinstance(x[i+1], int) or isinstance(x[i+1],float):\n",
    "                newZ[i] = [x[i+1]] #If x_k is a number, we turn it into a list to fit the binning algorithm's requirements\n",
    "            else:\n",
    "                newZ[i] = x[i+1] #Else we use it as is (which simply means leaving it as a list)\n",
    "            if isinstance(x[i], int) or isinstance(x[i],float): #Same for x_{k-1}\n",
    "                newY[i] = [x[i]]\n",
    "            else:\n",
    "                newY[i] = x[i]\n",
    "            if isinstance(u[i+1], int) or isinstance(u[i+1],float): #Same for u_k\n",
    "                newY[i] = newY[i] + [u[i+1]]\n",
    "            else:\n",
    "                newY[i] = newY[i] + u[i+1]\n",
    "        data = data + [[newZ, newY]] #We add the trajectory to the data\n",
    "    return(np.array(data)) #Returning a numpy array"
   ]
  },
  {
   "cell_type": "code",
   "execution_count": null,
   "metadata": {},
   "outputs": [],
   "source": []
  },
  {
   "cell_type": "code",
   "execution_count": null,
   "metadata": {},
   "outputs": [],
   "source": []
  },
  {
   "cell_type": "code",
   "execution_count": 97,
   "metadata": {},
   "outputs": [],
   "source": [
    "#We give the following example for a system with the following dynamics:\n",
    "#x_{k+1} = x_k + u_{k+1} + N(0,1) (normal law)\n",
    "#Both the state and the input are 1D, which makes the joint variable Y 2D. We use coarse discretizations to make the example quick to execute.\n",
    "\n",
    "#Dimensions of the variables\n",
    "Zdim = 1\n",
    "Ydim = 2\n",
    "\n",
    "#Minimum values (as lists)\n",
    "Zmin = [0]\n",
    "Ymin = [0,0]\n",
    "\n",
    "#Discretization steps (as lists)\n",
    "Zstep = [1]\n",
    "Ystep = [1,1]\n",
    "\n",
    "#Amount of discrete bins (as lists)\n",
    "Zdiscr = [10]\n",
    "Ydiscr = [10,2]\n",
    "\n",
    "#We will only generate a trajectory, with 100000 elements.\n",
    "#Notice how the elements are simply added as ints/floats to showcase how formatHistory handles such cases by adding turning the data points into lists.\n",
    "x = [0]*100000 #Initiates state and input trajectory\n",
    "u = [0]*100000\n",
    "for i in range(99999): #There is a useless point as the nature of a dynamic system implies we have one less input than state.\n",
    "    uk = np.random.randint(2) #Pick a random action\n",
    "    xm1 = x[i] #Look up the previous state\n",
    "    xk = np.random.normal(uk + xm1,1) #New state following the noisy dynamics\n",
    "    if xk>9: #Safety to prevent indexes that are out of the discretization bounds.\n",
    "        xk = 9\n",
    "    if xk<0:\n",
    "        xk=0\n",
    "    x[i+1] = xk#[xk]\n",
    "    u[i+1] = uk#[uk]\n",
    "h = [x,u] #A history, or trajectory, is made out of a history for Z and Y.\n",
    "sysData = [h] #The dataset is a list of all trajectories, in our case only one\n",
    "dt = formatHistory(sysData) #Give the data a form that the binning code can use\n",
    "\n",
    "(full, Y) = getJointPMFs(dt, Zdim, Zmin, Zstep, Zdiscr, Ydim, Ymin, Ystep, Ydiscr) #Get the joint pmfs with the parameters\n",
    "cond = getConditionnal(full, Y, Zdiscr, Ydiscr, Zdim) #Get the conditional pmf"
   ]
  },
  {
   "cell_type": "code",
   "execution_count": 98,
   "metadata": {},
   "outputs": [
    {
     "data": {
      "text/plain": [
       "[<matplotlib.lines.Line2D at 0x7f6442b0d6d0>]"
      ]
     },
     "execution_count": 98,
     "metadata": {},
     "output_type": "execute_result"
    },
    {
     "data": {
      "image/png": "[encoded data removed]",
      "text/plain": [
       "<Figure size 432x288 with 1 Axes>"
      ]
     },
     "metadata": {
      "needs_background": "light"
     },
     "output_type": "display_data"
    }
   ],
   "source": [
    "#As an example, we plot some of the conditional pmfs\n",
    "#cond being a multidimensional array, the indew must be the indexes for the desired x_{k-1} followed by the indexes for the desired u_k\n",
    "#In the case of a multidimensional state the visualization can become difficult.\n",
    "#Note how we use the function discretize to automatically generate the index for which we want to visualize the pmf. This can be handy to directly access f(x_k|x_{k-1},u_k)\n",
    "import matplotlib.pyplot as plt\n",
    "plt.plot(cond[discretize([3,0], Ydim, Ymin, Ystep)])"
   ]
  }
 ],
 "metadata": {
  "kernelspec": {
   "display_name": "Python 3",
   "language": "python",
   "name": "python3"
  },
  "language_info": {
   "codemirror_mode": {
    "name": "ipython",
    "version": 3
   },
   "file_extension": ".py",
   "mimetype": "text/x-python",
   "name": "python",
   "nbconvert_exporter": "python",
   "pygments_lexer": "ipython3",
   "version": "3.8.2"
  }
 },
 "nbformat": 4,
 "nbformat_minor": 4
}
